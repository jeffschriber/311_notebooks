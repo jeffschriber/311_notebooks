{
 "cells": [
  {
   "cell_type": "code",
   "execution_count": null,
   "id": "a5946552",
   "metadata": {},
   "outputs": [],
   "source": [
    "import psi4\n",
    "import numpy as np\n",
    "import matplotlib\n",
    "import matplotlib.pyplot as plt"
   ]
  },
  {
   "cell_type": "markdown",
   "id": "31a6e74a",
   "metadata": {},
   "source": [
    "# NMR Determination of Keto-Enol Equilibrium Constants\n",
    "\n",
    "## I. Data Recording"
   ]
  },
  {
   "cell_type": "markdown",
   "id": "aa6f71a2",
   "metadata": {},
   "source": [
    "1. Record the chemical shifts, multiplicities, integral values, number of hydrogens, whether its part of the keto or enol, and the specific assignments in the following tables (one for each spectrum). In the final column, indicate if you intend to use this peak in determining the equilibrium constant."
   ]
  },
  {
   "cell_type": "markdown",
   "id": "0646084a",
   "metadata": {},
   "source": [
    "Acetylacetone in CDCl${}_3$ (room temp)\n",
    "\n",
    "|$\\delta$|Mult.|Integration|nH|Assignment| Keto or Enol?|Use for $K_c$?|\n",
    "|-|-|-|-|-|-|-|"
   ]
  },
  {
   "cell_type": "markdown",
   "id": "ec97a763",
   "metadata": {},
   "source": [
    "Acetylacetone in CDCl${}_3$ (Heated at ${80}^\\circ$C)\n",
    "\n",
    "|$\\delta$|Mult.|Integration|nH|Assignment| Keto or Enol?|Use for $K_c$?|\n",
    "|-|-|-|-|-|-|-|"
   ]
  },
  {
   "cell_type": "markdown",
   "id": "15c5794c",
   "metadata": {},
   "source": [
    "Acetylacetone in CH${}_3$OD (room temp)\n",
    "\n",
    "|$\\delta$|Mult.|Integration|nH|Assignment| Keto or Enol?|Use for $K_c$?|\n",
    "|-|-|-|-|-|-|-|"
   ]
  },
  {
   "cell_type": "markdown",
   "id": "ac8a70c3",
   "metadata": {},
   "source": [
    "Ethylacetoacetate in CDCl${}_3$ (room temp)\n",
    "\n",
    "|$\\delta$|Mult.|Integration|nH|Assignment| Keto or Enol?|Use for $K_c$?|\n",
    "|-|-|-|-|-|-|-|"
   ]
  },
  {
   "cell_type": "markdown",
   "id": "f954125b",
   "metadata": {},
   "source": [
    "Ethylacetoacetate in CDCl${}_3$ (Heated at ${80}^\\circ$C)\n",
    "\n",
    "|$\\delta$|Mult.|Integration|nH|Assignment| Keto or Enol?|Use for $K_c$?|\n",
    "|-|-|-|-|-|-|-|"
   ]
  },
  {
   "cell_type": "markdown",
   "id": "2791697c",
   "metadata": {},
   "source": [
    "## II. Determination of Constants"
   ]
  },
  {
   "cell_type": "markdown",
   "id": "a0996cb6",
   "metadata": {},
   "source": [
    "In the six cells below, compute your value of $K_c$ for each solution at the low and high temperatures. Be sure to print them, and also print some sort of label for them. Use variables as you like, but I ask that you do all of the computing here and not in your notebook. Recall that the equation for the equilibrium constant is,\n",
    "$$K_c = \\frac{[enol]}{[keto]} = \\frac{\\frac{\\sum \\rm{Integration~for~enolH}}{\\rm{total~enol~H}}}{\\frac{\\sum \\rm{Integration~for~keto~H}}{\\rm{total~keto~H}}} $$"
   ]
  },
  {
   "cell_type": "code",
   "execution_count": null,
   "id": "561e3014",
   "metadata": {},
   "outputs": [],
   "source": []
  },
  {
   "cell_type": "code",
   "execution_count": null,
   "id": "e5ca915d",
   "metadata": {},
   "outputs": [],
   "source": []
  },
  {
   "cell_type": "code",
   "execution_count": null,
   "id": "a553390a",
   "metadata": {},
   "outputs": [],
   "source": []
  },
  {
   "cell_type": "code",
   "execution_count": null,
   "id": "7a7c4ec8",
   "metadata": {},
   "outputs": [],
   "source": []
  },
  {
   "cell_type": "code",
   "execution_count": null,
   "id": "8c43ff38",
   "metadata": {},
   "outputs": [],
   "source": []
  },
  {
   "cell_type": "markdown",
   "id": "64be1b64",
   "metadata": {},
   "source": [
    "## III. Theoretical Investigation\n",
    "\n",
    "While we cannot compute NMR spectra theoretically, we can calculate the total energies of our reactants and products, which we can relate to our equilibrium constant. Recall our definition of $\\Delta G^\\circ$,\n",
    "$$\\Delta G^\\circ = -RT\\ln K_c$$.\n",
    "The free energy is related to the total enthalpy and entropy using,\n",
    "$$\\Delta G^\\circ = \\Delta H^\\circ - T\\Delta S$$\n",
    "In this theoretical investigation, we will compare the total energies of the keto and enol forms, as well as compute the $\\Delta G^\\circ$ and $K_c$ using theoretical results."
   ]
  },
  {
   "cell_type": "markdown",
   "id": "5f884506",
   "metadata": {},
   "source": [
    "1. Obtain a geometry. Using avogadro, build your molecules. You will need coordinates for both the keto and enol forms. Here, let's just do acetlyacetone.\n",
    "\n",
    "2. In the two cells below, optimize your geometries using the wB97x method and the cc-pVDZ basis set. Think very carefully about what the 3D structure should look like, if you give the program a \"bad\" structure, it will take a very long time to optimize. If you run into trouble, find paste the current coordinates (the ones that appear closest to the bottom of the output) to see where the optimization is. Another trick you can use is to optimize the structure with a cheaper method (HF) and then use that output in your optimization."
   ]
  },
  {
   "cell_type": "code",
   "execution_count": null,
   "id": "c23e7010",
   "metadata": {},
   "outputs": [],
   "source": [
    "psi4.geometry(\"\"\"\n",
    "\n",
    "\"\"\")\n",
    "\n",
    "psi4.optimize()"
   ]
  },
  {
   "cell_type": "code",
   "execution_count": null,
   "id": "0bc68c29",
   "metadata": {},
   "outputs": [],
   "source": [
    "psi4.geometry(\"\"\"\n",
    "\n",
    "\"\"\")\n",
    "\n",
    "psi4.optimize()"
   ]
  },
  {
   "cell_type": "markdown",
   "id": "4c04a01c",
   "metadata": {},
   "source": [
    "If you spend a lot of time trying to get the optimizations to work, but they still fail, use the sensible structures you made in avogadro (certainly using its energy minimization tool). Indicate here if you do so."
   ]
  },
  {
   "cell_type": "markdown",
   "id": "80e07268",
   "metadata": {},
   "source": [
    "3. Now, we need to calculate energies and thermodynamic data using the optimized geometries. Paste your optimized geometries in each input below, and then run the job. You also need to input the method/basis. \n",
    "\n",
    "  Psi4 can compute thermodynamic energies, but an input temperature is needed. If you have done the experiment, put in your experimental temperatures, play around with this, record the energies at both room temp and the elevated temp. Just use 298 if you haven't yet done the experimental part yet."
   ]
  },
  {
   "cell_type": "code",
   "execution_count": null,
   "id": "a0c8e32a",
   "metadata": {},
   "outputs": [],
   "source": [
    "mol = psi4.geometry(\"\"\"\n",
    "\n",
    "\"\"\")\n",
    "e, wfn = psi4.energy(, return_wfn=True)\n",
    "\n",
    "# Sets the temperature\n",
    "# Put your temp after the colon (:)\n",
    "psi4.set_options({'T':})\n",
    "\n",
    "psi4.frequency('wB97x/cc-pvdz')"
   ]
  },
  {
   "cell_type": "code",
   "execution_count": null,
   "id": "da35899c",
   "metadata": {},
   "outputs": [],
   "source": [
    "mol = psi4.geometry(\"\"\"\n",
    "\n",
    "\"\"\")\n",
    "e, wfn = psi4.energy(, return_wfn=True)\n",
    "\n",
    "# Sets the temperature\n",
    "# Put your temp after the colon (:)\n",
    "psi4.set_options({'T':})\n",
    "\n",
    "psi4.frequency('wB97x/cc-vdz')"
   ]
  },
  {
   "cell_type": "markdown",
   "id": "05567b50",
   "metadata": {},
   "source": [
    "4. Calculate your $\\Delta G^\\circ_{\\rm{tautomerization}}$ by subtracting your enol $\\Delta G^\\circ$ from your keto $\\Delta G^\\circ$. "
   ]
  },
  {
   "cell_type": "code",
   "execution_count": null,
   "id": "69ca7357",
   "metadata": {},
   "outputs": [],
   "source": []
  },
  {
   "cell_type": "markdown",
   "id": "0c48200e",
   "metadata": {},
   "source": [
    "5. Use this $\\Delta G^\\circ$, and your temperature used, to calculate the equilibrium constant."
   ]
  },
  {
   "cell_type": "code",
   "execution_count": null,
   "id": "4bb2825b",
   "metadata": {},
   "outputs": [],
   "source": []
  },
  {
   "cell_type": "markdown",
   "id": "3b0d2db4",
   "metadata": {},
   "source": [
    "## IV. Written Responses"
   ]
  },
  {
   "cell_type": "markdown",
   "id": "ed6adebd",
   "metadata": {},
   "source": [
    "1. You used NMR in this experiment to determine the concentrations of our compounds. Could you have used (a) IR, (B) UV-VIS, or (C) a titration method to get the same results? Why or why not?"
   ]
  },
  {
   "cell_type": "markdown",
   "id": "1ca2a856",
   "metadata": {},
   "source": []
  },
  {
   "cell_type": "markdown",
   "id": "0559269e",
   "metadata": {},
   "source": [
    "3. There were signals that could not be used for calculating $K_c$. Which were they and why could they not be used?"
   ]
  },
  {
   "cell_type": "markdown",
   "id": "fa79978d",
   "metadata": {},
   "source": []
  },
  {
   "cell_type": "markdown",
   "id": "53d24b96",
   "metadata": {},
   "source": [
    "4. How do your values compare to those in the literature? How reliable do you think your results are?"
   ]
  },
  {
   "cell_type": "markdown",
   "id": "132923a4",
   "metadata": {},
   "source": []
  },
  {
   "cell_type": "markdown",
   "id": "a2fc47e0",
   "metadata": {},
   "source": [
    "5. Compare your results for acetylacetone and ethylacetoacetate in deuterated chloroform. Which compound has the higher concentration of enol form? What reasons can you offer to explain this result?"
   ]
  },
  {
   "cell_type": "markdown",
   "id": "8a32396a",
   "metadata": {},
   "source": []
  },
  {
   "cell_type": "markdown",
   "id": "5fd16729",
   "metadata": {},
   "source": [
    "6. Compare your values of $K_c$ for acetylacetone in each solvent. What does your result suggest regarding the relative polarity of the enol and keto forms? Which form is favored by hydrogen bonding and why?"
   ]
  },
  {
   "cell_type": "markdown",
   "id": "cf957811",
   "metadata": {},
   "source": []
  },
  {
   "cell_type": "markdown",
   "id": "5a563f65",
   "metadata": {},
   "source": [
    "7. Compare your values of $\\Delta G^\\circ$ for each compound with your theoretical calculations. Do they agree at all? What may cause some disagreement?"
   ]
  },
  {
   "cell_type": "markdown",
   "id": "c678be60",
   "metadata": {},
   "source": []
  },
  {
   "cell_type": "markdown",
   "id": "87d22aa2",
   "metadata": {},
   "source": [
    "8. Did increasing the temperature have the same effect on $K_c$ for each compound/solvent mixture? Discuss the trends you saw and provide some explanation for them."
   ]
  },
  {
   "cell_type": "markdown",
   "id": "7d862b8a",
   "metadata": {},
   "source": []
  }
 ],
 "metadata": {
  "kernelspec": {
   "display_name": "Python 3 (ipykernel)",
   "language": "python",
   "name": "python3"
  },
  "language_info": {
   "codemirror_mode": {
    "name": "ipython",
    "version": 3
   },
   "file_extension": ".py",
   "mimetype": "text/x-python",
   "name": "python",
   "nbconvert_exporter": "python",
   "pygments_lexer": "ipython3",
   "version": "3.9.18"
  }
 },
 "nbformat": 4,
 "nbformat_minor": 5
}
