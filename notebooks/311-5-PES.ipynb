{
 "cells": [
  {
   "cell_type": "code",
   "execution_count": null,
   "id": "b9ca4834",
   "metadata": {},
   "outputs": [],
   "source": [
    "import psi4\n",
    "import numpy as np\n",
    "import matplotlib.pyplot as plt"
   ]
  },
  {
   "cell_type": "markdown",
   "id": "3fa7d477",
   "metadata": {},
   "source": [
    "# Calculating Spectroscopic Constants from a Potential Energy Surface\n",
    "\n",
    "Adapted from \"Calculating Spectroscopic Constants from a Potential Energy Surface\" written by Dr Ashler Ringer McDonald and Dr Dominic A. Sirianni.\n",
    "\n",
    "The spectroscopic constants for a diatomic molecule can be calculated from a series of potential energies computed for different bond separations. In this lab, you will calculate the spectroscopic constants for several diatomic molecules and compare their force constants. You will also study the effect of the harmonic approximation in determining the vibrational energy levels. \n"
   ]
  },
  {
   "cell_type": "markdown",
   "id": "044e0aa6",
   "metadata": {},
   "source": [
    "## A. Computing a potential energy surface\n",
    "\n",
    "So far, we have learned how to calculate spectroscopic constants using data we've collected, in combination with equations from harmonic oscillator and rigid rotator models. We have also used computational tools to calculate rotational $B$ constants using a variety of ab initio methods.\n",
    "\n",
    "For reasons we will not go in to, computation of vibrational constants from purely theoretical tools can be quite tricky. Rather than finding an analytical solution (like we did for $B$), we can only get an approximate solution using a potential energy surface. On top of that, the potential energy surface we use will not be exact, so we'll need to test out a few methods there as well.\n",
    "\n",
    "### 1. Getting started with potential energy surfaces\n",
    "\n",
    "A potential energy surface (PES) is, at its core, a function that maps a set of atomic positions to a potential energy. While these can be rather complicated, we will stick to the simplest 1-dimensional case since we are interested in spectroscopic constants of diatomics.\n",
    "\n",
    "While we only need about seven points for our vibrational analysis, let's compute and plot a larger surface to see what it looks like.\n",
    "\n",
    "The below cell has code to define our molecule and interatomic distances (rvals), and it will also run the energies and store them in a list. This molecule is carbon monoxide."
   ]
  },
  {
   "cell_type": "code",
   "execution_count": null,
   "id": "c8938779",
   "metadata": {},
   "outputs": [],
   "source": [
    "# A template for our molecule\n",
    "mol_templ = \"\"\"\n",
    "C\n",
    "O 1 **R**\"\"\"\n",
    "\n",
    "#The interatomic distances\n",
    "# Here, linspace will return a list\n",
    "# of 25 numbers between 0.8 and 2.0, evenly spaced\n",
    "rvals = np.linspace(0.8,2.0, 25)\n",
    "\n",
    "# We will store the results here\n",
    "energies = []\n",
    "\n",
    "# This loops over each distance and computes the energy\n",
    "for r in rvals:\n",
    "    molecule = psi4.geometry(mol_templ.replace(\"**R**\", str(r)))\n",
    "    # The method is specified here\n",
    "    energy = psi4.energy(\"SCF/cc-pVDZ\", molecule=molecule)\n",
    "    energies.append(energy)"
   ]
  },
  {
   "cell_type": "markdown",
   "id": "eda52cbe",
   "metadata": {},
   "source": [
    "Let's plot the PES to see what it looks like:"
   ]
  },
  {
   "cell_type": "code",
   "execution_count": null,
   "id": "cd801538",
   "metadata": {},
   "outputs": [],
   "source": [
    "plt.scatter(rvals, energies)"
   ]
  },
  {
   "cell_type": "markdown",
   "id": "7672b8f9",
   "metadata": {},
   "source": [
    "Looking at the plot, we can see that the minimum bond length is around 1.1 angstrom. Let's run a quick computation *at the same level of theory* to verify the bond length. No need to use Avogadro here, we can just provide a reasonable guess input."
   ]
  },
  {
   "cell_type": "code",
   "execution_count": null,
   "id": "6d6f80ca",
   "metadata": {},
   "outputs": [],
   "source": [
    "diatomic = psi4.geometry(\"\"\"\n",
    "C\n",
    "O 1 1.1\n",
    "\"\"\")\n",
    "\n",
    "psi4.optimize(\"SCF/cc-pvdz\")"
   ]
  },
  {
   "cell_type": "markdown",
   "id": "5c9c062d",
   "metadata": {},
   "source": [
    "Looking at the bottom of the file, we can see that our bond length is 1.110 angstrom.\n",
    "\n",
    "### 2. Using a PES to compute spectroscopic constants\n",
    "\n",
    "Now, we can use this information to compute many of our spectroscopic constants (again, note any differences between our previous notation and that output here). What we need to do is to provide a set of points and energies centered around the minimum. So, let's compute a smaller part of our potential, store the energies and rvalues, and then call the appropriate function in psi4. "
   ]
  },
  {
   "cell_type": "code",
   "execution_count": null,
   "id": "337c4c80",
   "metadata": {},
   "outputs": [],
   "source": [
    "## We'll start with the same code as above, but we will manually type in 7 r-values\n",
    "# A template for our molecule\n",
    "mol_templ = \"\"\"\n",
    "C\n",
    "O 1 **R**\"\"\"\n",
    "\n",
    "#The interatomic distances\n",
    "rvals = [0.95, 1.0, 1.05, 1.1, 1.15, 1.2, 1.25]\n",
    "\n",
    "# We will store the results here\n",
    "energies = []\n",
    "\n",
    "# This loops over each distance and computes the energy\n",
    "for r in rvals:\n",
    "    molecule = psi4.geometry(mol_templ.replace(\"**R**\", str(r)))\n",
    "    # The method is specified here\n",
    "    energy = psi4.energy(\"SCF/cc-pVDZ\", molecule=molecule)\n",
    "    energies.append(energy)\n",
    "\n"
   ]
  },
  {
   "cell_type": "markdown",
   "id": "ae752b53",
   "metadata": {},
   "source": [
    "Now we can call the part of the code that computes the constants:"
   ]
  },
  {
   "cell_type": "code",
   "execution_count": null,
   "id": "f205ec7a",
   "metadata": {},
   "outputs": [],
   "source": [
    "# Below, we have our psi4 function that will compute, print and plot\n",
    "# our spectroscopic constants\n",
    "data = psi4.diatomic.anharmonicity(rvals, energies, plot_fit=\".\")\n",
    "print(data)"
   ]
  },
  {
   "cell_type": "markdown",
   "id": "17c0af2b",
   "metadata": {},
   "source": [
    "We also have this information in a python object called 'data', which we can access later if we want. "
   ]
  },
  {
   "cell_type": "markdown",
   "id": "045b3aba",
   "metadata": {},
   "source": [
    "## B. Spectroscopic constants of CO\n",
    "\n",
    "In the remainder of this notebook, you will use the previous code along with equations given last week to compute spectroscopic constants for CO, HCl, and DCl. The HCl and DCl data will be used in your written reports, and I will have a few questions regarding the CO data, though this does not go into your written reports."
   ]
  },
  {
   "cell_type": "markdown",
   "id": "dc69a65a",
   "metadata": {},
   "source": [
    " 1. Using the cell below (use the same cell, just overwrite the output), perform a geometry optimization of the CO molecule using SCF, MP2, CCSD, and CCSD(T) with both cc-pVDZ and cc-pVTZ basis sets. There are a total of eight geometry optimizations. For each computation, record the optimized bond length (in angstrom) in the table below."
   ]
  },
  {
   "cell_type": "code",
   "execution_count": null,
   "id": "58a1fc7f",
   "metadata": {},
   "outputs": [],
   "source": [
    "### run your calculations here\n",
    "diatomic = psi4.geometry(\"\"\"\n",
    "C\n",
    "O 1 1.1\n",
    "\"\"\")\n",
    "\n",
    "psi4.optimize(\"scf/cc-pvtz\")\n"
   ]
  },
  {
   "cell_type": "markdown",
   "id": "944d890c",
   "metadata": {},
   "source": [
    "|Method|cc-pVDZ|cc-pVTZ|\n",
    "|-      |-|-|\n",
    "|SCF    | | |\n",
    "|MP2    | | |\n",
    "|CCSD   | | |\n",
    "|CCSD(T)| | |"
   ]
  },
  {
   "cell_type": "markdown",
   "id": "9eb1d7c5",
   "metadata": {},
   "source": [
    " 2. Using the same set of four methods, use the cell below to run the anharmonicity analysis using a 7 point fit. Be sure to center your seven points around the appropriate $r_e$. Tabulate the constants from each method in the table that follows. You only need to do this for the cc-pVTZ basis set. In the final column, input experimental data for CO by looking up values from the NIST webpage."
   ]
  },
  {
   "cell_type": "code",
   "execution_count": null,
   "id": "ca1ca978",
   "metadata": {},
   "outputs": [],
   "source": [
    "### run your seven-point PES calculations here\n",
    "\n",
    "\n"
   ]
  },
  {
   "cell_type": "code",
   "execution_count": null,
   "id": "30e9ff27",
   "metadata": {},
   "outputs": [],
   "source": [
    "## Run the anharmonicity function here\n"
   ]
  },
  {
   "cell_type": "markdown",
   "id": "69445b68",
   "metadata": {},
   "source": [
    "|Constant|SCF|MP2|CCSD|CCSD(T)| Exp.(NIST)|\n",
    "|-            |-|-|-|-|-|\n",
    "|$r_e$        | | | | | |\n",
    "|$\\nu_e$      | | | | | |\n",
    "|$\\nu_e\\chi_e$| | | | | |\n",
    "|$k$          | | | | | |\n",
    "|$B_e$        | | | | | |\n",
    "|$\\alpha_e$   | | | | | |\n",
    "|$D_e$        | | | | | |"
   ]
  },
  {
   "cell_type": "markdown",
   "id": "44d6c633",
   "metadata": {},
   "source": [
    " 3. In the cell below, elaborate on your findings above. Which methods are the most accurate with respect to experiment? Which constants are relatively insensitive to the level of theory?"
   ]
  },
  {
   "cell_type": "markdown",
   "id": "41cdf682",
   "metadata": {},
   "source": []
  },
  {
   "cell_type": "markdown",
   "id": "0382417d",
   "metadata": {},
   "source": [
    "## C. Spectroscopic constants of HCl\n",
    "\n",
    "We will now repeat the above exercise for the HCl molecule."
   ]
  },
  {
   "cell_type": "markdown",
   "id": "04a08994",
   "metadata": {},
   "source": [
    " 2. Using the cell below (use the same cell, just overwrite the output), perform a geometry optimization of the HCl molecule using SCF, MP2, CCSD, and CCSD(T) with both cc-pVDZ and cc-pVTZ basis sets. There are a total of eight geometry optimizations. For each computation, record the optimized bond length (in angstrom) in the table below."
   ]
  },
  {
   "cell_type": "code",
   "execution_count": null,
   "id": "f0c9fe38",
   "metadata": {},
   "outputs": [],
   "source": [
    "## Run your calculations here\n",
    "\n"
   ]
  },
  {
   "cell_type": "markdown",
   "id": "27eba698",
   "metadata": {},
   "source": [
    "|Method|cc-pVDZ|cc-pVTZ|\n",
    "|-      |-|-|\n",
    "|SCF    | | |\n",
    "|MP2    | | |\n",
    "|CCSD   | | |\n",
    "|CCSD(T)| | |"
   ]
  },
  {
   "cell_type": "markdown",
   "id": "cb91adfb",
   "metadata": {},
   "source": [
    " 3. Using the same set of four methods, use the cell below to run the anharmonicity analysis using a 7 point fit. Be sure to center your seven points around the appropriate $r_e$. Tabulate the constants from each method in the table that follows. You only need to do this for the cc-pVTZ basis set. In the second to last column, input experimental data for HCl by looking up values from the NIST webpage. In the final column, input your experimental data from last week."
   ]
  },
  {
   "cell_type": "code",
   "execution_count": null,
   "id": "b7f6f073",
   "metadata": {},
   "outputs": [],
   "source": [
    "### Run your seven PES calculations here\n",
    "\n"
   ]
  },
  {
   "cell_type": "code",
   "execution_count": null,
   "id": "d6f9a943",
   "metadata": {},
   "outputs": [],
   "source": [
    "### Run the anharmonicity calculations here\n",
    "\n"
   ]
  },
  {
   "cell_type": "markdown",
   "id": "f5738337",
   "metadata": {},
   "source": [
    "|Constant|SCF|MP2|CCSD|CCSD(T)| Exp. (NIST) | Exp. |\n",
    "|-            |-|-|-|-|-|-|\n",
    "|$r_e$        | | | | | | |\n",
    "|$\\nu_e$      | | | | | | |\n",
    "|$\\nu_e\\chi_e$| | | | | | | \n",
    "|$k$          | | | | | | |\n",
    "|$B_e$        | | | | | | |\n",
    "|$\\alpha_e$   | | | | | | |\n",
    "|$D_e$        | | | | | | |"
   ]
  },
  {
   "cell_type": "markdown",
   "id": "77112176",
   "metadata": {},
   "source": [
    " 4. Again, discuss how your theoretical results compare to your experimental ones. Is the behavior basically the same as seen with CO, or are there differences?"
   ]
  },
  {
   "cell_type": "markdown",
   "id": "c20882a8",
   "metadata": {},
   "source": []
  },
  {
   "cell_type": "markdown",
   "id": "795e9948",
   "metadata": {},
   "source": [
    "5. Based on your results, is anharmonicity a more significant factor for HF or CO? Explain your reasoning."
   ]
  },
  {
   "cell_type": "markdown",
   "id": "b73ff5b2",
   "metadata": {},
   "source": []
  },
  {
   "cell_type": "markdown",
   "id": "a1c78571",
   "metadata": {},
   "source": [
    " 6. Compare the force constants for HCl and CO. For which molecule is $k$ larger, why might this be? Do your results agree with the typical bond orders expected for HF and CO? "
   ]
  },
  {
   "cell_type": "markdown",
   "id": "faf952d4",
   "metadata": {},
   "source": []
  },
  {
   "cell_type": "markdown",
   "id": "bb293295",
   "metadata": {},
   "source": [
    " 7. Looking at the plots output from psi4, do you think it is more important to compute anharmonicity corrections for ground state calculations or excited state energies? Explain your answer."
   ]
  },
  {
   "cell_type": "markdown",
   "id": "791e2b6d",
   "metadata": {},
   "source": []
  },
  {
   "cell_type": "markdown",
   "id": "b49faeba",
   "metadata": {},
   "source": [
    "## D. Spectroscopic constants of DCl\n",
    "\n",
    "Lastly, we will compute the spectroscopic constants for DCl. However, in electronic structure computations, only the nuclear charges and number of electrons enter the computation to generate a PES. Therefore, the PES for HCl and DCl will be identical. So, there is no need to re-determine the optimized bond lengths; the ones from HCl can be used."
   ]
  },
  {
   "cell_type": "markdown",
   "id": "c4661cb4",
   "metadata": {},
   "source": [
    "1. Using the $r_e$ values from the HCl computations, run the seven-point PES computation followed by the anharmonicity computation for DCl. Again, fill out the table that follows.\n",
    "\n",
    "In psi4, deuterium is specified as an isotope of hydrogen using: 'H@2.014101779'"
   ]
  },
  {
   "cell_type": "code",
   "execution_count": null,
   "id": "308daded",
   "metadata": {},
   "outputs": [],
   "source": [
    "### Run your PES computations here\n",
    "\n"
   ]
  },
  {
   "cell_type": "code",
   "execution_count": null,
   "id": "ab6ea58f",
   "metadata": {},
   "outputs": [],
   "source": [
    "### Run your anharmonicity computations here\n",
    "\n"
   ]
  },
  {
   "cell_type": "markdown",
   "id": "229e9fb4",
   "metadata": {},
   "source": [
    "|Constant|SCF|MP2|CCSD|CCSD(T)| Exp | Exp. (NIST) |\n",
    "|-            |-|-|-|-|-|-|\n",
    "|$r_e$        | | | | | | |\n",
    "|$\\nu_e$      | | | | | | |\n",
    "|$\\nu_e\\chi_e$| | | | | | |\n",
    "|$k$          | | | | | | |\n",
    "|$B_e$        | | | | | | |\n",
    "|$\\alpha_e$   | | | | | | |\n",
    "|$D_e$        | | | | | | |"
   ]
  },
  {
   "cell_type": "markdown",
   "id": "5b823fb0",
   "metadata": {},
   "source": [
    "3. In the cell below, discuss how your accuracy for DCl compares to HCl with respect to both your experimental values and the experimental values from NIST. "
   ]
  },
  {
   "cell_type": "markdown",
   "id": "a04d12c2",
   "metadata": {},
   "source": []
  },
  {
   "cell_type": "markdown",
   "id": "ced5f4d5",
   "metadata": {},
   "source": [
    " 4. How does the anharmonicity compare between HCl and DCl, is the result surprising to you?"
   ]
  },
  {
   "cell_type": "markdown",
   "id": "17251a9e",
   "metadata": {},
   "source": [
    "## E. Fun With Plotting\n",
    "\n",
    "The last thing we will explore is how to make paper-ready plots. We will plot a larger PES using three methods of HCl, and we will plot our spectral data from our experiment."
   ]
  },
  {
   "cell_type": "markdown",
   "id": "e66fd046",
   "metadata": {},
   "source": [
    "### 1. Plotting the PES\n",
    "\n",
    "First, we need to run the energies along each point of our PES. We want to plot the PES for HCl using SCF, MP2, and CCSD(T) using the cc-pVTZ basis set.\n",
    "\n",
    "Copy the code from A.1 and change the molecule to HCl in the cell below. Be sure that you are using SCF/cc-pVTZ as the method. You will want to select rvals to be a fairly large range of the PES. Also, be sure to store the energies in a list with a name that includes the method (for example, scf_energies)."
   ]
  },
  {
   "cell_type": "code",
   "execution_count": null,
   "id": "39014403",
   "metadata": {},
   "outputs": [],
   "source": [
    "### Compute a list of rvals and scf energies below\n",
    "mol_templ = \"\"\"\n",
    "H\n",
    "Cl 1 **R**\"\"\"\n",
    "\n",
    "#The interatomic distances\n",
    "# Here, linspace will return a list\n",
    "# of 25 numbers between 0.8 and 2.0, evenly spaced\n",
    "rvals = np.linspace(0.8,2.0, 25)\n",
    "\n",
    "# We will store the results here\n",
    "scf_energies = []\n",
    "\n",
    "# This loops over each distance and computes the energy\n",
    "for r in rvals:\n",
    "    molecule = psi4.geometry(mol_templ.replace(\"**R**\", str(r)))\n",
    "    # The method is specified here\n",
    "    energy = psi4.energy(\"SCF/cc-pVDZ\", molecule=molecule)\n",
    "    scf_energies.append(energy)"
   ]
  },
  {
   "cell_type": "code",
   "execution_count": null,
   "id": "89029d88",
   "metadata": {},
   "outputs": [],
   "source": [
    "### Compute a list of rvals and MP2 energies below\n",
    "mol_templ = \"\"\"\n",
    "H\n",
    "Cl 1 **R**\"\"\"\n",
    "\n",
    "#The interatomic distances\n",
    "# Here, linspace will return a list\n",
    "# of 25 numbers between 0.8 and 2.0, evenly spaced\n",
    "rvals = np.linspace(0.8,2.0, 25)\n",
    "\n",
    "# We will store the results here\n",
    "mp2_energies = []\n",
    "\n",
    "# This loops over each distance and computes the energy\n",
    "for r in rvals:\n",
    "    molecule = psi4.geometry(mol_templ.replace(\"**R**\", str(r)))\n",
    "    # The method is specified here\n",
    "    energy = psi4.energy(\"MP2/cc-pVDZ\", molecule=molecule)\n",
    "    mp2_energies.append(energy)"
   ]
  },
  {
   "cell_type": "code",
   "execution_count": null,
   "id": "649c4af1",
   "metadata": {},
   "outputs": [],
   "source": [
    "### Compute a list of rvals and CCSD(T) energies below\n",
    "\n"
   ]
  },
  {
   "cell_type": "markdown",
   "id": "12092e99",
   "metadata": {},
   "source": [
    "Now, we want to plot all three PESs on the same set of axes. Read through the comments to see what goes in to making a plot. For many commands, first try to look up the correct commands on google (look for the matplotlib website), then ask me if you need help."
   ]
  },
  {
   "cell_type": "code",
   "execution_count": null,
   "id": "934105f5",
   "metadata": {},
   "outputs": [],
   "source": [
    "# This command is a bit easier to do some formatting\n",
    "ax = plt.gca()\n",
    "\n",
    "# below, use ax.plot() to plot the data. The input for this function\n",
    "# is like the above, where first you put the x values, then the y values.\n",
    "\n",
    "# Calling this function more than once will plot several things on the same axes.\n",
    "# You will want to do this to plot each of your methods\n",
    "ax.plot(rvals, scf_energies,marker='.',linestyle='-', color='C3',label=\"SCF\")\n",
    "#ax.plot(rvals, mp2_energies,marker='.',linestyle='--', label=\"MP2\")\n",
    "\n",
    "# We want to add markers to our plot. The way to do this is to include a markers='' paramter, \n",
    "# where the marker type goes into the parentheses. Consult the online documentation for the available\n",
    "# marker styles\n",
    "\n",
    "# Also in the plot function, we can change the color of the data using the color='' parameter,\n",
    "# where either a color name or a HEX color code goes in the parentheses. Change the color to something you like.\n",
    "# For publications, it is recommended to find a color palette of colors most distinguisheable to readers\n",
    "# with varying degrees of color-blindness. \n",
    "\n",
    "\n",
    "# We want to ad a legend. This is fairly easy to do. First, in the plot() function above,\n",
    "# we need to set the label. This is achieved by including a label=\"\" parameter, where you type in\n",
    "#the label name in the parentheses.\n",
    "\n",
    "# Then, un-comment and execute the following to plot the legend. \n",
    "# There are many parameters you can add to this function if you want,\n",
    "# consult the manual for various options.\n",
    "\n",
    "#ax.legend()\n",
    "\n",
    "# Next, we need to add plot labels\n",
    "# Uncomment the lines below, and add labels in the appropriate quotation marks.\n",
    "# Be sure to include units.\n",
    "\n",
    "#ax.set_xlabel()\n",
    "#ax.set_ylabel(\"\")\n",
    "\n",
    "# lastly, we can save the image with the command below. Uncomment it and put\n",
    "# a descriptive filename in the quotation marks. Be sure to give it a .png extension\n",
    "#plt.savefig(\"\", dpi=600)"
   ]
  },
  {
   "cell_type": "markdown",
   "id": "60eda45c",
   "metadata": {},
   "source": [
    "### 2. Plotting your spectra"
   ]
  },
  {
   "cell_type": "markdown",
   "id": "f4ec5088",
   "metadata": {},
   "source": [
    "First we need to load the data. Execute the next cell to do this, making sure to input the correct file in the quotations."
   ]
  },
  {
   "cell_type": "code",
   "execution_count": null,
   "id": "97bf4638",
   "metadata": {
    "scrolled": true
   },
   "outputs": [],
   "source": [
    "filename = \n",
    "nus = []\n",
    "intensities = []\n",
    "\n",
    "with open(filename, \"r\") as infile:\n",
    "    for n, line in enumerate(infile):\n",
    "        if (n % 1) == 0:\n",
    "            line = line.strip().split(',')\n",
    "           # print(line)\n",
    "            nus.append(float(line[0]))\n",
    "            intensities.append(float(line[1]))\n",
    "if len(nus) > 10000:\n",
    "    print(\"Contact your instructor before moving on\")\n",
    "    \n",
    "print(len(nus))"
   ]
  },
  {
   "cell_type": "markdown",
   "id": "a9d0c661",
   "metadata": {},
   "source": [
    "Copy lines from your above plot to make a plot of your experimental spectrum from last week. Be sure\n",
    "to label axes with correct units, and make the plot look good for your writing assignment. You will not want to add markers. Depending on your data, you may need yo fiddle with the axes limits, search online for how to do this, and ask your instructor for some guidance."
   ]
  },
  {
   "cell_type": "code",
   "execution_count": null,
   "id": "ff4072f5",
   "metadata": {},
   "outputs": [],
   "source": [
    "### Make you plot here. Be sure to save your image as a png with at least 600 dpi resolution"
   ]
  },
  {
   "cell_type": "code",
   "execution_count": null,
   "id": "f1438a33",
   "metadata": {},
   "outputs": [],
   "source": []
  },
  {
   "cell_type": "code",
   "execution_count": null,
   "id": "3295ac40",
   "metadata": {},
   "outputs": [],
   "source": []
  }
 ],
 "metadata": {
  "kernelspec": {
   "display_name": "Python 2",
   "language": "python",
   "name": "python2"
  },
  "language_info": {
   "codemirror_mode": {
    "name": "ipython",
    "version": 3
   },
   "file_extension": ".py",
   "mimetype": "text/x-python",
   "name": "python",
   "nbconvert_exporter": "python",
   "pygments_lexer": "ipython3",
   "version": "3.9.18"
  }
 },
 "nbformat": 4,
 "nbformat_minor": 5
}
