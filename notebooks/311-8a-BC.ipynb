{
 "cells": [
  {
   "cell_type": "code",
   "execution_count": null,
   "id": "4f5422c2",
   "metadata": {},
   "outputs": [],
   "source": [
    "import psi4\n",
    "import matplotlib\n",
    "import matplotlib.pyplot as plt\n",
    "import numpy as np\n",
    "from numpy.polynomial import polynomial as P"
   ]
  },
  {
   "cell_type": "markdown",
   "id": "7dc9a1d9",
   "metadata": {},
   "source": [
    "# Bomb Calorimetry Data Analysis\n"
   ]
  },
  {
   "cell_type": "markdown",
   "id": "556d2b95",
   "metadata": {},
   "source": [
    "## 1. Constants\n",
    "In the cells below, find values for the specified constants and conversion values. You will use these in your calculations"
   ]
  },
  {
   "cell_type": "code",
   "execution_count": null,
   "id": "1b24638a",
   "metadata": {},
   "outputs": [],
   "source": [
    "# calorie to Joule\n",
    "cal_to_j = \n",
    "\n",
    "# Gas constant\n",
    "R = \n",
    "\n",
    "# Specific heat of benzoic acid (in J/g)\n",
    "q_BA = \n",
    "\n",
    "# Specific heat of the wire (in J/g)\n",
    "q_wire = \n",
    "\n"
   ]
  },
  {
   "cell_type": "markdown",
   "id": "6dfbb049",
   "metadata": {},
   "source": [
    "## 2. The Heat Capacity of the Calorimeter\n",
    "\n",
    "In order to compute the enthalpies of combustion for our analytes, we need to first determine heat capacity of the calorimeter to high accuracy. The quantities that need calculation here are the total heat evolved frmo the combustion reaction that is transferred to the surroundings.\n",
    "\n",
    "First, let's load the data from our first benzoic acid run,\n"
   ]
  },
  {
   "cell_type": "code",
   "execution_count": null,
   "id": "8b452ce0",
   "metadata": {},
   "outputs": [],
   "source": [
    "# This code loads the file and stores the times and temperatures in two lists,\n",
    "\n",
    "t_BA1 = []\n",
    "temp_BA1 = []\n",
    "\n",
    "# Enter your filename in the quotes\n",
    "with open(\"\",'r') as inf:\n",
    "    for n, line in enumerate(inf):\n",
    "        line = line.strip().split(',')\n",
    "        if line[0] == '\\ufeff\"Latest: Time (s)\"':\n",
    "            continue\n",
    "        \n",
    "        if (n % 2) == 1:\n",
    "            t_BA1.append(float(line[0]))\n",
    "            temp_BA1.append(float(line[1]))\n",
    "                     \n",
    "t_BA1 = np.asarray(t_BA1)\n",
    "temp_BA1 = np.asarray(temp_BA1)\n"
   ]
  },
  {
   "cell_type": "markdown",
   "id": "33fc2bd7",
   "metadata": {},
   "source": [
    "Plot the entire run the cell below, putting time on the $x$-axis and temperature on the $y$-axis. We will run this plot as interactive, so you can run you cursor over specific points."
   ]
  },
  {
   "cell_type": "code",
   "execution_count": null,
   "id": "a939ae1e",
   "metadata": {},
   "outputs": [],
   "source": [
    "%matplotlib notebook\n",
    "# Your plotting code here\n"
   ]
  },
  {
   "cell_type": "markdown",
   "id": "9ad57fa8",
   "metadata": {},
   "source": [
    "Use your plot to find values of $T_A$, $T_B$, $T_C$, and $T_D$, as well as the associated times for each point. "
   ]
  },
  {
   "cell_type": "code",
   "execution_count": null,
   "id": "e990a7ce",
   "metadata": {},
   "outputs": [],
   "source": [
    "t_A_1 = \n",
    "t_B_1 = \n",
    "t_C_1 = \n",
    "t_D_1 = \n",
    "\n",
    "temp_A_1 = temp_BA1[t_A_1]\n",
    "temp_B_1 = temp_BA1[t_B_1]\n",
    "temp_C_1 = temp_BA1[t_C_1]\n",
    "temp_D_1 = temp_BA1[t_D_1]\n"
   ]
  },
  {
   "cell_type": "markdown",
   "id": "4bec4983",
   "metadata": {},
   "source": [
    "Now, we need to define new lists of temperatures takes as subsets of our whole data set from the run. Specifically, we need two lists, one going from $T_A$ to $T_B$, and the other going from $T_C$ to $T_D$. Luckily, we can to this fairly easily using the slice function from python. Make your lists in the cell below."
   ]
  },
  {
   "cell_type": "code",
   "execution_count": null,
   "id": "e820eaae",
   "metadata": {},
   "outputs": [],
   "source": [
    "# The slicing works like temp_BA1[A,B], where A and B are your starting and ending points, respectively \n",
    "temp_ab_1 = temp_BA1[t_A_1:t_B_1]\n",
    "temp_cd_1 = temp_BA1[t_C_1:t_D_1]\n",
    "\n",
    "# Also do this for your time values\n",
    "t_ab_1 = t_BA1[]\n",
    "t_cd_1 = t_BA1[]"
   ]
  },
  {
   "cell_type": "markdown",
   "id": "7041b5a3",
   "metadata": {},
   "source": [
    "Now compute $T_X$, which is defined as the temparature 60\\% between $T_B$ and $T_C$."
   ]
  },
  {
   "cell_type": "code",
   "execution_count": null,
   "id": "5582f015",
   "metadata": {},
   "outputs": [],
   "source": [
    "# Your code here\n",
    "temp_x_1 = \n",
    "print(temp_x_1)"
   ]
  },
  {
   "cell_type": "markdown",
   "id": "6be6bde5",
   "metadata": {},
   "source": [
    "Now we need to find the time, $t_x$, associated with this temperature. To do this, let's grab a few points around this temperature and to a linear fit by consulting our plot above. Let store these x and y values."
   ]
  },
  {
   "cell_type": "code",
   "execution_count": null,
   "id": "35388293",
   "metadata": {},
   "outputs": [],
   "source": [
    "tx_xvals = t_BA1[:]\n",
    "tx_yvals = temp_BA1[:]\n",
    "\n",
    "c, stats = P.polyfit(tx_xvals,tx_yvals,1, full=True)\n",
    "print(c)"
   ]
  },
  {
   "cell_type": "markdown",
   "id": "34380595",
   "metadata": {},
   "source": [
    "Use this line to get a value of $t_x$, where $t_x$ is the x-variable and $T_x$ is the y variable"
   ]
  },
  {
   "cell_type": "code",
   "execution_count": null,
   "id": "40edb8d5",
   "metadata": {},
   "outputs": [],
   "source": [
    "t_x_1 = \n",
    "print(t_x_1)"
   ]
  },
  {
   "cell_type": "markdown",
   "id": "95f220ee",
   "metadata": {},
   "source": [
    "Now, subtract $t_x$ from the x values of your AB and CD lists. Then, when you do the fits on these lists, your y-intercepts will be $T_H$ and $T_L$."
   ]
  },
  {
   "cell_type": "code",
   "execution_count": null,
   "id": "97c02aaa",
   "metadata": {},
   "outputs": [],
   "source": [
    "t_ab_1 = t_ab_1 - t_x_1\n",
    "t_cd_1 = t_cd_1 - t_x_1"
   ]
  },
  {
   "cell_type": "markdown",
   "id": "c857bd73",
   "metadata": {},
   "source": [
    "Ok, we are now ready to perform our two fits to get our high and low temperatures. First, we'll get the low temperature, $T_L$, defined as the temperature right when we start the ignition. Perform a fit of the AB corrected times as the x values, and the AB temperatures as the y values."
   ]
  },
  {
   "cell_type": "code",
   "execution_count": null,
   "id": "43c3beea",
   "metadata": {},
   "outputs": [],
   "source": []
  },
  {
   "cell_type": "markdown",
   "id": "3d20c87a",
   "metadata": {},
   "source": [
    "The y-intercept is $T_L$, store this value,"
   ]
  },
  {
   "cell_type": "code",
   "execution_count": null,
   "id": "b7935183",
   "metadata": {},
   "outputs": [],
   "source": [
    "T_L = \n",
    "print(T_L)"
   ]
  },
  {
   "cell_type": "markdown",
   "id": "bc8cf20a",
   "metadata": {},
   "source": [
    "Do another fit, where the x-values are the corrected CD times, and the y values are the CD temperatures. The y-intercept of this fit is the high temperature, $T_H$"
   ]
  },
  {
   "cell_type": "code",
   "execution_count": null,
   "id": "fa45d8bb",
   "metadata": {},
   "outputs": [],
   "source": []
  },
  {
   "cell_type": "markdown",
   "id": "c2dd32cb",
   "metadata": {},
   "source": [
    "Store your value of $T_H$"
   ]
  },
  {
   "cell_type": "code",
   "execution_count": null,
   "id": "1f5c0c1a",
   "metadata": {},
   "outputs": [],
   "source": [
    "T_H = \n",
    "print(T_H)"
   ]
  },
  {
   "cell_type": "markdown",
   "id": "da778be4",
   "metadata": {},
   "source": [
    "Now, calculate $\\Delta T$ for the calorimeter, by taking the difference"
   ]
  },
  {
   "cell_type": "code",
   "execution_count": null,
   "id": "16aecf1f",
   "metadata": {},
   "outputs": [],
   "source": [
    "dT =\n",
    "print(dT)"
   ]
  },
  {
   "cell_type": "markdown",
   "id": "dd0fba8d",
   "metadata": {},
   "source": [
    "We now need to compute the heat evolved to the surrounding. This can be done with the equation,\n",
    "$$q_{\\rm{surr, total}} = q_{\\rm{surr,wire}} + q_{\\rm{surr,BA}}$$\n",
    "where\n",
    "$$q_{\\rm{surr,wire}} = m_{\\rm{wire}} * q_{\\rm{wire}}$$\n",
    "and\n",
    "$$q_{\\rm{surr,BA}} = m_{\\rm{BA}} * q_{\\rm{BA}}$$\n",
    "Compute your $q_{\\rm{surr,total}}$ below."
   ]
  },
  {
   "cell_type": "code",
   "execution_count": null,
   "id": "f601ee07",
   "metadata": {},
   "outputs": [],
   "source": []
  },
  {
   "cell_type": "markdown",
   "id": "8fe19a75",
   "metadata": {},
   "source": [
    "Finally, you can compute the heat capacity of the calorimeter, $C$, using the relation\n",
    "$$ C = \\frac{q_{\\rm{surr,total}}}{\\Delta T} $$\n",
    "Store this value in the cell below."
   ]
  },
  {
   "cell_type": "code",
   "execution_count": null,
   "id": "070bd792",
   "metadata": {},
   "outputs": [],
   "source": []
  },
  {
   "cell_type": "markdown",
   "id": "3eba8a22",
   "metadata": {},
   "source": [
    "## 3. Heat Capacity of the Calorimeter, Second Run \n",
    "\n",
    "We will repeat these calculations on our second run to again determine the heat capacity of the calorimeter. In your future calculations, you will the use your average value of the heat capacity $C$ over the two runs.\n",
    "\n",
    "As before, first we load the data, from our second run."
   ]
  },
  {
   "cell_type": "code",
   "execution_count": null,
   "id": "c008c7c0",
   "metadata": {},
   "outputs": [],
   "source": [
    "# This code loads the file and stores the times and temperatures in two lists,\n",
    "\n",
    "t_BA2 = []\n",
    "temp_BA2 = []\n",
    "\n",
    "# Enter your filename in the quotes\n",
    "with open(\"\",'r') as inf:\n",
    "    for n, line in enumerate(inf):\n",
    "        line = line.strip().split(',')\n",
    "        if line[0] == '\\ufeff\"Latest: Time (s)\"':\n",
    "            continue\n",
    "        \n",
    "        if (n % 2) == 1:\n",
    "            t_BA2.append(float(line[0]))\n",
    "            temp_BA2.append(float(line[1]))\n",
    "                     \n",
    "t_BA2 = np.asarray(t_BA2)\n",
    "temp_BA2 = np.asarray(temp_BA2)"
   ]
  },
  {
   "cell_type": "markdown",
   "id": "7f7997b2",
   "metadata": {},
   "source": [
    "Plot the time vs temperature plot below. Be sure that you have clicked the little power button on the first plot, or it may not show up correctly"
   ]
  },
  {
   "cell_type": "code",
   "execution_count": null,
   "id": "923d3851",
   "metadata": {},
   "outputs": [],
   "source": []
  },
  {
   "cell_type": "markdown",
   "id": "9f45d533",
   "metadata": {},
   "source": [
    "Use your plot to find values of $T_A$, $T_B$, $T_C$, and $T_D$, as well as the associated times for each point. "
   ]
  },
  {
   "cell_type": "code",
   "execution_count": null,
   "id": "0ee79cc2",
   "metadata": {},
   "outputs": [],
   "source": [
    "# Get the times first\n",
    "t_A_2 = \n",
    "t_B_2 = \n",
    "t_C_2 = \n",
    "t_D_2 = \n",
    "\n",
    "# Then the temps we get automatically\n",
    "temp_A_2 = temp_BA2[t_A_2]\n",
    "temp_B_2 = temp_BA2[t_B_2]\n",
    "temp_C_2 = temp_BA2[t_C_2]\n",
    "temp_D_2 = temp_BA2[t_D_2]"
   ]
  },
  {
   "cell_type": "markdown",
   "id": "1915c0e2",
   "metadata": {},
   "source": [
    "As before, get the AB and CD slices"
   ]
  },
  {
   "cell_type": "code",
   "execution_count": null,
   "id": "d51a4236",
   "metadata": {},
   "outputs": [],
   "source": [
    "# The slicing works like temp_BA2[A,B], where A and B are your starting and ending points, respectively \n",
    "\n",
    "temp_ab_2 = temp_BA1[:]\n",
    "temp_cd_2 = temp_BA1[:]\n",
    "\n",
    "# Also do this for your time values\n",
    "t_ab_2 = t_BA2[:]\n",
    "t_cd_2 = t_BA2[:]"
   ]
  },
  {
   "cell_type": "markdown",
   "id": "cc94f161",
   "metadata": {},
   "source": [
    "Now compute $T_X$, which is defined as the temparature 60\\% between $T_B$ and $T_C$."
   ]
  },
  {
   "cell_type": "code",
   "execution_count": null,
   "id": "fddc0d03",
   "metadata": {},
   "outputs": [],
   "source": []
  },
  {
   "cell_type": "markdown",
   "id": "b8c38c5b",
   "metadata": {},
   "source": [
    "Now we need to find the time, $t_x$, associated with this temperature. To do this, let's grab a few points around this temperature and to a linear fit by consulting our plot above. Let store these x and y values."
   ]
  },
  {
   "cell_type": "code",
   "execution_count": null,
   "id": "373884fe",
   "metadata": {},
   "outputs": [],
   "source": [
    "tx_xvals = t_BA2[]\n",
    "tx_yvals = temp_BA2[]\n",
    "\n",
    "c, stats = P.polyfit(,1, full=True)\n",
    "print(c)"
   ]
  },
  {
   "cell_type": "code",
   "execution_count": null,
   "id": "56de5b5c",
   "metadata": {},
   "outputs": [],
   "source": []
  },
  {
   "cell_type": "markdown",
   "id": "a1960cc5",
   "metadata": {},
   "source": [
    "Use this line to get a value of $t_x$, where $t_x$ is the x-variable and $T_x$ is the y variable"
   ]
  },
  {
   "cell_type": "code",
   "execution_count": null,
   "id": "b6764d25",
   "metadata": {},
   "outputs": [],
   "source": []
  },
  {
   "cell_type": "markdown",
   "id": "48dbabf8",
   "metadata": {},
   "source": [
    "Now, subtract $t_x$ from the x values of your AB and CD lists. Then, when you do the fits on these lists, your y-intercetps will be $T_H$ and $T_L$."
   ]
  },
  {
   "cell_type": "code",
   "execution_count": null,
   "id": "7b843bd1",
   "metadata": {},
   "outputs": [],
   "source": []
  },
  {
   "cell_type": "markdown",
   "id": "f9432c9d",
   "metadata": {},
   "source": [
    "Perform the two needed fits, first on the AB segment, then on the CD segment. Be sure to store the appropriate $x$- and $y$-intercepts as $T_H$ and $T_L$. Use these to compute a second $\\Delta T$ value. Use however many cells you need."
   ]
  },
  {
   "cell_type": "code",
   "execution_count": null,
   "id": "1117bea6",
   "metadata": {},
   "outputs": [],
   "source": []
  },
  {
   "cell_type": "code",
   "execution_count": null,
   "id": "7429da93",
   "metadata": {},
   "outputs": [],
   "source": []
  },
  {
   "cell_type": "markdown",
   "id": "c6e037af",
   "metadata": {},
   "source": [
    "Use the cell below to compute your $q_{\\rm{surr,total}}$ for your second trial. Be sure you are using all of the correct masses."
   ]
  },
  {
   "cell_type": "code",
   "execution_count": null,
   "id": "6b9aa32d",
   "metadata": {},
   "outputs": [],
   "source": []
  },
  {
   "cell_type": "markdown",
   "id": "cd331d1a",
   "metadata": {},
   "source": [
    "Compute your new heat capactity"
   ]
  },
  {
   "cell_type": "code",
   "execution_count": null,
   "id": "0d11fd9b",
   "metadata": {},
   "outputs": [],
   "source": []
  },
  {
   "cell_type": "markdown",
   "id": "e952d403",
   "metadata": {},
   "source": [
    "## 4. Statistics\n",
    "\n",
    "In the cell below, compute the average heat capacity across your two runs. Also compute the standard error of the mean for your two-point average.  "
   ]
  },
  {
   "cell_type": "code",
   "execution_count": null,
   "id": "a7d14b60",
   "metadata": {},
   "outputs": [],
   "source": []
  },
  {
   "cell_type": "code",
   "execution_count": null,
   "id": "ef3fcd6d",
   "metadata": {},
   "outputs": [],
   "source": []
  }
 ],
 "metadata": {
  "kernelspec": {
   "display_name": "Python 3 (ipykernel)",
   "language": "python",
   "name": "python3"
  },
  "language_info": {
   "codemirror_mode": {
    "name": "ipython",
    "version": 3
   },
   "file_extension": ".py",
   "mimetype": "text/x-python",
   "name": "python",
   "nbconvert_exporter": "python",
   "pygments_lexer": "ipython3",
   "version": "3.9.18"
  }
 },
 "nbformat": 4,
 "nbformat_minor": 5
}
