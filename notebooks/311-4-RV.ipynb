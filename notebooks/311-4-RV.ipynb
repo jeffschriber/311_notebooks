{
 "cells": [
  {
   "cell_type": "code",
   "execution_count": null,
   "id": "89edfffd",
   "metadata": {},
   "outputs": [],
   "source": [
    "import scipy\n",
    "import numpy as np\n",
    "from numpy.polynomial import polynomial as P\n",
    "import matplotlib as mpl\n",
    "import matplotlib.pyplot as plt"
   ]
  },
  {
   "cell_type": "markdown",
   "id": "0826a770",
   "metadata": {},
   "source": [
    "# Rovibrational Spectroscopy Data Analysis\n",
    "\n",
    "## Introduction\n",
    "\n",
    "This notebook will guide you through the computations associated with our ro-vibrational experiment. Before\n",
    "starting the notebook, be sure to read through the background given in the lab handout. We are interested in computing a variety of spectroscopic constants, namely,\n",
    " - $\\tilde{\\nu}_e$, the equilibrium vibrational frequency\n",
    " - $B_e$,  the rotaional constant\n",
    " - $\\tilde{\\nu}_e\\chi_e$, anharmonic vibrational correction\n",
    " - $D_e$, the centrifugal distortion constant\n",
    " - $\\alpha_e$, the vibrational-rotational interaction constant\n",
    " - $k$, the force constant\n",
    " - $I_e$, the moment of inertia\n",
    " - $r_e$, the equilibrium bond length\n",
    " \n",
    "For many of these constants, we can compute them from a variety of known relations.\n",
    "For example, the rotational constant, which we'll get experimentally is related to the moment of inertia,\n",
    "$$ B_e = \\frac{h}{8\\pi^2cI_e}$$\n",
    "and the moment of intertial gives us a way to compute $r_e$,\n",
    "$$ I_e = \\mu r_e^2 $$\n",
    "where $\\mu$ is the reduced mass.\n",
    "Similarly, knowledge of $\\tilde{\\nu}_e$ allows us to compute the force constant, using the relation,\n",
    "$$\\tilde{\\nu}_e = \\frac{1}{2\\pi c}\\Big(\\frac{k}{\\mu}\\Big)^{1/2}$$.\n",
    " \n",
    "For $\\tilde{\\nu}_e$ and $\\tilde{\\nu}_e\\chi_e$, we can use their relation to the forbidden transition of the Q branch,\n",
    "$$\\tilde{\\nu}_0 = \\tilde{\\nu}_e - 2\\tilde{\\nu}_e\\chi_e$$\n",
    "which can be derived from equation 7 in the lab handout.\n",
    "As we will see, $\\tilde{\\nu}_0$ is obtained directly from the data. We can use this equation with\n",
    "$$D_e = \\frac{4B_e^3}{\\tilde{\\nu}_e^2}$$\n",
    "to obtain $\\tilde{\\nu}_e$.\n",
    "\n",
    "From the above equations, we now have a means of determining $\\tilde{\\nu}_e$, $\\tilde{\\nu}_e\\chi_e$, $k$, $I_e$, and $r_e$. How then do we get $B_e$, $D_e$, $\\alpha_e$, and $\\tilde{\\nu}_0$? If we combine equations 8 and 9 in the handout, and substitute the definition of $m$ also from the handout, we get,\n",
    "$$\\tilde{\\nu}(m) = \\tilde{\\nu}_0 + (2B_e - 2\\alpha_e)m - \\alpha_em^2-4D_em^3$$\n",
    "where $\\tilde{\\nu}(m)$ are our peak locations. So, from a list of $m$ values and $\\tilde{\\nu}(m)$ values, we can fit a polynomial equation to get each of the constants. We will do this using linear, quadratic, and cubic fits. First, I'll provide some data for the DCl molecule. Then, you will repeat the exercise using your data for HCl."
   ]
  },
  {
   "cell_type": "markdown",
   "id": "421d6ebb",
   "metadata": {},
   "source": [
    "### 1. Ro-vibrational constants for DCl\n",
    "#### The raw data\n",
    "In the cell below, I've provided the peak positions (in wavenumbers) and the $m$ values for a DCl rovibrational spectrum, similar to the HCl one you will take. I've also provided a simple command to plot the data."
   ]
  },
  {
   "cell_type": "code",
   "execution_count": null,
   "id": "b0f227ad",
   "metadata": {},
   "outputs": [],
   "source": [
    "peaks = [1986, 1998, 2010, 2023, 2034, 2046, 2057, 2069, 2080, 2101, 2112, 2122, 2131, 2141, 2150, 2159, 2168, 2177,2186]\n",
    "ms = [-9,-8,-7,-6,-5,-4,-3,-2,-1,1,2,3,4,5,6,7,8,9,10]\n",
    "plt.scatter(ms, peaks)"
   ]
  },
  {
   "cell_type": "markdown",
   "id": "5f99803e",
   "metadata": {},
   "source": [
    "We will obtain necessary spectroscopic constants by fitting the above plot. We'll start with a linear fit:"
   ]
  },
  {
   "cell_type": "markdown",
   "id": "1a83e568",
   "metadata": {},
   "source": [
    "#### Linear fit\n",
    "If we take our DCl molecule as strictly a harmonic oscillator and rigid rotator, we have no distortion, anharmonic, or rotation-vibration coupling effects. What results is a linear expression for our peak positions and $m$ values,\n",
    "$$\\tilde{\\nu}(m) = \\tilde{\\nu}_0 + 2B_em$$\n",
    "This is an equation of the forn $y=mx+b$. Therefore, if we perform a linear fit of our data, we will get $\\tilde{\\nu}_0$ as the $y$-intercept and $2B_e$ as the slope. This is in line with our knowledge of the rigid rotator, where the peaks are spaced by $2B_e$. We can fit the data using the cell below,"
   ]
  },
  {
   "cell_type": "code",
   "execution_count": null,
   "id": "74d9e4bc",
   "metadata": {},
   "outputs": [],
   "source": [
    "# a linear fit\n",
    "# the function takes 'x' and 'y' values,\n",
    "# in addition to an integer to determine the \n",
    "# polynomial order. Here, its 1\n",
    "\n",
    "c, stats = P.polyfit(ms,peaks,1, full=True)\n",
    "\n",
    "# c is a list of the form [intercept, slope], and stats is a\n",
    "# set of data telling us the goodness of our fit.\n",
    "\n",
    "# here's a little code to get the R^2 value\n",
    "TSS = 0.0\n",
    "for p in peaks:\n",
    "    TSS += p*p \n",
    "r_squared = 1 - stats[0]/TSS   \n",
    "\n",
    "# Let's print the values\n",
    "print(\"Coefficients: \" + str(c))\n",
    "print(\"R^2: \" + str(r_squared))\n"
   ]
  },
  {
   "cell_type": "markdown",
   "id": "86fdf88e",
   "metadata": {},
   "source": [
    "So, the fit seems pretty good. We also see that $\\tilde{\\nu}_0 = 2086.562$ and $2B_e = 10.530$. In the cell below, record the value of $\\tilde{\\nu}_e$ and $B_e$. Note in this case, there is no $\\tilde{\\nu}_e\\chi_e$ term."
   ]
  },
  {
   "cell_type": "markdown",
   "id": "2563b005",
   "metadata": {},
   "source": []
  },
  {
   "cell_type": "markdown",
   "id": "0cc3ee3f",
   "metadata": {},
   "source": [
    "In the cells below, use these values to determine $I_e$, $r_e$, and $k$. Be sure to record these in your notebook as well."
   ]
  },
  {
   "cell_type": "code",
   "execution_count": null,
   "id": "dfab0818",
   "metadata": {},
   "outputs": [],
   "source": []
  },
  {
   "cell_type": "code",
   "execution_count": null,
   "id": "59638c3b",
   "metadata": {},
   "outputs": [],
   "source": []
  },
  {
   "cell_type": "markdown",
   "id": "a754d2be",
   "metadata": {},
   "source": [
    "#### Quadratic fit\n",
    "\n",
    "We can begin including correcting terms to get, theoretically, more accurate values of our constants. When we include the vibrational-rotational correction, $\\alpha_e$, we get,\n",
    "$$\\tilde{\\nu}(m) = \\tilde{\\nu}_0 + (2B_e - 2\\alpha_e)m - \\alpha_em^2 $$\n",
    "This equation requires a quadratic fit due to the $m^2$. In the cell below, paste the code from above to perform a quadratic fit. You will only need to change one part of the code before entering to have the code run the quadratic fit rather than the linear one."
   ]
  },
  {
   "cell_type": "code",
   "execution_count": null,
   "id": "6a1ec751",
   "metadata": {},
   "outputs": [],
   "source": [
    "### Your code here\n",
    "\n",
    "\n"
   ]
  },
  {
   "cell_type": "markdown",
   "id": "86b000ef",
   "metadata": {},
   "source": [
    "Take note if the fit improved or worsened (by looking at R^2). Now, we see that we have three coefficients. These coefficients are displayed as [c b a], for an equation of the form $y = c + bx + ax^2$. \n",
    "\n",
    "In the cell below, use the output coefficents to determine an updated $\\tilde{\\nu}_e$, $B_e$, and $\\alpha_e$. You can do the math either in the cell or in your notebook, but display them below."
   ]
  },
  {
   "cell_type": "code",
   "execution_count": null,
   "id": "cf133001",
   "metadata": {},
   "outputs": [],
   "source": []
  },
  {
   "cell_type": "markdown",
   "id": "228464f7",
   "metadata": {},
   "source": [
    "In the cells below, use these values to determine a new $I_e$, $r_e$, and $k$. Be sure to record these in your notebook as well, labelling them in a way distinct from those determined from the linear fit. If you do it here, you can add more cells as needed."
   ]
  },
  {
   "cell_type": "code",
   "execution_count": null,
   "id": "c443a0de",
   "metadata": {},
   "outputs": [],
   "source": []
  },
  {
   "cell_type": "markdown",
   "id": "2151a4b4",
   "metadata": {},
   "source": [
    "#### Cubic fit\n",
    "\n",
    "Finally, when we add in the anharmonicity constant and the distortion constant, we get,\n",
    "$$\\tilde{\\nu}(m) = \\tilde{\\nu}_0 + (2B_e - 2\\alpha_e)m - \\alpha_em^2-4D_em^3$$\n",
    "This requires us to fit an equation of the form $y = d + cx + bx^2 + ax^3$. Because we now have $D_e$, we can use the equation, $\\tilde{\\nu}_0 = \\tilde{\\nu}_e - 2\\tilde{\\nu}_e\\chi_e$ to get a corrected $\\tilde{\\nu}_e$ and anharmonicity constant $\\tilde{\\nu}_e\\chi_e$.\n",
    "\n",
    "Using the same code from the previous fits, perform the cubic fit in the cell below. Again, there is only one small change needed to go from quadratic to cubic."
   ]
  },
  {
   "cell_type": "code",
   "execution_count": null,
   "id": "a055620f",
   "metadata": {},
   "outputs": [],
   "source": [
    "### Your code here\n",
    "\n",
    "# a linear fit\n",
    "# the function takes 'x' and 'y' values,\n",
    "# in addition to an integer to determine the \n",
    "# polynomial order. Here, its 1\n",
    "\n",
    "c, stats = P.polyfit(ms,peaks,4, full=True)\n",
    "\n",
    "# c is a list of the form [intercept, slope], and stats is a\n",
    "# set of data telling us the goodness of our fit.\n",
    "\n",
    "# here's a little code to get the R^2 value\n",
    "TSS = 0.0\n",
    "for p in peaks:\n",
    "    TSS += p*p \n",
    "r_squared = 1 - stats[0]/TSS   \n",
    "\n",
    "# Let's print the values\n",
    "print(\"Coefficients: \" + str(c))\n",
    "print(\"R^2: \" + str(r_squared))"
   ]
  },
  {
   "cell_type": "markdown",
   "id": "e2c5d445",
   "metadata": {},
   "source": [
    "This time, we have four coefficients, output in the order [d c b a]. In report in the cells below the values of $\\tilde{\\nu}_0$, $B_e$, $\\alpha_e$, and $D_e$. Be sure to have them here and in your lab notebook."
   ]
  },
  {
   "cell_type": "markdown",
   "id": "c2c2fb6d",
   "metadata": {},
   "source": []
  },
  {
   "cell_type": "markdown",
   "id": "eea7f4cb",
   "metadata": {},
   "source": [
    "Use the equation $D_e = \\frac{4B_e^3}{\\tilde{\\nu}_e^2}$ to obtain a value of ${\\tilde{\\nu}_e}$. Record it below and in your notebook."
   ]
  },
  {
   "cell_type": "markdown",
   "id": "b61c4a54",
   "metadata": {},
   "source": []
  },
  {
   "cell_type": "markdown",
   "id": "01c57451",
   "metadata": {},
   "source": [
    "Using this value and the equation, $\\tilde{\\nu}_0 = \\tilde{\\nu}_e - 2\\tilde{\\nu}_e\\chi_e$, determine the anharmonicity constant $\\tilde{\\nu}_e\\chi_e$."
   ]
  },
  {
   "cell_type": "code",
   "execution_count": null,
   "id": "6abcdd42",
   "metadata": {},
   "outputs": [],
   "source": []
  },
  {
   "cell_type": "markdown",
   "id": "27d633af",
   "metadata": {},
   "source": [
    "Again, using your values, compute $I_e$, $r_e$, and $k$ using the constants from the cubic fit. Record these here and in your notebook."
   ]
  },
  {
   "cell_type": "code",
   "execution_count": null,
   "id": "43f6e1a9",
   "metadata": {},
   "outputs": [],
   "source": []
  },
  {
   "cell_type": "markdown",
   "id": "285877d7",
   "metadata": {},
   "source": [
    "### 2. Ro-vibrational constants of HCl\n",
    "\n",
    "Now, we are going to perform all of these calculations again, but instead with the data you record for the HCl molecule. \n",
    "\n",
    "First we need to define our $m$ values and our peak locations. In the cell below VERY CAREFULLY fill each list (separated by commas) with your $m$ values and peak locations (use wavenumbers) IN ORDER. Executing the cell will also plot the values."
   ]
  },
  {
   "cell_type": "code",
   "execution_count": null,
   "id": "b5a468cd",
   "metadata": {},
   "outputs": [],
   "source": [
    "m = []\n",
    "peaks = []\n",
    "plt.scatter(m, peaks)"
   ]
  },
  {
   "cell_type": "markdown",
   "id": "2baa2cbe",
   "metadata": {},
   "source": [
    "#### Linear Fit\n",
    "Use the previous code to compute $\\tilde{\\nu}_e$, $B_e$, $I_e$, $r_e$, and $k$. Perform the fitting in the next cell, and compute/record the constants here and in your notebook."
   ]
  },
  {
   "cell_type": "code",
   "execution_count": null,
   "id": "68d1220e",
   "metadata": {},
   "outputs": [],
   "source": [
    "### Your fitting code"
   ]
  },
  {
   "cell_type": "code",
   "execution_count": null,
   "id": "afc27ac8",
   "metadata": {},
   "outputs": [],
   "source": []
  },
  {
   "cell_type": "markdown",
   "id": "fa7a8693",
   "metadata": {},
   "source": []
  },
  {
   "cell_type": "markdown",
   "id": "08dc1bd6",
   "metadata": {},
   "source": [
    "#### Quadratic fit\n",
    "Use the previous code to compute $\\tilde{\\nu}_e$, $B_e$, $I_e$, $r_e$, $\\alpha_e$, and $k$. Perform the fitting in the next cell, and compute/record the constants here and in your notebook."
   ]
  },
  {
   "cell_type": "code",
   "execution_count": null,
   "id": "d2cf660a",
   "metadata": {},
   "outputs": [],
   "source": [
    "### Your fitting code"
   ]
  },
  {
   "cell_type": "code",
   "execution_count": null,
   "id": "b34ec880",
   "metadata": {},
   "outputs": [],
   "source": []
  },
  {
   "cell_type": "markdown",
   "id": "59af6497",
   "metadata": {},
   "source": []
  },
  {
   "cell_type": "markdown",
   "id": "24ebca72",
   "metadata": {},
   "source": [
    "#### Cubic fit\n",
    "Use the previous code to compute $\\tilde{\\nu}_e$, $B_e$, $I_e$, $\\alpha_e$, $r_e$, $k$, $D_e$, and $\\tilde{\\nu}_e\\chi_e$. Perform the fitting in the next cell, and compute/record the constants here and in your notebook."
   ]
  },
  {
   "cell_type": "code",
   "execution_count": null,
   "id": "be3fac3d",
   "metadata": {},
   "outputs": [],
   "source": []
  },
  {
   "cell_type": "code",
   "execution_count": null,
   "id": "3f7f0668",
   "metadata": {},
   "outputs": [],
   "source": []
  },
  {
   "cell_type": "markdown",
   "id": "b0cb4699",
   "metadata": {},
   "source": []
  },
  {
   "cell_type": "markdown",
   "id": "308880a3",
   "metadata": {},
   "source": [
    "### 3. Isotope Effect\n",
    "\n",
    "By this point we have many values for our spectroscopic constants for HCl and DCl. In nex week's lab, we will compute more of these using other methods, plotting our fits, and comparing to literature values. One important comparison to literature is the isotope effect. Essentially, we are interested in how the two primary constants for rotations and vibrations change between the HCl and DCl isotopes. The first quantity we want is \n",
    "$$\\tilde{\\nu}^*_0/\\tilde{\\nu}_0$$\n",
    "where $\\tilde{\\nu}^*_0$ is the value for DCl determined from cubic fitting, and $\\tilde{\\nu}^*_0$ is the value from HCl determined from cubic fitting. Compute and pring this value using the cell below:"
   ]
  },
  {
   "cell_type": "code",
   "execution_count": null,
   "id": "329f735d",
   "metadata": {},
   "outputs": [],
   "source": []
  },
  {
   "cell_type": "markdown",
   "id": "82aae7d9",
   "metadata": {},
   "source": [
    "Similarly, we can do this for the rotational constant, where the ratio\n",
    "$$B_e^*/B_e$$\n",
    "gives us information about how this constant changes with the isotopes. Again, $B_e^*$ is determined from the cubic fit for DCl, and $B_e$ is also the cubic fit for HCl. In the cell below, compute and print this ratio."
   ]
  },
  {
   "cell_type": "code",
   "execution_count": null,
   "id": "f763bbf6",
   "metadata": {},
   "outputs": [],
   "source": []
  },
  {
   "cell_type": "markdown",
   "id": "baa15b3d",
   "metadata": {},
   "source": [
    "Be sure to have both of these ratios in your lab notebook."
   ]
  },
  {
   "cell_type": "code",
   "execution_count": null,
   "id": "ad8dc4ec",
   "metadata": {},
   "outputs": [],
   "source": []
  }
 ],
 "metadata": {
  "kernelspec": {
   "display_name": "Python 3",
   "language": "python",
   "name": "python3"
  },
  "language_info": {
   "codemirror_mode": {
    "name": "ipython",
    "version": 3
   },
   "file_extension": ".py",
   "mimetype": "text/x-python",
   "name": "python",
   "nbconvert_exporter": "python",
   "pygments_lexer": "ipython3",
   "version": "3.9.18"
  }
 },
 "nbformat": 4,
 "nbformat_minor": 5
}
