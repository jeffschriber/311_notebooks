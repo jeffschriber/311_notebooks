{
 "cells": [
  {
   "cell_type": "code",
   "execution_count": 1,
   "id": "7cbecd00",
   "metadata": {},
   "outputs": [],
   "source": [
    "import psi4\n",
    "import numpy as np\n",
    "from numpy.polynomial import polynomial as P\n",
    "import matplotlib\n",
    "import matplotlib.pyplot as plt"
   ]
  },
  {
   "cell_type": "markdown",
   "id": "152478fe",
   "metadata": {},
   "source": [
    "# The Vibronic Spectrum of $\\rm{I_2}$\n",
    "\n",
    "This notebook will guide you through the data analysis of our $\\rm{I_2}$ spectrum. \n",
    "In this lab, we will be computing the following spectroscopic constants from our experimental data:\n",
    " - $\\nu_e'$\n",
    " - $\\nu_e'\\chi_e'$\n",
    " - $D_e'$\n",
    " - $D_0'$\n",
    " - $\\nu_e''$\n",
    " - $\\nu_e''\\chi_e''$\n",
    " - $D_e''$\n",
    " - $D_0''$\n",
    "\n",
    "We have seen the vibrational constants before, and even some of the electronic ones in a limited context.\n",
    "Using our experimental data, we will derive these constants using two different techniqes. For both techniques,\n",
    "we first need to accurately tabulate our data. While we need the data in lists on this notebook, it may be\n",
    "convenient to tabulate them by hand either in your notebook or in an excel spreadsheet. "
   ]
  },
  {
   "cell_type": "markdown",
   "id": "16143a0d",
   "metadata": {},
   "source": [
    "## 1. Tabulating your data\n",
    "\n",
    "Assigning peaks for vibronic transitions can be a difficult task for a variety of reasons. Primarily, \n",
    "our spectrum contains multiple bands, meaning multiple values for $v''$, which can cause overlaps in our peaks.\n",
    "Furthermore, we observe many peaks with relatively high vibrational quantum numbers, and we do not typically see peaks that start each band (i.e., a $v''=0 \\rightarrow v'=1$ transition). \n",
    "\n",
    "Our task is to label as many peaks as we can. First, lets plot our spectrum so that we can get an idea of what it looks like. Execute the cell below to load your data. Be sure that your data file is in the same directory as this\n",
    "notebook. Consult me if you have issues loading your data."
   ]
  },
  {
   "cell_type": "code",
   "execution_count": null,
   "id": "cbc53b57",
   "metadata": {},
   "outputs": [],
   "source": [
    "filename = \"\"\n",
    "nus = []\n",
    "intensities = []\n",
    "\n",
    "with open(filename, \"r\") as infile:\n",
    "    for n, line in enumerate(infile):\n",
    "        if n < 2:\n",
    "            continue\n",
    "        if (n % 1) == 0:\n",
    "            line = line.strip().split(',')\n",
    "            nus.append(float(line[0]))\n",
    "            intensities.append(float(line[1]))"
   ]
  },
  {
   "cell_type": "markdown",
   "id": "5a7bfd5f",
   "metadata": {},
   "source": [
    "The code below will make a crude plot of your spectrum. I have set the x-limits to contain only the peaks we want.\n",
    "Notice also that we are plotting in the 'interactive' mode, so that we can use our cursor to help tabulate values.\n",
    "Execute the cell below to plot the spectrum."
   ]
  },
  {
   "cell_type": "code",
   "execution_count": null,
   "id": "eef90365",
   "metadata": {},
   "outputs": [],
   "source": [
    "%matplotlib notebook\n",
    "plt.xlim(500,640)\n",
    "plt.plot(nus,intensities)"
   ]
  },
  {
   "cell_type": "markdown",
   "id": "5823ed51",
   "metadata": {},
   "source": [
    "To help us assign peaks, I have reproduced a band head table to give you starting point for your peak assignments.\n",
    "\n",
    "|$\\lambda$(nm)|$v''$|$v'$|\n",
    "|:------------|:----|:---|\n",
    "|541.2|0|27|\n",
    "|539.0|0|28|\n",
    "|536.9|0|29|\n",
    "|571.6|1|18|\n",
    "|568.8|1|19|\n",
    "|565.6|1|20|\n",
    "|595.7|2|13|\n",
    "|592.0|2|14|\n",
    "|588.5|2|15|"
   ]
  },
  {
   "cell_type": "markdown",
   "id": "b1d53617",
   "metadata": {},
   "source": [
    "In the cell below, complete the table by assigning as many peaks as you can accurately resolve. It will probably be easiest to do this with one lab partner controlling the plot, and another recording the values. Use a separate table for each $v''$ value."
   ]
  },
  {
   "cell_type": "markdown",
   "id": "8e4337c4",
   "metadata": {},
   "source": [
    "|$\\lambda$(nm)|$v''$|$v'$|\n",
    "|:------------|:----|:---|\n",
    "| | |"
   ]
  },
  {
   "cell_type": "markdown",
   "id": "5de23d32-e52c-4602-8c7e-990251bacb9e",
   "metadata": {},
   "source": [
    "|$\\lambda$(nm)|$v''$|$v'$|\n",
    "|:------------|:----|:---|\n",
    "| | |"
   ]
  },
  {
   "cell_type": "markdown",
   "id": "3adb1050-b329-4092-8951-d4b305e609c6",
   "metadata": {},
   "source": [
    "|$\\lambda$(nm)|$v''$|$v'$|\n",
    "|:------------|:----|:---|\n",
    "| | |"
   ]
  },
  {
   "cell_type": "markdown",
   "id": "4c0697cf",
   "metadata": {},
   "source": [
    "## 2. Quadratic Fitting\n",
    "\n",
    "We can use quadratic fitting to determine the parameters for the excited electronic state (so, all constants with a single prime only).\n",
    "As detailed in the lab handout, our frequency of an observed peak is described by the relationship.\n",
    "$$\\nu = (E_{\\rm{el}} - \\frac{\\nu_e''}{2} + \\frac{\\nu_e''\\chi_e''}{4}) - \\nu_e'(v'+\\frac{1}{2}) + \\nu_e'\\chi_e'(v'+\\frac{1}{2})^2$$.\n",
    "Note that this equation is of the form $y = a + bx +cx^2$, were here $x =v'+\\frac{1}{2}$. and\n",
    "$$ a = E_{\\rm{el}} - \\frac{\\nu_e''}{2} + \\frac{\\nu_e''\\chi_e''}{4} $$\n",
    "$$ b = \\nu_e' $$\n",
    "$$ c = -\\nu_e'\\chi_e'$$.\n",
    "\n",
    "This approach only applies to transitions where $v''=0$. In the cell below, use the table above to make a list of $x$ and $y$ values, where our $x$ values are $v'+\\frac{1}{2}$ for all transitions involving $v''=0$. Our $y$ values need to be *in the same order*. For now, these can stay in nm"
   ]
  },
  {
   "cell_type": "code",
   "execution_count": null,
   "id": "da9e3827",
   "metadata": {},
   "outputs": [],
   "source": [
    "# Your x and y values\n",
    "x = \n",
    "y = \n",
    "\n",
    "\n",
    "# We'll need this for later, leave it unchanged\n",
    "x = np.asarray(x)\n",
    "y = np.asarray(y)"
   ]
  },
  {
   "cell_type": "markdown",
   "id": "a5d3c568",
   "metadata": {},
   "source": [
    "Now, we need to convert our energies to wavenumbers. We can do this easily if we know the conversion factor. In the cell below, manupilate $y$ using the appropriate conversion factor. We also need to create a list of $v'+\\frac{1}{2}$ values."
   ]
  },
  {
   "cell_type": "code",
   "execution_count": null,
   "id": "d06abcd9",
   "metadata": {},
   "outputs": [],
   "source": [
    "y =\n",
    "\n",
    "vhalf =[]\n",
    "\n"
   ]
  },
  {
   "cell_type": "markdown",
   "id": "8d5b03d8",
   "metadata": {},
   "source": [
    "So we now have an $x$ and $y$ pair ready to fit (you can plot these if you want, not required). In the cell below, use a quadratic fit to determine values for $a$, $b$, and $c$. You can consult a previous notebook for how to do this."
   ]
  },
  {
   "cell_type": "code",
   "execution_count": null,
   "id": "2b5c3d81",
   "metadata": {},
   "outputs": [],
   "source": [
    "## Your fitting code here\n",
    "\n"
   ]
  },
  {
   "cell_type": "code",
   "execution_count": null,
   "id": "84d8753f",
   "metadata": {},
   "outputs": [],
   "source": []
  },
  {
   "cell_type": "markdown",
   "id": "7a4b2ee4",
   "metadata": {},
   "source": [
    "Use your values of $a$, $b$, and $c$ to compute $\\nu_e'$, $\\nu_e'\\chi_e'$, $D_0'$, and $D_e'$. You may add cells to do these computations if you'd like. Be sure to record their values in your notebook, you will add them to a table later in this notebook."
   ]
  },
  {
   "cell_type": "code",
   "execution_count": null,
   "id": "b4473317",
   "metadata": {},
   "outputs": [],
   "source": []
  },
  {
   "cell_type": "markdown",
   "id": "0d6999a2",
   "metadata": {},
   "source": [
    "## 3. Birge-Sponer Plot\n",
    "\n",
    "A Birge-Sponer plot can also be used to get excited state spectroscopic constants. We will see how these constants compare to those obtained directly from the quadratic fit.\n",
    "\n",
    "First, we need a list of all $v''=0 \\rightarrow v'$ transitions. We will achieve this by making a list of all $v'$ values we have in our $v''=0$ progression. For each of these $v'$ values, we also need to have the wavelength in another list *in the same order*.\n",
    "\n",
    "In the cell below, make a list of $v'$ values and another list of corresponding lambdas."
   ]
  },
  {
   "cell_type": "code",
   "execution_count": null,
   "id": "18a9e4c7",
   "metadata": {},
   "outputs": [],
   "source": [
    "# Fill these lists\n",
    "v_p = []\n",
    "nu_p = []\n",
    "\n",
    "# We need this for later, leave unchanged\n",
    "v_p = np.asarray(v_p)\n",
    "nu_p = np.asarray(nu_p)"
   ]
  },
  {
   "cell_type": "code",
   "execution_count": null,
   "id": "850a362e",
   "metadata": {},
   "outputs": [],
   "source": [
    "# Use the cell below to convert your lambdas from nm to wavenumber\n",
    "nu_p = "
   ]
  },
  {
   "cell_type": "markdown",
   "id": "99e5b7e9",
   "metadata": {},
   "source": [
    "Now, we need to create a list of the energy differences between adjacent peaks, we'll call this $\\Delta\\nu(v')$. Use the code in the cell below to fill a list of $\\Delta\\nu(v')$. These deltas are indexed by the final $v'$."
   ]
  },
  {
   "cell_type": "code",
   "execution_count": null,
   "id": "8561c2b4",
   "metadata": {},
   "outputs": [],
   "source": [
    "# These will hold the new values\n",
    "# This will be the v' values. I'm labeling them as dp, though\n",
    "# we don't actually subtract anything for them\n",
    "dv_p []\n",
    "\n",
    "#These are the energy differences\n",
    "dnu_p = []\n",
    "\n",
    "# We will loop through all of our energies starting with the second one, \n",
    "# we will be subtracting the previous in all cases\n",
    "for idx in range(1, len(v_p)):\n",
    "    dv_p.append(v_p[idx])\n",
    "    \n",
    "    # Compute the change in energy for the current dnu_p and\n",
    "    # and the previous dnu_p\n",
    "    # YOUR CODE HERE:\n",
    "    dnu = \n",
    "    dnu_p.append(dnu)\n",
    "    \n"
   ]
  },
  {
   "cell_type": "markdown",
   "id": "55ba3f32",
   "metadata": {},
   "source": [
    "Let's now plot our data. What we want is a plot of $v'+1$ vs. $\\Delta\\nu(v')$. Use the cell below to make this plot. You may want to consult previous notebooks for help with plotting."
   ]
  },
  {
   "cell_type": "code",
   "execution_count": null,
   "id": "b7781f71",
   "metadata": {},
   "outputs": [],
   "source": []
  },
  {
   "cell_type": "markdown",
   "id": "91f3c89b",
   "metadata": {},
   "source": [
    "This line is described by the equation\n",
    "$$\\Delta\\nu = \\nu_e' - 2\\nu_e'\\chi_e'(v'+1)$$.\n",
    "Use the next cell to perform a linear fit of this data. Use the printed constants to obtain values of $\\nu_e'$ and $\\nu_e'\\chi_e'$. "
   ]
  },
  {
   "cell_type": "code",
   "execution_count": null,
   "id": "87765427",
   "metadata": {},
   "outputs": [],
   "source": []
  },
  {
   "cell_type": "markdown",
   "id": "794a9357",
   "metadata": {},
   "source": [
    "While it may not be obvious, the area under this plot is exactly equal to $D_0'$. Use your line equation to determine $D_0'$. Then, use equation 12 from the handout to compute $D_e'$"
   ]
  },
  {
   "cell_type": "code",
   "execution_count": null,
   "id": "4d510373",
   "metadata": {},
   "outputs": [],
   "source": []
  },
  {
   "cell_type": "markdown",
   "id": "3c983c98",
   "metadata": {},
   "source": [
    "Complete the table in the cell below, using your values from your quadratic fits, your Birge-Sponer plot, and an additional column of literature values."
   ]
  },
  {
   "cell_type": "markdown",
   "id": "eeeee628",
   "metadata": {},
   "source": [
    "|Constant|Quadratic Fit|Birge-Sponer|Lit.|\n",
    "|-|-|-|-|\n",
    "|$\\nu_e'$| | | |\n",
    "|$\\nu_e'\\chi_e'$| | | |\n",
    "|$D_0'$| | | |\n",
    "|$D_e'$| | | |"
   ]
  },
  {
   "cell_type": "markdown",
   "id": "247e76a8",
   "metadata": {},
   "source": [
    "In the cell below, discuss your results. How does the different methods perform? Are they close to the reference values?"
   ]
  },
  {
   "cell_type": "markdown",
   "id": "f9c91e10-1a34-42ff-a759-488b72aeba11",
   "metadata": {},
   "source": []
  },
  {
   "cell_type": "markdown",
   "id": "bdaee71a",
   "metadata": {},
   "source": [
    "## 4. Density Functional Theory\n",
    "\n",
    "We an also use computational chemistry tools to estimate values of $D_e'$ and $D_e''$. Let's start with $D_e'$.\n",
    "\n",
    "We do not know which state is the excited state. Let's guess that this state is a triplet, then we can compare to experimental and literature values to determine whether a triplet is involved in our transition."
   ]
  },
  {
   "cell_type": "code",
   "execution_count": null,
   "id": "a5132e8f",
   "metadata": {},
   "outputs": [],
   "source": [
    "mol = psi4.geometry(\"\"\"\n",
    "0 3\n",
    "I\n",
    "I 1 2.8\n",
    "units angstrom\n",
    "\"\"\")\n",
    "psi4.set_options({'REFERENCE':'UHF'})"
   ]
  },
  {
   "cell_type": "markdown",
   "id": "eac845eb",
   "metadata": {},
   "source": [
    "Using this bond length, get the equilibrium energy and store it as a variable, ep_eq"
   ]
  },
  {
   "cell_type": "code",
   "execution_count": null,
   "id": "9267b02a",
   "metadata": {},
   "outputs": [],
   "source": [
    "mol = psi4.geometry(\"\"\"\n",
    "0 3\n",
    "I\n",
    "I 1 **R**\n",
    "units angstrom\n",
    "\"\"\")\n",
    "\n",
    "psi4.set_options({'REFERENCE':'UHF'})\n",
    "ep_eq, wfn = psi4.energy('wb97x/sto-3g', return_wfn=True)\n",
    "\n",
    "#molecule = psi4.geometry(mol_templ.replace(\"**R**\", \"1000\"))\n",
    "#e2, wfn = psi4.energy('wb97x/sto-3g', return_wfn=True)\n"
   ]
  },
  {
   "cell_type": "markdown",
   "id": "e4bade32",
   "metadata": {},
   "source": [
    "Now, compute the energy at 'infinite' separation by specifying a large value of R. Store this energy as 'ep_inf'."
   ]
  },
  {
   "cell_type": "code",
   "execution_count": null,
   "id": "afea9d7e",
   "metadata": {},
   "outputs": [],
   "source": []
  },
  {
   "cell_type": "markdown",
   "id": "4e9a4400",
   "metadata": {},
   "source": [
    "Using the cell below, print the difference between your energies, how does this compare to the $D_e'$ values you computed?"
   ]
  },
  {
   "cell_type": "code",
   "execution_count": null,
   "id": "26019311",
   "metadata": {},
   "outputs": [],
   "source": []
  },
  {
   "cell_type": "markdown",
   "id": "355ce2cd",
   "metadata": {},
   "source": [
    "Use the following cells to repeat these calulations, but on the ground state. To specify the ground state, simply change the specification of the triplet state to be the singlet state. How does $D_e''$ compare to $D_e'$?"
   ]
  },
  {
   "cell_type": "code",
   "execution_count": null,
   "id": "894f4b4b",
   "metadata": {},
   "outputs": [],
   "source": [
    "mol = psi4.geometry(\"\"\"\n",
    "0 1\n",
    "I\n",
    "I 1 2.0\n",
    "units angstrom\n",
    "\"\"\")\n",
    "\n"
   ]
  },
  {
   "cell_type": "code",
   "execution_count": null,
   "id": "30c0defa",
   "metadata": {},
   "outputs": [],
   "source": []
  },
  {
   "cell_type": "code",
   "execution_count": null,
   "id": "40848ce9",
   "metadata": {},
   "outputs": [],
   "source": []
  },
  {
   "cell_type": "markdown",
   "id": "4eac2775",
   "metadata": {},
   "source": [
    "## 5. Ground State Data\n",
    "\n",
    "In the cell below, make a list of lambda values for $v''=0$, $v''=1$, and $v''=2$. You already have a long list for $v''=0$, but these need to all be of the same size, and indexed in exactly the same order by values of $v'$ "
   ]
  },
  {
   "cell_type": "code",
   "execution_count": null,
   "id": "42aad5b7",
   "metadata": {},
   "outputs": [],
   "source": [
    "nu_0 = []\n",
    "nu_1 = []\n",
    "nu_2 = []\n",
    "vp = []"
   ]
  },
  {
   "cell_type": "markdown",
   "id": "6255c01d",
   "metadata": {},
   "source": [
    "Next, compute the difference between nu_1 and nu_0, and between nu_2 and nu_0. Compute the average of these differences using np.mean(), and store them as adv1 and adv2"
   ]
  },
  {
   "cell_type": "code",
   "execution_count": null,
   "id": "b37e3ffb",
   "metadata": {},
   "outputs": [],
   "source": [
    "adv1 = np.mean()\n",
    "adv2 = np.mean()"
   ]
  },
  {
   "cell_type": "markdown",
   "id": "2d59236e",
   "metadata": {},
   "source": [
    "Use the expression $\\nu_e''= 2\\Delta \\nu_e''(1) - \\Delta \\nu_e''(2)$, where the $\\Delta \\nu_e''$ variables represent your averages, to compute $\\nu_e''$."
   ]
  },
  {
   "cell_type": "code",
   "execution_count": null,
   "id": "610185a4",
   "metadata": {},
   "outputs": [],
   "source": []
  },
  {
   "cell_type": "markdown",
   "id": "6d0089b6",
   "metadata": {},
   "source": [
    "Use $\\nu_e''\\chi_e'' = \\frac{1}{2}(\\Delta \\nu_e''(1) - \\Delta \\nu_e''(2))$ to compute $\\nu_e''\\chi_e''$. How do these values compare to those taken from the NIST webpage?"
   ]
  },
  {
   "cell_type": "code",
   "execution_count": null,
   "id": "076c7025",
   "metadata": {},
   "outputs": [],
   "source": []
  }
 ],
 "metadata": {
  "kernelspec": {
   "display_name": "Python 3 (ipykernel)",
   "language": "python",
   "name": "python3"
  },
  "language_info": {
   "codemirror_mode": {
    "name": "ipython",
    "version": 3
   },
   "file_extension": ".py",
   "mimetype": "text/x-python",
   "name": "python",
   "nbconvert_exporter": "python",
   "pygments_lexer": "ipython3",
   "version": "3.9.18"
  }
 },
 "nbformat": 4,
 "nbformat_minor": 5
}
