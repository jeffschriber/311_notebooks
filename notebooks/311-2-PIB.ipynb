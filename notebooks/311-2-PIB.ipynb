{
 "cells": [
  {
   "cell_type": "code",
   "execution_count": null,
   "id": "57e083fc",
   "metadata": {},
   "outputs": [],
   "source": [
    "import psi4\n",
    "import fortecubeview"
   ]
  },
  {
   "cell_type": "markdown",
   "id": "846795c0",
   "metadata": {},
   "source": [
    "# Particle in a Box and Molecular Orbitals Computational Lab\n",
    "Written by Dr Jeff Schriber, adapted from Psi4Education materials by Ryan C. Fortenberry"
   ]
  },
  {
   "cell_type": "markdown",
   "id": "fcb8c11e",
   "metadata": {},
   "source": [
    "Molecular orbitals are the basic building block of molecular modeling and quantum chemical computation. In this lab, you will compute the molecular orbitals for various molecules in order to gain an appreciation for how computational chemical models are used to help elucidate issues that often crop up in chemical research.\n",
    "\n",
    "Molecular orbitals are composed of linear combinations of atomic orbitals. The atomic orbitals for those \"off the axis of symmetry\" are ofted treated as symmetry pairs. As a result, the orbitals for atoms not on the axis of symmetry are not treated independently. They come in various $+$ and $-$ combinations for small atoms. Can you think of why this is? Consider the particle-in-a-box wave function at higher $n$ values. The change in sign as the function crosses the axis creates a node. The addition of off-axis orbitals also creates nodes that must be considered since MOs are wave functions unto themselves.\n",
    "\n",
    "For linear molecules, the computations don't actually create true $\\pi$ orbitals that encompass the entire exterior of the molecule. Due to some limits in the computation, these are treated as degenerate pairs (hence, two orbitals with the same energy) which have one iten in the on-linear and another in the off-linear Cartesian directions. If the linear molecule has the main axis of the molecule along the $z$-axis, for instance, the pair of degenerate $\\pi$ orbitals will be found in the $xz$ and $yz$ planes. This and other points should become clear in the below exercise. Remember to answer all questions in complete and correct sentences."
   ]
  },
  {
   "cell_type": "markdown",
   "id": "498f3677",
   "metadata": {},
   "source": [
    "## Part 1. Getting Started with Psi4\n",
    "\n",
    "In this (and future) exercies, we will be running quantum chemistry computations. All computations require a molecular input, typically in the form of cartesian coordinates. In the program we use, coordinates are specified like:"
   ]
  },
  {
   "cell_type": "code",
   "execution_count": null,
   "id": "5875dc7a",
   "metadata": {},
   "outputs": [],
   "source": [
    "molecule = psi4.geometry(\"\"\"\n",
    "0 1\n",
    "C 0.000000 0.000000 0.000000\n",
    "O 0.000000 0.000000 1.128324\n",
    "\"\"\")"
   ]
  },
  {
   "cell_type": "markdown",
   "id": "000c740e",
   "metadata": {},
   "source": [
    "The first two numbers represent the total net charge and the spin multiplicity. Following those specifications, we have one line for each atom in the molecule, containing the $xyz$ coordinates for its location in space. Note that no bonding information is required here.\n",
    "\n",
    "While computations can provide a lot of information, we will be using them to 1) obtain optimized molecular geometries, 2) obtain ground state electronic energies, and 3) obtain molecular orbitals to visualize.  "
   ]
  },
  {
   "cell_type": "markdown",
   "id": "bd33fe83",
   "metadata": {},
   "source": [
    "A geometry optimization is a routine to find (approximately) the lowest-energy structure for a molecule. In Psi4, this is done quite easily:"
   ]
  },
  {
   "cell_type": "code",
   "execution_count": null,
   "id": "bfc02708",
   "metadata": {},
   "outputs": [],
   "source": [
    "molecule = psi4.geometry(\"\"\"\n",
    "0 1\n",
    "C 0.000000 0.000000 0.000000\n",
    "O 0.000000 0.000000 1.128324\n",
    "\"\"\")\n",
    "\n",
    "psi4.optimize('HF/sto-3g')"
   ]
  },
  {
   "cell_type": "markdown",
   "id": "594f2949",
   "metadata": {},
   "source": [
    "The 'HF/STO-3G' is our method, and the output is printed after. These are long files, but at the bottom you will find the optimized coordinates. Using these coordinates, we can then compute our total energy and get the molecular orbitals:"
   ]
  },
  {
   "cell_type": "code",
   "execution_count": null,
   "id": "f77a8dfb",
   "metadata": {},
   "outputs": [],
   "source": [
    "molecule = psi4.geometry(\"\"\"\n",
    " \n",
    "\n",
    "units angstrom\n",
    "symmetry c1\n",
    "\"\"\")\n",
    "psi4.set_options({\n",
    "    'cubeprop_tasks':['orbitals'],\n",
    "    'cubeprop_filepath':'./PIB/CO/'})\n",
    "\n",
    "E, wfn = psi4.energy('HF/sto-3g', return_wfn=True)\n",
    "psi4.cubeprop(wfn)"
   ]
  },
  {
   "cell_type": "markdown",
   "id": "ef9b1a48",
   "metadata": {},
   "source": [
    "Again, scrolling towards the bottom, we can see our total energy and the orbital energies. Note that in the input here we used 'symmetry c1'. This is required for our orbital viewing program. In the list of the orbital energies, we can see the numerical labels for each orbital, in addition to the orbital energy. \n",
    "\n",
    "Let's visualize them! I've provided a simple function to help make the orbitals. All we need to pass to this function is 1) the path to the files, the size of the image, some color preferences, and the amount of the orbital to show. You can then click through the orbitals to see each one."
   ]
  },
  {
   "cell_type": "code",
   "execution_count": null,
   "id": "190708b0",
   "metadata": {},
   "outputs": [],
   "source": [
    "fortecubeview.plot(path='./PIB/CO', width=600,height=400, sumlevel=0.85)"
   ]
  },
  {
   "cell_type": "markdown",
   "id": "b91fe34c",
   "metadata": {},
   "source": [
    "\n",
    "\n",
    "This all seems neat, but where do we get our coordinates from? Well, there are a few ways to get them. In my opinion the most generally useful way is to draw them ourselves in a program that will give us the coordinates of our drawn molecule. The program of choice is Avogadro, and it can be downloaded freely online here: https://avogadro.cc/. \n",
    "\n",
    "Practice for a little while with using Avogadro, and I'll demo a few things as well. To view the coordinates of a molecule you've drawn, click 'Build'$\\rightarrow$'Cartesian Editor'. A window will appear with copyable coordinates that you can use in this notebook."
   ]
  },
  {
   "cell_type": "markdown",
   "id": "f146b79e",
   "metadata": {},
   "source": [
    "## Part 2. What Happens to Orbitals as a 1-Dimensional Box Gets Longer?\n",
    "\n",
    " 1.  Open Avogadro and build the ethylene molecule ($C_2H_2$)\n",
    " 2.  Optimize the geometry of this molecule, note that it should be perfectly linear. Use the cell below for the optimization"
   ]
  },
  {
   "cell_type": "code",
   "execution_count": null,
   "id": "e66c1feb",
   "metadata": {},
   "outputs": [],
   "source": [
    "molecule = psi4.geometry(\"\"\"\n",
    "\n",
    "symmetry c1\n",
    "\"\"\")\n",
    "\n",
    "psi4.optimize('HF/sto-3g')"
   ]
  },
  {
   "cell_type": "markdown",
   "id": "7fa8d78a",
   "metadata": {},
   "source": [
    " 3. Take the optimized geometry, and record the C-C bond lengths. Then, run an energy calculation to get the total energy and the orbitals "
   ]
  },
  {
   "cell_type": "code",
   "execution_count": null,
   "id": "144d2804",
   "metadata": {},
   "outputs": [],
   "source": [
    "opt_molecule = psi4.geometry(\"\"\"\n",
    "\n",
    "symmetry c1\n",
    "\"\"\")\n",
    "\n",
    "Energy, wfn = psi4.energy('HF/sto-3g', return_wfn=True)\n"
   ]
  },
  {
   "cell_type": "markdown",
   "id": "fb0c7144",
   "metadata": {},
   "source": [
    " 4. Look through the output, and record the total energy as well as the orbital energies for the $\\pi$ and $\\pi^*$ orbitals."
   ]
  },
  {
   "cell_type": "code",
   "execution_count": null,
   "id": "a0dc24fe",
   "metadata": {},
   "outputs": [],
   "source": [
    "fortecubeview.plot(path='./PIB/C2H2', width=600,height=400, sumlevel=0.85)"
   ]
  },
  {
   "cell_type": "markdown",
   "id": "10b5b406",
   "metadata": {},
   "source": [
    "## Part 3. Molecular Orbital Assignment"
   ]
  },
  {
   "cell_type": "markdown",
   "id": "14ce40a7",
   "metadata": {},
   "source": [
    " 1. Use the data from part 1 to complete the following table for $C_2H_2$ using only the $\\pi$ and $\\pi^*$ molecular orbitals."
   ]
  },
  {
   "cell_type": "markdown",
   "id": "cf16cb36",
   "metadata": {},
   "source": [
    "\n",
    "|Orbital Number|Orbital Energy|Number of Nodes|Degeneracy|\n",
    "|-|-|-|-|\n",
    "| | | | |"
   ]
  },
  {
   "cell_type": "code",
   "execution_count": null,
   "id": "53820d52",
   "metadata": {},
   "outputs": [],
   "source": []
  },
  {
   "cell_type": "markdown",
   "id": "c803db17",
   "metadata": {},
   "source": [
    "You will now repeat this exercise for a few related molecules. Use the provided cells to run your geometry optimization, energy calls, and orbital plots as needed. "
   ]
  },
  {
   "cell_type": "markdown",
   "id": "d52544ab",
   "metadata": {},
   "source": [
    " 2. $C_4H_6$"
   ]
  },
  {
   "cell_type": "code",
   "execution_count": null,
   "id": "1f9ee9fe",
   "metadata": {},
   "outputs": [],
   "source": []
  },
  {
   "cell_type": "code",
   "execution_count": null,
   "id": "4c6b4d77",
   "metadata": {},
   "outputs": [],
   "source": []
  },
  {
   "cell_type": "code",
   "execution_count": null,
   "id": "ac4696cc",
   "metadata": {},
   "outputs": [],
   "source": []
  },
  {
   "cell_type": "markdown",
   "id": "cfabb043",
   "metadata": {},
   "source": [
    "Complete the following table for all $\\pi$ and $\\pi^*$ orbitals.\n",
    "\n",
    "|Orbital Number|Orbital Energy|Number of Nodes|Degeneracy|\n",
    "|-|-|-|-|\n",
    "| | | | |"
   ]
  },
  {
   "cell_type": "markdown",
   "id": "28b4e762",
   "metadata": {},
   "source": [
    "3. $C_6H_8$"
   ]
  },
  {
   "cell_type": "code",
   "execution_count": null,
   "id": "2f2a4f51",
   "metadata": {},
   "outputs": [],
   "source": []
  },
  {
   "cell_type": "code",
   "execution_count": null,
   "id": "24b8ea35",
   "metadata": {},
   "outputs": [],
   "source": []
  },
  {
   "cell_type": "code",
   "execution_count": null,
   "id": "479a33c7",
   "metadata": {},
   "outputs": [],
   "source": []
  },
  {
   "cell_type": "markdown",
   "id": "7991cab8",
   "metadata": {},
   "source": [
    "Complete the following table for all $\\pi$ and $\\pi^*$ orbitals.\n",
    "\n",
    "|Orbital Number|Orbital Energy|Number of Nodes|Degeneracy|\n",
    "|-|-|-|-|\n",
    "| | | | |"
   ]
  },
  {
   "cell_type": "markdown",
   "id": "385a22db",
   "metadata": {},
   "source": [
    "4. $C_8H_{10}$"
   ]
  },
  {
   "cell_type": "code",
   "execution_count": null,
   "id": "66c4e379",
   "metadata": {},
   "outputs": [],
   "source": []
  },
  {
   "cell_type": "code",
   "execution_count": null,
   "id": "721a27d5",
   "metadata": {},
   "outputs": [],
   "source": []
  },
  {
   "cell_type": "code",
   "execution_count": null,
   "id": "c503f656",
   "metadata": {},
   "outputs": [],
   "source": []
  },
  {
   "cell_type": "markdown",
   "id": "4c036e40",
   "metadata": {},
   "source": [
    "Complete the following table for all $\\pi$ and $\\pi^*$ orbitals.\n",
    "\n",
    "|Orbital Number|Orbital Energy|Number of Nodes|Degeneracy|\n",
    "|-|-|-|-|\n",
    "| | | | |"
   ]
  },
  {
   "cell_type": "markdown",
   "id": "c569a244",
   "metadata": {},
   "source": [
    "5. How does the lowest-energy $\\pi$ orbital change as the molecule gets longer? Does this agree with the particle in a box description? Explain."
   ]
  },
  {
   "cell_type": "markdown",
   "id": "e37aba5d",
   "metadata": {},
   "source": []
  },
  {
   "cell_type": "markdown",
   "id": "354daecf",
   "metadata": {},
   "source": [
    "6. What happens to the energy of the $\\pi$ highest occupied molecular orbital (HOMO) for each successively longer molecule? Can you explain this trend with the particle in a box model?"
   ]
  },
  {
   "cell_type": "markdown",
   "id": "0719d844",
   "metadata": {},
   "source": []
  },
  {
   "cell_type": "markdown",
   "id": "91f7371a",
   "metadata": {},
   "source": [
    "8. In the cell below, calculate the HOMO-LUMO gap for each molecule using the particle in a box model. Use the distance between terminal carbons to define your box length. I recommend using python to define constants and doing the math here, rather than on paper.\n",
    "\n",
    "    Then, summarize your results in the table that follows.\n",
    "\n"
   ]
  },
  {
   "cell_type": "code",
   "execution_count": null,
   "id": "77dcc43a",
   "metadata": {},
   "outputs": [],
   "source": []
  },
  {
   "cell_type": "markdown",
   "id": "316db605",
   "metadata": {},
   "source": [
    "|Molecule|HOMO-LUMO Gap (Calculated)| HOMO-LUMO Gap (PiB) |Length|\n",
    "|-|-|-|-|"
   ]
  },
  {
   "cell_type": "markdown",
   "id": "561341a6",
   "metadata": {},
   "source": [
    " 9. Plot these data, where your x-axis corresponds to the molecule length (excluding hydrogen), and the y-axis corresponds to the HOMO-LUMO gap. Be sure to have your axes labeled, and plot curves for both the calculated and PiB energy gaps. "
   ]
  },
  {
   "cell_type": "code",
   "execution_count": null,
   "id": "05b11fe3",
   "metadata": {},
   "outputs": [],
   "source": [
    "import matplotlib\n",
    "from matplotlib import pyplot as plt\n",
    "\n",
    "plt.figure()\n"
   ]
  },
  {
   "cell_type": "markdown",
   "id": "dea458de",
   "metadata": {},
   "source": [
    " 10. Describe the trend you observe in your plot. Is there agreement between the HF computations and the particle in a box method? Explain. "
   ]
  },
  {
   "cell_type": "markdown",
   "id": "f89f6d42",
   "metadata": {},
   "source": []
  },
  {
   "cell_type": "markdown",
   "id": "9f0e4832",
   "metadata": {},
   "source": [
    "## Part 4. Comparison to Last Week's Data\n",
    "\n",
    "As the final part of this lab, we will run some calculations on one of the molecules we studied last week. Rather than building the molecule in Avogadro and performing the quantum mechanical computations in this notebook, we will submit jobs on the ChemCompute queue.\n",
    "\n",
    "Our goal is to use advanced quantum mechanical methods to calculate the excitation energies we measured last week, and to use these calculations to assign the peaks to specific transitions between orbitals.\n",
    "\n",
    "### Running the Calculations\n",
    "\n",
    "1. Go to the ChemCompute website and in the top left corner, click GAMESS/Psi4 and then Psi4: Submit a Job\n",
    "2. In the first window, use the editor to draw one of the molecules you studied in lab. Once the structure is drawn, click \"Transfer\" in the bottom right corner. A 3D rendering of the molecule will appear in the panel. Rotate the molecule to inspect that it is correct, then click \"Next\".\n",
    "3. There are two types of calculations we will want to run. The first is the geometry optimization, used to get improved nuclear coordinates. After the geometry optimization, we want to run a single-point energy calculation so that we can analyze the excited states. Here are the parameters needed for each calculation type:\n",
    "\n",
    "\n",
    "|Option| Geometry Optimization | Single Point Energy|\n",
    "|-|-|-|\n",
    "|Type|Geometry Optimization|Single Point Energy|\n",
    "|Add-Ons| None | UV-Vis|\n",
    "|Basis Set|STO-3G|6-31G*|\n",
    "|DFT Functional|B3LYP|B3LYP|\n",
    "|PCM Solvent| None | None|\n",
    "\n",
    "All other defaults should be appropriate, but be sure to select the correct charge and multiplicity depending on your molecule.\n",
    "\n",
    "4. Click \"Submit Job\" to run the calculation (your first one should be the geometry optimization). You should be directed to a page with spinning gears. Once the job is complete, click \"Do More Calculations\". The optimized geometry should be automatically loaded, so all you need to do is change the calculation parameters for the Single-Point Energy calculation. Submit this job.\n"
   ]
  },
  {
   "cell_type": "markdown",
   "id": "dacccfea-830a-4cbb-b1a7-4441d77f7e65",
   "metadata": {},
   "source": [
    "### Analyzing the Output\n",
    "\n",
    "When the calculation is finished, you should see a box that says \"UV-Vis\", click it. What appears is a table of all calculated excitations. You can compare this to an experimental spectrum. The excitation energies correspond to the peak positions, and the oscillator strengths correspond to the peak heights.\n",
    "\n",
    "You will also see a rendering of your molecule, with a list of all molecular orbitals and their energies. Clicking the orbital renders it on the molecule, and you can see which are occupied or unoccupied with a \"2e\" designation. \n",
    "\n",
    "Lastly, in the panel above, you should see a tab titled \"Output File\". Click this and scroll to the bottom. Upon successful completion of a calculation in Psi4, the final line printed is \"Psi4 exiting successfully. Buy a developer a beer!\". Make sure this line appears. Also at the bottom of this file, you will find the same table of excitations as before, followed by detailed information about each excited state. Specifically, each excited state transition is characterized by electrons moving to different orbitals. For each state, we can see the energy change (in a.u. and in nm), the oscillator strength, and a list of orbital transitions along with weights that specifiy how important that transition is to characterizing the state. These values will allow us to determine what orbitals are involved in each transition, which we can then compare to the particle in a box states to verify your choice of \"n\".\n",
    "\n"
   ]
  },
  {
   "cell_type": "markdown",
   "id": "65385611-f367-4edf-bf44-4a2c3af3bb32",
   "metadata": {},
   "source": [
    "### Reporting Your Results\n",
    "\n",
    "1. Run the computations for each of your molecules. As you complete them, fill out the tables below. Be sure to have all of your energies in the same units. You should have a row for every ***experimentally*** determined peak for each molecule."
   ]
  },
  {
   "cell_type": "markdown",
   "id": "c1c389da",
   "metadata": {},
   "source": [
    "Input your energies into this table:\n",
    "\n",
    "\n",
    "Table 1. Excitations energies of conjugated dyes.\n",
    "\n",
    "|Molecule| B3LYP/6-31G* | HOMO-LUMO Gap | PiB | Exp. |\n",
    "|-|-|-|-|-|\n",
    "| | | | | |\n"
   ]
  },
  {
   "cell_type": "markdown",
   "id": "66a9c192-0d52-4e3e-9d7f-f856547e631e",
   "metadata": {},
   "source": [
    "Input the excitation details into the table below. For each molecule, specify which state is responsible for each observed peak (matching the above table). Also, under the \"Orbitals\" header, list the orbitals involved in the excitation along with the weights. For example, if a transition is only involves the HOMO to LUMO excitation, list HOMO->LUMO (100%).\n",
    "\n",
    "Table 2. Summary of Excitations.\n",
    "\n",
    "|Molecule| State | Orbitals | Oscillator Strength |\n",
    "|-|-|-|-|\n",
    "| | | | |"
   ]
  },
  {
   "cell_type": "markdown",
   "id": "cfb00c34-3831-45b2-8c0c-2c19ddfad8e9",
   "metadata": {},
   "source": [
    "2. Describe the nature of the excitations for your molecules. Do they all involve similar orbitals, or are there some with varying occupations?"
   ]
  },
  {
   "cell_type": "markdown",
   "id": "58774689-3077-470d-8905-a7cbc64eb2c3",
   "metadata": {},
   "source": []
  },
  {
   "cell_type": "markdown",
   "id": "7a0fd3c5-853b-43d1-845f-32068590ce59",
   "metadata": {},
   "source": [
    "3. How well does the theoretical method agree with your experimental values? Does the HOMO-LUMO gap agree with the experimental value? Does the agreement between theory and experiment depend strongly on the type of excitation?"
   ]
  },
  {
   "cell_type": "markdown",
   "id": "3097ac2c-19ba-469e-b3a5-93986534c230",
   "metadata": {},
   "source": []
  },
  {
   "cell_type": "markdown",
   "id": "5f3f2cdd-7972-42ad-948f-cbf4911e1523",
   "metadata": {},
   "source": [
    "4. Looking at Table 2, do the excitations match the values of $n$ you use for the PiB energy equations? What complications can arise? "
   ]
  },
  {
   "cell_type": "markdown",
   "id": "03594f8b-e37a-4ee4-83e2-084e825b0d31",
   "metadata": {},
   "source": []
  }
 ],
 "metadata": {
  "kernelspec": {
   "display_name": "Python 3 (ipykernel)",
   "language": "python",
   "name": "python3"
  },
  "language_info": {
   "codemirror_mode": {
    "name": "ipython",
    "version": 3
   },
   "file_extension": ".py",
   "mimetype": "text/x-python",
   "name": "python",
   "nbconvert_exporter": "python",
   "pygments_lexer": "ipython3",
   "version": "3.13.3"
  }
 },
 "nbformat": 4,
 "nbformat_minor": 5
}
