{
 "cells": [
  {
   "cell_type": "code",
   "execution_count": null,
   "id": "57e083fc",
   "metadata": {},
   "outputs": [],
   "source": [
    "import psi4\n",
    "import moly"
   ]
  },
  {
   "cell_type": "markdown",
   "id": "846795c0",
   "metadata": {},
   "source": [
    "# Particle in a Box and Molecular Orbitals Computational Lab\n",
    "Written by Dr Jeff Schriber, adapted from Psi4Education materials by Ryan C. Fortenberry"
   ]
  },
  {
   "cell_type": "markdown",
   "id": "fcb8c11e",
   "metadata": {},
   "source": [
    "Molecular orbitals are the basic building block of molecular modeling and quantum chemical computation. In this lab, you will compute the molecular orbitals for various molecules in order to gain an appreciation for how computational chemical models are used to help elucidate issues that often crop up in chemical research.\n",
    "\n",
    "Molecular orbitals are composed of linear combinations of atomic orbitals. The atomic orbitals for those \"off the axis of symmetry\" are ofted treated as symmetry pairs. As a result, the orbitals for atoms not on the axis of symmetry are not treated independently. They come in various $+$ and $-$ combinations for small atoms. Can you think of why this is? Consider the particle-in-a-box wave function at higher $n$ values. The change in sign as the function crosses the axis creates a node. The addition of off-axis orbitals also creates nodes that must be considered since MOs are wave functions unto themselves.\n",
    "\n",
    "For linear molecules, the computations don't actually create true $\\pi$ orbitals that encompass the entire exterior of the molecule. Due to some limits in the computation, these are treated as degenerate pairs (hence, two orbitals with the same energy) which have one iten in the on-linear and another in the off-linear Cartesian directions. If the linear molecule has the main axis of the molecule along the $z$-axis, for instance, the pair of degenerate $\\pi$ orbitals will be found in the $xz$ and $yz$ planes. This and other points should become clear in the below exercise. Remember to answer all questions in complete and correct sentences."
   ]
  },
  {
   "cell_type": "markdown",
   "id": "498f3677",
   "metadata": {},
   "source": [
    "## Part 1. Getting Started with Psi4\n",
    "\n",
    "In this (and future) exercies, we will be running quantum chemistry computations. All computations require a molecular input, typically in the form of cartesian coordinates. In the program we use, coordinates are specified like:"
   ]
  },
  {
   "cell_type": "code",
   "execution_count": null,
   "id": "5875dc7a",
   "metadata": {},
   "outputs": [],
   "source": [
    "molecule = psi4.geometry(\"\"\"\n",
    "0 1\n",
    "C 0.000000 0.000000 0.000000\n",
    "O 0.000000 0.000000 1.128323\n",
    "\"\"\")"
   ]
  },
  {
   "cell_type": "markdown",
   "id": "000c740e",
   "metadata": {},
   "source": [
    "The first two numbers represent the total net charge and the spin multiplicity. Following those specifications, we have one line for each atom in the molecule, containing the $xyz$ coordinates for its location in space. Note that no bonding information is required here.\n",
    "\n",
    "While computations can provide a lot of information, we will be using them to 1) obtain optimized molecular geometries, 2) obtain ground state electronic energies, and 3) obtain molecular orbitals to visualize.  "
   ]
  },
  {
   "cell_type": "markdown",
   "id": "bd33fe83",
   "metadata": {},
   "source": [
    "A geometry optimization is a routine to find (approximately) the lowest-energy structure for a molecule. In Psi4, this is done quite easily:"
   ]
  },
  {
   "cell_type": "code",
   "execution_count": null,
   "id": "bfc02708",
   "metadata": {},
   "outputs": [],
   "source": [
    "molecule = psi4.geometry(\"\"\"\n",
    "0 1\n",
    "C 0.000000 0.000000 0.000000\n",
    "O 0.000000 0.000000 1.128323\n",
    "\"\"\")\n",
    "\n",
    "psi4.optimize('HF/cc-pVDZ')"
   ]
  },
  {
   "cell_type": "markdown",
   "id": "594f2949",
   "metadata": {},
   "source": [
    "The 'b3lyp/6-31g' is our method, and the output is printed after. These are long files, but at the bottom you will find the optimized coordinates. Using these coordinates, we can then compute our total energy and get the molecular orbitals:"
   ]
  },
  {
   "cell_type": "code",
   "execution_count": null,
   "id": "f77a8dfb",
   "metadata": {},
   "outputs": [],
   "source": [
    "molecule = psi4.geometry(\"\"\"\n",
    " \n",
    "\n",
    "units angstrom\n",
    "symmetry c1\n",
    "\"\"\")\n",
    "\n",
    "E, wfn = psi4.energy('HF/cc-pVDZ', return_wfn=True)"
   ]
  },
  {
   "cell_type": "markdown",
   "id": "ef9b1a48",
   "metadata": {},
   "source": [
    "Again, scrolling towards the bottom, we can see our total energy and the orbital energies. Note that in the input here we used 'symmetry c1'. This is required for our orbital viewing program. In the list of the orbital energies, we can see the numerical labels for each orbital, in addition to the orbital energy. \n",
    "\n",
    "Let's visualize them! I've provided a simple function to help make the orbitals. All we need to pass this function is 1) a name (don't need to specify), 2) the wave function from our computation and 3) the orbital we want to see, identified by number, and a few parameters you don't need to change. Lets look at the HOMO and LUMO for our CO example. First, the HOMO:"
   ]
  },
  {
   "cell_type": "code",
   "execution_count": null,
   "id": "190708b0",
   "metadata": {},
   "outputs": [],
   "source": [
    "fig = moly.Figure(figsize=(600,600))\n",
    "fig.add_orbital(\"Name\", wfn, 7, 0.1, colorscale=\"portland_r\")\n",
    "fig.show()"
   ]
  },
  {
   "cell_type": "markdown",
   "id": "dc5fbd76",
   "metadata": {},
   "source": [
    "This is a $\\sigma$-type bonding orbital. Note that we knew which orbital is the HOMO by the label in the output file. The LUMO is the next one,"
   ]
  },
  {
   "cell_type": "code",
   "execution_count": null,
   "id": "ce83893b",
   "metadata": {},
   "outputs": [],
   "source": [
    "fig = moly.Figure(figsize=(600,600))\n",
    "fig.add_orbital(\"Name\", wfn, 8, 0.1, colorscale=\"portland_r\")\n",
    "fig.show()"
   ]
  },
  {
   "cell_type": "markdown",
   "id": "b91fe34c",
   "metadata": {},
   "source": [
    "This appears to be a $\\pi^*$ orbital.\n",
    "\n",
    "This all seems neat, but where do we get our coordinates from? Well, there are a few ways to get them. In my opinion the most generally useful way is to draw them ourselves in a program that will give us the coordinates of our drawn molecule. The program of choice is Avogadro, and it can be downloaded freely online here: https://avogadro.cc/. \n",
    "\n",
    "Practice for a little while with using Avogadro, and I'll demo a few things as well. To view the coordinates of a molecule you've drawn, click 'Build'$\\rightarrow$'Cartesian Editor'. A window will appear with copyable coordinates that you can use in this notebook."
   ]
  },
  {
   "cell_type": "markdown",
   "id": "f146b79e",
   "metadata": {},
   "source": [
    "## Part 2. What Happens to Orbitals as a 1-Dimensional Box Gets Longer?\n",
    "\n",
    " 1.  Open Avogadro and build the ethylene molecule ($C_2H_2$)\n",
    " 2.  Optimize the geometry of this molecule, note that it should be perfectly linear. Use the cell below for the optimization"
   ]
  },
  {
   "cell_type": "code",
   "execution_count": null,
   "id": "e66c1feb",
   "metadata": {},
   "outputs": [],
   "source": [
    "molecule = psi4.geometry(\"\"\"\n",
    "\n",
    "symmetry c1\n",
    "\"\"\")\n",
    "\n",
    "psi4.optimize('HF/cc-pVDZ')"
   ]
  },
  {
   "cell_type": "markdown",
   "id": "7fa8d78a",
   "metadata": {},
   "source": [
    " 3. Take the optimized geometry, and record the C-C bond lengths. Then, run an energy calculation to get the total energy and the orbitals "
   ]
  },
  {
   "cell_type": "code",
   "execution_count": null,
   "id": "144d2804",
   "metadata": {},
   "outputs": [],
   "source": [
    "opt_molecule = psi4.geometry(\"\"\"\n",
    "\n",
    "symmetry c1\n",
    "\"\"\")\n",
    "\n",
    "Energy, wfn = psi4.energy('HF/cc-pVDZ', return_wfn=True)\n"
   ]
  },
  {
   "cell_type": "markdown",
   "id": "fb0c7144",
   "metadata": {},
   "source": [
    " 4. Look through the output, and record the total energy as well as the orbital energies for the $\\pi$ and $\\pi^*$ orbitals."
   ]
  },
  {
   "cell_type": "code",
   "execution_count": null,
   "id": "a0dc24fe",
   "metadata": {},
   "outputs": [],
   "source": [
    "fig = moly.Figure(figsize=(600,600))\n",
    "fig.add_orbital(\"Name\", wfn, , 0.1, colorscale=\"portland_r\")\n",
    "fig.show()"
   ]
  },
  {
   "cell_type": "markdown",
   "id": "10b5b406",
   "metadata": {},
   "source": [
    "## Part 3. Assignment"
   ]
  },
  {
   "cell_type": "markdown",
   "id": "14ce40a7",
   "metadata": {},
   "source": [
    " 1. Use the data from part 1 to complete the following for $C_2H_2$:"
   ]
  },
  {
   "cell_type": "markdown",
   "id": "3bb790d4",
   "metadata": {},
   "source": [
    "|Bond Lengths (angstrom) | |\n",
    "|-|-|\n",
    "|$C_1-H$  | |\n",
    "|$C_1-C_2$| |\n",
    "|$C_2-H$  | |"
   ]
  },
  {
   "cell_type": "markdown",
   "id": "cf16cb36",
   "metadata": {},
   "source": [
    "Orbital Energies (Hartree)\n",
    "|$\\pi$ occupied|$\\pi$ virtual|\n",
    "|-|-|\n",
    "| | |"
   ]
  },
  {
   "cell_type": "markdown",
   "id": "505f0541",
   "metadata": {},
   "source": [
    "Number of orbitals\n",
    "|$\\sigma$ orbitals|$\\pi$ orbitals|\n",
    "|-|-|\n",
    "| | |"
   ]
  },
  {
   "cell_type": "markdown",
   "id": "537a3778",
   "metadata": {},
   "source": [
    " - How many nodes are in the highest occupied molecular orbital?"
   ]
  },
  {
   "cell_type": "code",
   "execution_count": null,
   "id": "53820d52",
   "metadata": {},
   "outputs": [],
   "source": []
  },
  {
   "cell_type": "markdown",
   "id": "c803db17",
   "metadata": {},
   "source": [
    "You will now repeat this exercise for a few related molecules. Use the provided cells to run your geometry optimization, energy calls, and orbital plots as needed. "
   ]
  },
  {
   "cell_type": "markdown",
   "id": "d52544ab",
   "metadata": {},
   "source": [
    " 2. $C_4H_2$"
   ]
  },
  {
   "cell_type": "code",
   "execution_count": null,
   "id": "1f9ee9fe",
   "metadata": {},
   "outputs": [],
   "source": []
  },
  {
   "cell_type": "code",
   "execution_count": null,
   "id": "4c6b4d77",
   "metadata": {},
   "outputs": [],
   "source": []
  },
  {
   "cell_type": "code",
   "execution_count": null,
   "id": "ac4696cc",
   "metadata": {},
   "outputs": [],
   "source": []
  },
  {
   "cell_type": "markdown",
   "id": "19c13153",
   "metadata": {},
   "source": [
    "|Bond Lengths (angstrom) | |\n",
    "|-|-|\n",
    "|$C_1-H$  | |\n",
    "|$C_1-C_2$| |\n",
    "|$C_2-H$  | |"
   ]
  },
  {
   "cell_type": "markdown",
   "id": "cfabb043",
   "metadata": {},
   "source": [
    "Orbital Energies (Hartree)\n",
    "|$\\pi$ occupied|$\\pi$ virtual|\n",
    "|-|-|\n",
    "| | |"
   ]
  },
  {
   "cell_type": "markdown",
   "id": "b8eedf42",
   "metadata": {},
   "source": [
    "Number of orbitals\n",
    "|$\\sigma$ orbitals|$\\pi$ orbitals|\n",
    "|-|-|\n",
    "| | |"
   ]
  },
  {
   "cell_type": "markdown",
   "id": "8e819d94",
   "metadata": {},
   "source": [
    " - How many nodes are in the highest occupied molecular orbital?"
   ]
  },
  {
   "cell_type": "code",
   "execution_count": null,
   "id": "0ddd8bfc",
   "metadata": {},
   "outputs": [],
   "source": []
  },
  {
   "cell_type": "markdown",
   "id": "28b4e762",
   "metadata": {},
   "source": [
    "3. $C_6H_2$"
   ]
  },
  {
   "cell_type": "code",
   "execution_count": null,
   "id": "2f2a4f51",
   "metadata": {},
   "outputs": [],
   "source": []
  },
  {
   "cell_type": "code",
   "execution_count": null,
   "id": "24b8ea35",
   "metadata": {},
   "outputs": [],
   "source": []
  },
  {
   "cell_type": "code",
   "execution_count": null,
   "id": "479a33c7",
   "metadata": {},
   "outputs": [],
   "source": []
  },
  {
   "cell_type": "markdown",
   "id": "db8f8f84",
   "metadata": {},
   "source": [
    " - Record all C-C bond lengths (in angstrom):"
   ]
  },
  {
   "cell_type": "markdown",
   "id": "7dae2326",
   "metadata": {},
   "source": [
    "|Bond Lengths (angstrom) | |\n",
    "|-|-|\n",
    "|$C_1-H$  | |\n",
    "|$C_1-C_2$| |\n",
    "|$C_2-H$  | |"
   ]
  },
  {
   "cell_type": "markdown",
   "id": "7991cab8",
   "metadata": {},
   "source": [
    "Orbital Energies (Hartree)\n",
    "|$\\pi$ occupied|$\\pi$ virtual|\n",
    "|-|-|\n",
    "| | |"
   ]
  },
  {
   "cell_type": "markdown",
   "id": "a54f0a3f",
   "metadata": {},
   "source": [
    "Number of orbitals\n",
    "|$\\sigma$ orbitals|$\\pi$ orbitals|\n",
    "|-|-|\n",
    "| | |"
   ]
  },
  {
   "cell_type": "markdown",
   "id": "b645f3c3",
   "metadata": {},
   "source": [
    " - How many nodes are in the highest occupied molecular orbital?"
   ]
  },
  {
   "cell_type": "code",
   "execution_count": null,
   "id": "25f8afbc",
   "metadata": {},
   "outputs": [],
   "source": []
  },
  {
   "cell_type": "markdown",
   "id": "385a22db",
   "metadata": {},
   "source": [
    "4. $C_8H_2$"
   ]
  },
  {
   "cell_type": "code",
   "execution_count": null,
   "id": "66c4e379",
   "metadata": {},
   "outputs": [],
   "source": []
  },
  {
   "cell_type": "code",
   "execution_count": null,
   "id": "721a27d5",
   "metadata": {},
   "outputs": [],
   "source": []
  },
  {
   "cell_type": "code",
   "execution_count": null,
   "id": "c503f656",
   "metadata": {},
   "outputs": [],
   "source": []
  },
  {
   "cell_type": "markdown",
   "id": "b90468a4",
   "metadata": {},
   "source": [
    "|Bond Lengths (angstrom) | |\n",
    "|-|-|\n",
    "|$C_1-H$  | |\n",
    "|$C_1-C_2$| |\n",
    "|$C_2-H$  | |"
   ]
  },
  {
   "cell_type": "markdown",
   "id": "4c036e40",
   "metadata": {},
   "source": [
    "Orbital Energies (Hartree)\n",
    "|$\\pi$ occupied|$\\pi$ virtual|\n",
    "|-|-|\n",
    "| | |"
   ]
  },
  {
   "cell_type": "markdown",
   "id": "4bc15166",
   "metadata": {},
   "source": [
    "Number of orbitals\n",
    "|$\\sigma$ orbitals|$\\pi$ orbitals|\n",
    "|-|-|\n",
    "| | |"
   ]
  },
  {
   "cell_type": "markdown",
   "id": "e14568e2",
   "metadata": {},
   "source": [
    " - How many nodes are in the highest occupied molecular orbital?"
   ]
  },
  {
   "cell_type": "code",
   "execution_count": null,
   "id": "caaaf9b5",
   "metadata": {},
   "outputs": [],
   "source": []
  },
  {
   "cell_type": "markdown",
   "id": "c569a244",
   "metadata": {},
   "source": [
    "5. What is the physical difference in the $\\pi$ orbitals for each sucessive level for each molecule?"
   ]
  },
  {
   "cell_type": "markdown",
   "id": "e37aba5d",
   "metadata": {},
   "source": []
  },
  {
   "cell_type": "markdown",
   "id": "354daecf",
   "metadata": {},
   "source": [
    "6. What happens to the energy of the $\\pi$ highest occupied molecular orbital (HOMO) for each successively longer molecule?"
   ]
  },
  {
   "cell_type": "markdown",
   "id": "0719d844",
   "metadata": {},
   "source": []
  },
  {
   "cell_type": "markdown",
   "id": "5ccbafe4",
   "metadata": {},
   "source": [
    "7. How does this relate to the particle in a box model and to the pattern of bond lenghts? Hint: think nodes."
   ]
  },
  {
   "cell_type": "markdown",
   "id": "835e65ab",
   "metadata": {},
   "source": []
  },
  {
   "cell_type": "markdown",
   "id": "9f0e4832",
   "metadata": {},
   "source": [
    "## Part 4. Comparison to Last Week's Data\n",
    "\n",
    "As the final part of this lab, choose one of the smaller dyes we used last week to build in Avogadro, optimize the geometry, and plot the molecular orbitals. Use the following three cells for your calculations."
   ]
  },
  {
   "cell_type": "code",
   "execution_count": null,
   "id": "1ee5b56e",
   "metadata": {},
   "outputs": [],
   "source": []
  },
  {
   "cell_type": "code",
   "execution_count": null,
   "id": "9f28f644",
   "metadata": {},
   "outputs": [],
   "source": []
  },
  {
   "cell_type": "code",
   "execution_count": null,
   "id": "27f57d30",
   "metadata": {},
   "outputs": [],
   "source": []
  },
  {
   "cell_type": "markdown",
   "id": "da1f93ab",
   "metadata": {},
   "source": [
    "1. What is the HOMO-LUMO gap? Express your answer in Hartree and in cm${}^{-1}$."
   ]
  },
  {
   "cell_type": "markdown",
   "id": "c1c389da",
   "metadata": {},
   "source": []
  },
  {
   "cell_type": "markdown",
   "id": "0e3138cf",
   "metadata": {},
   "source": [
    "2. From last week, what is the HOMO-LUMO gap from the particle in a box model (in cm${}^{-1}$)?"
   ]
  },
  {
   "cell_type": "markdown",
   "id": "a5756e9e",
   "metadata": {},
   "source": []
  },
  {
   "cell_type": "markdown",
   "id": "47512466",
   "metadata": {},
   "source": [
    "3. How do the answers from 1 and 2 compare to the experimentally measured value you determined last week?"
   ]
  },
  {
   "cell_type": "markdown",
   "id": "3174bef6",
   "metadata": {},
   "source": []
  }
 ],
 "metadata": {
  "kernelspec": {
   "display_name": "Python 3 (ipykernel)",
   "language": "python",
   "name": "python3"
  },
  "language_info": {
   "codemirror_mode": {
    "name": "ipython",
    "version": 3
   },
   "file_extension": ".py",
   "mimetype": "text/x-python",
   "name": "python",
   "nbconvert_exporter": "python",
   "pygments_lexer": "ipython3",
   "version": "3.10.11"
  }
 },
 "nbformat": 4,
 "nbformat_minor": 5
}
