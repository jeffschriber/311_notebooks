{
 "cells": [
  {
   "cell_type": "code",
   "execution_count": 1,
   "id": "772d7b94",
   "metadata": {},
   "outputs": [],
   "source": [
    "import matplotlib\n",
    "import matplotlib.pyplot as plt\n",
    "from numpy.polynomial import polynomial as P\n",
    "import numpy as np"
   ]
  },
  {
   "cell_type": "markdown",
   "id": "37f588f3",
   "metadata": {},
   "source": [
    "# Experiment 4: Fluorescence Quenching\n",
    "\n",
    "## Data Analysis: Stern--Volmer"
   ]
  },
  {
   "cell_type": "markdown",
   "id": "6202d846",
   "metadata": {},
   "source": [
    "In the cell below, record the concentration of the stock KI solution. Also record the molar mass of KI. Store both values as variables."
   ]
  },
  {
   "cell_type": "code",
   "execution_count": 1,
   "id": "7c4fdc5d",
   "metadata": {},
   "outputs": [],
   "source": [
    "stock_concentration = "
   ]
  },
  {
   "cell_type": "markdown",
   "id": "2abdc090",
   "metadata": {},
   "source": [
    "In the cell below, record the volumes of quencher added. Also record the fluorscence intensities"
   ]
  },
  {
   "cell_type": "code",
   "execution_count": 2,
   "id": "95b99bce",
   "metadata": {},
   "outputs": [],
   "source": [
    "vol_I = []\n",
    "intensities = []\n",
    "\n",
    "\n",
    "vol_I = np.asarray(vol_I)\n",
    "intensities = np.asarray(intensities)\n"
   ]
  },
  {
   "cell_type": "markdown",
   "id": "098b7da8",
   "metadata": {},
   "source": [
    "Convert your volumes to quencher concentration using your value of the stock KI concentration."
   ]
  },
  {
   "cell_type": "code",
   "execution_count": null,
   "id": "dc5c0783",
   "metadata": {},
   "outputs": [],
   "source": []
  },
  {
   "cell_type": "markdown",
   "id": "32bec202",
   "metadata": {},
   "source": [
    "Convert your intensities and yields to relative intensities and relative yields by dividing the intensity/yield of the zero-quencher solution by each value."
   ]
  },
  {
   "cell_type": "code",
   "execution_count": null,
   "id": "30b8dbdb",
   "metadata": {},
   "outputs": [],
   "source": []
  },
  {
   "cell_type": "markdown",
   "id": "510a8da1",
   "metadata": {},
   "source": [
    "Perform a linear fit of your concentrations (x values) to your $I_0/I$ values. Be sure to compute the R^2 value and print the slope and intercept."
   ]
  },
  {
   "cell_type": "code",
   "execution_count": null,
   "id": "3b6e01b3",
   "metadata": {},
   "outputs": [],
   "source": []
  },
  {
   "cell_type": "markdown",
   "id": "f3fbf408",
   "metadata": {},
   "source": [
    "Which set of data gives the better fit?"
   ]
  },
  {
   "cell_type": "markdown",
   "id": "eea57872",
   "metadata": {},
   "source": []
  },
  {
   "cell_type": "markdown",
   "id": "abece17e",
   "metadata": {},
   "source": [
    "In the cell below, plot both sets of data on the same graph, using different colors and a legend. Also, plot the best fit lines you computed previously. I have provided some sample code to produce the line data for the plot."
   ]
  },
  {
   "cell_type": "code",
   "execution_count": null,
   "id": "d046975e",
   "metadata": {},
   "outputs": [],
   "source": [
    "# this gets a set of x and y values for a best fit line,\n",
    "# where the slope and intercept are stored in the list c\n",
    "xline = np.linspace(0,0.05,20)\n",
    "yline = [c[0] + c[1]*x for x in xline]\n",
    "\n",
    "# Your code here"
   ]
  },
  {
   "cell_type": "markdown",
   "id": "8982a391",
   "metadata": {},
   "source": [
    "Use your data to compute $K_{sv}$. Also, assuming $\\tau_0 = 4.1$ nm, what is the value of $k_q$?"
   ]
  },
  {
   "cell_type": "code",
   "execution_count": null,
   "id": "e6258c59",
   "metadata": {},
   "outputs": [],
   "source": []
  },
  {
   "cell_type": "markdown",
   "id": "9053ad2a",
   "metadata": {},
   "source": [
    "## Data Analysis: Diffusion Coefficient"
   ]
  },
  {
   "cell_type": "markdown",
   "id": "55133dbd",
   "metadata": {},
   "source": [
    "Record the viscocities for each mixture, as well as the measured intensities and quantum yields."
   ]
  },
  {
   "cell_type": "code",
   "execution_count": null,
   "id": "9b130cfc",
   "metadata": {},
   "outputs": [],
   "source": [
    "vol_I = []\n",
    "intensities = []\n",
    "yields = []\n",
    "\n",
    "vol_I = np.asarray(vol_I)\n",
    "intensities = np.asarray(intensities)\n"
   ]
  },
  {
   "cell_type": "markdown",
   "id": "7a158135",
   "metadata": {},
   "source": [
    "As before, convert your intensities and yields to relative intensities by dividing the intensity/yield of the zero-quencher solution by each value."
   ]
  },
  {
   "cell_type": "code",
   "execution_count": null,
   "id": "c611be98",
   "metadata": {},
   "outputs": [],
   "source": []
  },
  {
   "cell_type": "markdown",
   "id": "c627fc05",
   "metadata": {},
   "source": [
    "Make a plot of $I_0/I$ vs. viscocity"
   ]
  },
  {
   "cell_type": "code",
   "execution_count": null,
   "id": "8f741c9c",
   "metadata": {},
   "outputs": [],
   "source": []
  },
  {
   "cell_type": "markdown",
   "id": "1653f6bd",
   "metadata": {},
   "source": [
    "Describe the plot, how does the fluorecence quenching depend on the viscocity?"
   ]
  },
  {
   "cell_type": "markdown",
   "id": "e67bd5ad",
   "metadata": {},
   "source": []
  },
  {
   "cell_type": "markdown",
   "id": "c9d9d3a2",
   "metadata": {},
   "source": [
    "Using your computed value of $k_{\\rm{diff}}$ and your experimental value of $K_{sv}$, compute an estimate of $\\tau_0$. How does this value compare with the one provided?"
   ]
  },
  {
   "cell_type": "markdown",
   "id": "92f3a0ee",
   "metadata": {},
   "source": []
  },
  {
   "cell_type": "markdown",
   "id": "ced0b110",
   "metadata": {},
   "source": [
    "How does your $k_{\\rm{diff}}$ compare with the $k_q$ from Part 1?"
   ]
  },
  {
   "cell_type": "markdown",
   "id": "c419fc68",
   "metadata": {},
   "source": []
  },
  {
   "cell_type": "markdown",
   "id": "d471ac63",
   "metadata": {},
   "source": [
    "Using all of your data and plots, do your results support the idea that fluroescence quenching of fluorescein is diffusion controlled? Be very complete in your explanation."
   ]
  },
  {
   "cell_type": "markdown",
   "id": "8e2fee93",
   "metadata": {},
   "source": []
  }
 ],
 "metadata": {
  "kernelspec": {
   "display_name": "Python 3 (ipykernel)",
   "language": "python",
   "name": "python3"
  },
  "language_info": {
   "codemirror_mode": {
    "name": "ipython",
    "version": 3
   },
   "file_extension": ".py",
   "mimetype": "text/x-python",
   "name": "python",
   "nbconvert_exporter": "python",
   "pygments_lexer": "ipython3",
   "version": "3.9.18"
  }
 },
 "nbformat": 4,
 "nbformat_minor": 5
}
