{
 "cells": [
  {
   "cell_type": "markdown",
   "id": "303a5d90",
   "metadata": {},
   "source": [
    "# The Hydrogen Emission Spectrum\n",
    "\n",
    "Jupyter Notebook written by Dr Jeff Schriber\n",
    "\n",
    "*Adapted from the Iona College Physical Chemistry Laboratory Manual by Dr Jerome Levkov and Dr Thomas Castonguay*\n",
    "\n",
    "## I. Objectives\n",
    " - To measure the visible hydrogen emission spectrum of hydrogen gas\n",
    " - To calculate the Rydberg constant \n",
    " - To calculate the *series term* for the Balmer series\n",
    "\n",
    "## II. Introduction\n",
    "Johannes Robert Rydberg was a Swedish physicist who lived from 1854-1919. He studied the emission of electromagnetic energy by substances, and he was able to arrive at a relatively simple expression that related the various lines in the spectra of chemical elements.  This experiment will investigate the formula he developed.\n",
    "\n",
    "In this experiment, hydrogen gas is subjected to a high energy electric discharge, producing atoms in a distribution of electronically excited states (though, this was not known by Rydberg). These atoms relax down to lower energy states and emit radiation in the process. The radiation emitted in a given transition is a photon, whose energy is equal to the energy difference between the initial and final energy levels.\n",
    "\n",
    "Since the energy levels are discreetly defined, the emission spectrum consists of several series of bright lines, following the general formula:\n",
    "\n",
    "$$\\tilde{\\nu} = \\frac{1}{\\lambda}=R_{H}\\big(\\frac{1}{n_{f}^2}-\\frac{1}{n_{i}^2}\\big), $$\n",
    "\n",
    "where $n_{f}<n_i$ and $\\tilde{\\nu}$ is the wavenumber, a frequency, whose units are in cm$^{-1}$.\n",
    "\n",
    "We have likely seen Rydberg's formula before, and we also likely have practice in using it to predict the energy of an electronic transition in hydrogen. However, when presented with experimental data, how can we determine the quantities in the Rydberg formula? Specifically, given an experimental spectrum, can we determine $R_{H}$, and can we identify the states $n_i$, $n_f$ associated with each transition?\n"
   ]
  },
  {
   "cell_type": "markdown",
   "id": "26afb894",
   "metadata": {},
   "source": [
    "## III. Theory\n",
    "\n",
    "The goal of our eqperiment is to calculate $R_H$ and to obtain the *series constant* ($n_f$) and the *term constant* ($n_i$) using collected hydrogen emission data. Our data is comprised of a series of emitted frequencies, $\\tilde{\\nu}$, but it is not immediately clear which states are associated with each line.\n",
    "\n",
    "To compute the term constant and the series constant, we need to consider three consecutive emission lines, lets call them $\\tilde{\\nu}_a$, $\\tilde{\\nu}_b$, and $\\tilde{\\nu}_c$. We can define the difference between two of the frequencies as:\n",
    "$$\\begin{align}\n",
    "\\Delta\\tilde{\\nu}_{ab} & = \\tilde{\\nu}_b - \\tilde{\\nu}_a \\\\\n",
    "& = R_{H}\\big(\\frac{1}{n_{f}^2}-\\frac{1}{(n_{i}+1)^2}\\big) - R_{H}\\big(\\frac{1}{n_{f}^2}-\\frac{1}{n_{i}^2}\\big) \\\\\n",
    "& = R_{H}\\big(\\frac{1}{n_{i}^2}-\\frac{1}{(n_{i}+1)^2}\\big)\\\\\n",
    "& = R_{H}\\big(\\frac{2n_i + 1}{n_i^2(n_i+1)^2}\\big).\n",
    "\\end{align}\n",
    "$$\n",
    "Note that the frequencies used in $\\Delta\\tilde{\\nu}_{ab}$ are for adjacent emission lines. We can similarly define $\\Delta\\tilde{\\nu}_{ac}$, where $\\tilde{\\nu}_{a}$ and $\\tilde{\\nu}_{c}$ are spaced two lines apart,\n",
    "$$\\begin{align}\n",
    "\\Delta\\tilde{\\nu}_{ac} & = \\tilde{\\nu}_c - \\tilde{\\nu}_a \\\\\n",
    "& = R_{H}\\big(\\frac{1}{n_{f}^2}-\\frac{1}{(n_{i}+2)^2}\\big) - R_{H}\\big(\\frac{1}{n_{f}^2}-\\frac{1}{n_{i}^2}\\big) \\\\\n",
    "& = R_{H}\\big(\\frac{1}{n_{i}^2}-\\frac{1}{(n_{i}+2)^2}\\big)\\\\\n",
    "& = R_{H}\\big(\\frac{4n_i + 4}{n_i^2(n_i+2)^2}\\big).\n",
    "\\end{align}\n",
    "$$\n",
    "\n",
    "Again, $\\Delta\\tilde{\\nu}_{ab}$ and $\\Delta\\tilde{\\nu}_{ac}$ will be determined experimentally. So we are left with two equations and two unknowns. We can determine $\\nu_{i}$ by dividing our two equations,\n",
    "$$\\begin{align}\n",
    "\\frac{\\Delta\\tilde{\\nu}_{ac}}{\\Delta\\tilde{\\nu}_{ab}} & = R_{H}\\big(\\frac{4n_i + 4}{n_i^2(n_i+2)^2}\\big) * \\frac{1}{R_{H}}\\big(\\frac{n_i^2(n_i+1)^2}{2n_i + 1}\\big) \\\\\n",
    "& = \\big(\\frac{4n_i + 4}{2n_i+1}\\big)\\big(\\frac{n_i+1}{n_i+2}\\big)^2\n",
    "\\end{align}\n",
    "$$\n",
    "This equation is rather tricky to solve, so we will let the computer do it for us. Once we do that and get a value for $n_i$ (remember, it needs to be an integer), we can use a definition of either $\\Delta\\tilde{\\nu}_{ab}$ or $\\Delta\\tilde{\\nu}_{ac}$ to get $R_H$. Lastly, we can use the first equation (Rydberg's formula) to determine $n_f$, and thus all of our unknowns will be solved.\n"
   ]
  },
  {
   "cell_type": "markdown",
   "id": "698fdca2",
   "metadata": {},
   "source": [
    "## IV. Experimental Procedure\n",
    "\n",
    "We will be collecting emission data from two sources: a hydrogen tube and a mercury tube. We will use the hydrogen tube for computing our unknowns, and the mercury tube is used for calibration.\n",
    "\n",
    "### Equipment\n",
    " - Ocean Optics mini-spectrometer\n",
    " - University laptops with Logger Pro\n",
    " - Glass tube with mercury\n",
    " - Glass tube with hydrogen\n",
    " - Power supply\n",
    " \n",
    "### Safety\n",
    "\n",
    "Ultraviolet light can cause severe eye burns. Shield your eyes from the hydrogen and mercury light as much as possible. Do not touch the lamps while the power supply is on. Keep the power supply unplugged when the switch is off, and do not turn the switch on while unplugged.\n",
    "\n",
    "### Procedure\n",
    "\n"
   ]
  },
  {
   "cell_type": "markdown",
   "id": "bd1af38f",
   "metadata": {},
   "source": [
    "#### Setting up the spectrometer\n",
    "  1. Be sure that the spectrometer is plugged in to a University laptop and Logger Pro is open.\n",
    "  2. Confirm that the blue fiber optic cable is connected to the spectrometer, and keep the blue cap on the other end of the cable when not in use.\n",
    "  3. The default behavior in Logger Pro is to collect absorption spectra, but we want emission data. To change this, click 'Experiment'$\\rightarrow$'Change units' and be sure that 'Intensity' is selected.\n",
    "\n",
    "#### Collecting hydrogen emission data\n",
    "  1. Plug in the power supply and turn it on. The tube may be flickering or dim, wait a few minutes to let the system heat up a little and stabilize. \n",
    "  2. Take the blue cap off the end of the fiber optic cable. \n",
    "  3. Point the end of the cable at the glowing tube, you will want the end of the cable to get pretty close to the tube.\n",
    "  4. With the tube in place, click the green 'Collect' button in Logger Pro.\n",
    "  5. You will see peaks appear in the plot. When the peaks show a strong signal, click the red 'End' button to stop the collection.\n",
    "  6. Save the data by clicking 'File'$\\rightarrow$'Export to .csv'. Save the data as 'hydrogen_run1.csv'.\n",
    "  7. Wait five to ten minutes, then collect another spectrum, this time naming the datafile 'hydrogen_run2.csv'.\n",
    "  8. Turn off the power supply, and unplug it.\n",
    "  9. Log in to ChemCompute on the same laptop. Click 'Jupyter' on the top menu, and select 'Use Psi4 or Jupyterhub'. You should see your available notebooks, including those from previous labs.\n",
    "  10. Navigate to your notebook directory (/311_notebooks/notebooks/).\n",
    "  11. On the right side of the page, click 'Upload' and select both .csv filed you have created.\n",
    "  12. Once uploaded, log out of the computer.\n",
    "  \n",
    "#### Collecting mercury emission data\n",
    "  1. Plug in the power supply and turn it on. The tube may be flickering or dim, wait a few minutes to let the system heat up a little and stabilize. \n",
    "  2. Take the blue cap off the end of the fiber optic cable. \n",
    "  3. Point the end of the cable at the glowing tube, you will want the end of the cable to get pretty close to the tube.\n",
    "  4. With the tube in place, click the green 'Collect' button in Logger Pro.\n",
    "  5. You will see peaks appear in the plot. When the peaks show a strong signal, click the red 'End' button to stop the collection.\n",
    "  6. Save the data by clicking 'File'$\\rightarrow$'Export to .csv'. Save the data as 'mercury_run1.csv'.\n",
    "  7. Wait five to ten minutes, then collect another spectrum, this time naming the datafile 'mercury_run2.csv'.\n",
    "  8. Turn off the power supply, and unplug it.\n",
    "  9. Log in to ChemCompute on the same laptop. Click 'Jupyter' on the top menu, and select 'Use Psi4 or Jupyterhub'. You should see your available notebooks, including those from previous labs.\n",
    "  10. Navigate to your notebook directory (/311_notebooks/notebooks/).\n",
    "  11. On the right side of the page, click 'Upload' and select both .csv filed you have created.\n",
    "  12. Once uploaded, log out of the computer.\n",
    "  \n",
    "  "
   ]
  },
  {
   "cell_type": "markdown",
   "id": "1983c87b",
   "metadata": {},
   "source": [
    "## V. Data Analysis \n",
    " Before we begin, I'm going to define a small function to plot our emission data. "
   ]
  },
  {
   "cell_type": "code",
   "execution_count": null,
   "id": "359baef1",
   "metadata": {},
   "outputs": [],
   "source": [
    "import matplotlib\n",
    "from matplotlib import pyplot as plt\n",
    "%matplotlib notebook\n",
    "\n",
    "def plot_spectrum(filename):\n",
    "    # This function takes a string and generates a scatterplot\n",
    "    # The input string needs to be in quotation marks, and it\n",
    "    # specifies the filename of the .csv data\n",
    "    \n",
    "    lambdas = []\n",
    "    intensities = []\n",
    "    with open(filename,'r') as f:\n",
    "            for n, line in enumerate(f):\n",
    "                line = line.strip().split(',')\n",
    "                \n",
    "                if n == 0:\n",
    "                    continue\n",
    "                else:\n",
    "                    lambdas.append(float(line[0]))\n",
    "                    intensities.append(float(line[1]))\n",
    "    plt.figure()\n",
    "    plt.plot(lambdas,intensities, linestyle=\"-\",marker='')\n",
    "    plt.xlabel(\"Wavelength (nm)\")\n",
    "    plt.ylabel(\"Intensity (Arb. units)\")\n",
    "    plt.show()\n",
    "\n"
   ]
  },
  {
   "cell_type": "markdown",
   "id": "3a43ebf1",
   "metadata": {},
   "source": [
    "### A. Calibration\n",
    "\n",
    "Before analyzing our hydrogen emission spectra, we need an idea of how reliable our measurements are. To do this, we will calibrate our procedure using our mercury emission data because its true emission values are very accurately known."
   ]
  },
  {
   "cell_type": "markdown",
   "id": "61a42ec4",
   "metadata": {},
   "source": [
    " 1. Use the plot spectrum function to generate a plot of the mercury emission spectrum. Type in your file name in quotation marks in the function below"
   ]
  },
  {
   "cell_type": "code",
   "execution_count": null,
   "id": "3aba0195",
   "metadata": {},
   "outputs": [],
   "source": [
    "plot_spectrum() # put the filename in this function"
   ]
  },
  {
   "cell_type": "markdown",
   "id": "3e085b48",
   "metadata": {},
   "source": [
    " 2. Once the plot appears, click the square at the bottom of the plot (next to the save icon). This tool lets you click/drag a square to zoom in on. Use this tool to zoom in on the region between 380 nm and 720 nm. Be sure not to cut off the tops of any peaks, or the baseline.\n",
    " 3. With the zoomed-in plot looking good, collect the $\\lambda_{\\rm{max}}$ values for the six lowest-wavelength peaks, and store them in the mercury_peaks array below. ***NOTE: If your plot has peaks at approximately 484 nm and 655 nm, ignore those***"
   ]
  },
  {
   "cell_type": "code",
   "execution_count": null,
   "id": "e3c4aa8d",
   "metadata": {},
   "outputs": [],
   "source": [
    "# Type the wavelengths of your peaks into this array\n",
    "# Be sure to separate your typed values with commas\n",
    "mercury_peaks = []"
   ]
  },
  {
   "cell_type": "markdown",
   "id": "dcbce539",
   "metadata": {},
   "source": [
    "4. Once you've collected your wavelength values, click the blue power button in the top right corner of your plot.\n",
    "5. Now, we need to plot these peak values against literature values to see how well they agree. I've provided a list of reference values below."
   ]
  },
  {
   "cell_type": "code",
   "execution_count": null,
   "id": "0c4c4e64",
   "metadata": {},
   "outputs": [],
   "source": [
    "reference_peaks = [404.656,435.834,546.075,576.96,579.062,690.746]"
   ]
  },
  {
   "cell_type": "markdown",
   "id": "3da5ecad",
   "metadata": {},
   "source": [
    "  6. Now we want to plot these values, and fit a line to examine the correlation. We'll first do the statistics and then make the plot. Fill out the code sections below to obtain the slope (m) and intercept (b) of our best fit line."
   ]
  },
  {
   "cell_type": "code",
   "execution_count": null,
   "id": "a23eb80a",
   "metadata": {},
   "outputs": [],
   "source": [
    "## Here, we are going to us linear regression \n",
    "## to get the slope and intercept of our best fit line\n",
    "\n",
    "# We'll call our data the x values,\n",
    "# and the reference data will be the values\n",
    "# set these variables below:\n",
    "\n",
    "x = \n",
    "y = \n",
    "\n",
    "# we can do this very easily by calling the stats package\n",
    "from scipy import stats\n",
    "m, b, r_value, p_value, std_err = stats.linregress(x,y)\n",
    "\n",
    "## Print the slope, intercept and R^2 value below.\n",
    "## Note that the program returns R rather than R^2\n",
    "print( )\n"
   ]
  },
  {
   "cell_type": "markdown",
   "id": "1ba07c4f",
   "metadata": {},
   "source": [
    "7. What is your R^2 value? Does this imply good correlation between your data and the reference data? Does this give you confidence in the accuracy of our experimental setup? Answer in the cell below."
   ]
  },
  {
   "cell_type": "markdown",
   "id": "afbe487a",
   "metadata": {},
   "source": []
  },
  {
   "cell_type": "markdown",
   "id": "77025adf",
   "metadata": {},
   "source": [
    " 8. Now let's plot this data. We can use a standard call (like we did week 1) to plot the data, but we need to do something a little different to plot our best fit line. Below I provide a function to plot a straight line given a slope and an intercept:"
   ]
  },
  {
   "cell_type": "code",
   "execution_count": null,
   "id": "12a153f4",
   "metadata": {},
   "outputs": [],
   "source": [
    "import numpy as np\n",
    "def plot_a_line(slope, intercept):\n",
    "    \"\"\"Plot a line from slope and intercept\"\"\"\n",
    "    axes = plt.gca()\n",
    "    x_vals = np.array(axes.get_xlim())\n",
    "    y_vals = intercept + slope * x_vals\n",
    "    plt.plot(x_vals, y_vals, '--')"
   ]
  },
  {
   "cell_type": "markdown",
   "id": "b8be1dff",
   "metadata": {},
   "source": [
    " 9. In the cell below, call the function plt.scatter() to plot our data vs the reference data. I'll provide the call, but you must type in the x and y values. Additionally, plot the best fit line by calling the above function and passing your computed slope and y-intercept. When you've plotted the points and the best fit line, click the blue power button on the top right corner of the plot. I will also add labels."
   ]
  },
  {
   "cell_type": "code",
   "execution_count": null,
   "id": "fa9bde85",
   "metadata": {},
   "outputs": [],
   "source": [
    "plt.figure()\n",
    "plt.xlabel(\"Experimental Emission Wavelengths (nm)\")\n",
    "plt.ylabel(\"Reference Emission Wavelengths (nm)\")\n",
    "plt.scatter( )\n",
    "plot_a_line( )"
   ]
  },
  {
   "cell_type": "markdown",
   "id": "b5fda2c3",
   "metadata": {},
   "source": [
    " 10. While the data likely match pretty closely, our experimental values will have some errors. We can use the equation of our best fit line ($y=mx+b$) to correct our hydrogen data. We will do this in the next section"
   ]
  },
  {
   "cell_type": "markdown",
   "id": "cd844c90",
   "metadata": {},
   "source": [
    "### B. Analysis of the Hydrogen Emission Spectrum\n",
    "  \n",
    "  1. First, let's plot our hydrogen emission spectrum so that we can record the emission peaks as we did before. As before, use the plot_spectrum() function and pass the name of the .csv file as a parameter:\n"
   ]
  },
  {
   "cell_type": "code",
   "execution_count": null,
   "id": "36431dd3",
   "metadata": {},
   "outputs": [],
   "source": [
    "plot_spectrum()"
   ]
  },
  {
   "cell_type": "markdown",
   "id": "84ab33ad",
   "metadata": {},
   "source": [
    "  2. As before, use the zoom tool to zoom in on all of the peaks, but be careful not to zoom in too close or cut off the baseline. Hover the cursor carefully over each peak to record the value for $\\lambda_{\\rm{max}}$. Put it in the list below, there should be exactly four peaks. Once you have recorded all wavelength values, click the blue power button in the top right corner of the plot."
   ]
  },
  {
   "cell_type": "code",
   "execution_count": null,
   "id": "4df3fce2",
   "metadata": {},
   "outputs": [],
   "source": [
    "hydrogen_peaks = []"
   ]
  },
  {
   "cell_type": "markdown",
   "id": "86abae74",
   "metadata": {},
   "source": [
    " 4. Next, we need to apply our error correction that we started to develop in the previous section. The way this works is fairly simple. Our best fit line, $y=mx+b$, essentially transforms our experimental data (x) into the literature reference values (y). The implication is that this same transformation will brin our peak values for hydrogen closer to the literature best estimates. So, what we need to do is plug in each of our peak values into the line equation. To do this, fill out the code block below:"
   ]
  },
  {
   "cell_type": "code",
   "execution_count": null,
   "id": "26a6ec92",
   "metadata": {},
   "outputs": [],
   "source": [
    "# This is where we'll store the corrected peaks\n",
    "corrected_hydrogen_peaks = []\n",
    "\n",
    "# We need to loop through our values\n",
    "for hydrogen_peak in hydrogen_peaks:\n",
    "    \n",
    "    # Now, use the equation y=mx +b\n",
    "    # Our y will be the updated peak,\n",
    "    # and x is our experimentally determined one\n",
    "    \n",
    "    ### YOUR CODE HERE\n",
    "    corrected_peak = \n",
    "\n",
    "    \n",
    "    #and we'll add the corrected peak to the list\n",
    "    corrected_hydrogen_peaks.append(corrected_peak)\n",
    "    \n",
    "    # Let's also print the difference between our original values\n",
    "    # and the corrected ones\n",
    "    print(corrected_peak - hydrogen_peak)\n",
    "    \n",
    "    "
   ]
  },
  {
   "cell_type": "markdown",
   "id": "23e9ac1f",
   "metadata": {},
   "source": [
    " 5. How do the corrected peaks compare to your original ones? Answer in the cell below."
   ]
  },
  {
   "cell_type": "markdown",
   "id": "8a6b94c6",
   "metadata": {},
   "source": []
  },
  {
   "cell_type": "markdown",
   "id": "088864ad",
   "metadata": {},
   "source": [
    " 6. What remains is to label our peaks with their transitions ($n_i$, $n_j$) and to compute an estimate of the Rydberg constant ($R_H$). First we will use the following relation,\n",
    " $$\\begin{equation}\n",
    "\\frac{\\Delta\\tilde{\\nu}_{ac}}{\\Delta\\tilde{\\nu}_{ab}} = \\big(\\frac{4n_i + 4}{2n_i+1}\\big)\\big(\\frac{n_i+1}{n_i+2}\\big)^2\n",
    "\\end{equation}\n",
    "$$\n",
    "to compute our value of $n_i$.\n",
    "We will start by calculating $\\frac{\\Delta\\tilde{\\nu}_{ac}}{\\Delta\\tilde{\\nu}_{ab}}$ from our experimental data in the next cell"
   ]
  },
  {
   "cell_type": "code",
   "execution_count": null,
   "id": "37ca22dc",
   "metadata": {},
   "outputs": [],
   "source": [
    "# First, lets identify our three states and get the wavelengths\n",
    "# These should be the **LOWEST ENERGY** states in our list\n",
    "peak1 = \n",
    "peak2 = \n",
    "peak3 = \n",
    "\n",
    "#Now, convert these to wavenumbers \n",
    "# Recall, a wavenumber is cm^(-1)\n",
    "nu_a = \n",
    "nu_b = \n",
    "nu_c = \n",
    "\n",
    "## We now can calculate dnu_ab and dnu_ac\n",
    "## dnu_ab is the difference between nu_b and nu_a\n",
    "dnu_ab = \n",
    "\n",
    "## dnu_ac is the difference between nu_c and nu_a\n",
    "dnu_ac = \n",
    "\n",
    "# Finally, we can get the ratio of delta nus\n",
    "# that make up the left side of the above equation\n",
    "\n",
    "nu_ratio = "
   ]
  },
  {
   "cell_type": "markdown",
   "id": "6168b1c9",
   "metadata": {},
   "source": [
    "We now have the left hand side of the equation,\n",
    "$$\\begin{equation}\n",
    "\\frac{\\Delta\\tilde{\\nu}_{ac}}{\\Delta\\tilde{\\nu}_{ab}} = \\big(\\frac{4n_i + 4}{2n_i+1}\\big)\\big(\\frac{n_i+1}{n_i+2}\\big)^2\n",
    "\\end{equation}.\n",
    "$$\n",
    "\n",
    "We will now solve for $n_i$ using a numerical solver. You will need to type in the right hand side of the above equation in the the specified spot in the cell below."
   ]
  },
  {
   "cell_type": "code",
   "execution_count": null,
   "id": "66e3276e",
   "metadata": {},
   "outputs": [],
   "source": [
    "# This is a special tool that will solve for n_i, which\n",
    "# turns out to be rather difficult to do by hand\n",
    "from sympy import *\n",
    "from sympy import roots, Eq\n",
    "x = symbols('x')\n",
    "\n",
    "# We need to tell the solver what our function is \n",
    "# by defining an equation of the form Eq(rhs,lhs).\n",
    "# We'll have the complicated right-hand-side first,\n",
    "# and the left-land side second (here, its just the ratios of nu)\n",
    "\n",
    "# Write the equation below in the correct format.\n",
    "# Use 'x' and the variable name rather than 'n_i'\n",
    "eq = Eq(\n",
    "    ## Write the expression in the line below\n",
    "    \n",
    ", nu_ratio)\n",
    "\n",
    "# Now, we tell the solver to solve! \n",
    "# FYI, this is an approximate algorithm, and the 2\n",
    "# in the function is our initial guess\n",
    "n_i = nsolve(eq, 2)\n",
    "print(n_i)"
   ]
  },
  {
   "cell_type": "markdown",
   "id": "92c98ec5",
   "metadata": {},
   "source": [
    " 7. What is your value of $n_i$? What state does it represent?"
   ]
  },
  {
   "cell_type": "markdown",
   "id": "1050299e",
   "metadata": {},
   "source": []
  },
  {
   "cell_type": "markdown",
   "id": "572ea4c9",
   "metadata": {},
   "source": [
    " 8. Recall our definition of $\\Delta\\tilde{\\nu}_{ab}$,\n",
    " $$\\begin{align}\n",
    "\\Delta\\tilde{\\nu}_{ab} & = \\tilde{\\nu}_b - \\tilde{\\nu}_a \\\\\n",
    "& = R_{H}\\big(\\frac{1}{n_{f}^2}-\\frac{1}{(n_{i}+1)^2}\\big) - R_{H}\\big(\\frac{1}{n_{f}^2}-\\frac{1}{n_{i}^2}\\big) \\\\\n",
    "& = R_{H}\\big(\\frac{1}{n_{i}^2}-\\frac{1}{(n_{i}+1)^2}\\big)\\\\\n",
    "& = R_{H}\\big(\\frac{2n_i + 1}{n_i^2(n_i+1)^2}\\big).\n",
    "\\end{align}\n",
    "$$\n",
    "In the cell below, use your value of $n_i$ and $\\Delta\\tilde{\\nu}_{ab}$ to estimate the Rydberg constant."
   ]
  },
  {
   "cell_type": "code",
   "execution_count": null,
   "id": "0b2d11ea",
   "metadata": {},
   "outputs": [],
   "source": [
    "rydberg_constant = \n",
    "print(rydberg_constant)"
   ]
  },
  {
   "cell_type": "markdown",
   "id": "8da11f82",
   "metadata": {},
   "source": [
    "9. Find a literature value for the Rydberg constant, keeping units the same as ours. What is the value you found, and how does it compare to the one you just computed?"
   ]
  },
  {
   "cell_type": "markdown",
   "id": "8d95a32b",
   "metadata": {},
   "source": []
  },
  {
   "cell_type": "markdown",
   "id": "e9d426f3",
   "metadata": {},
   "source": [
    " 10. Use your value of $R_{H}$ and $n_i$ to determine the series constant, $n_f$. Hint: Use the Rydberg formula."
   ]
  },
  {
   "cell_type": "code",
   "execution_count": null,
   "id": "05ebdf9e",
   "metadata": {},
   "outputs": [],
   "source": [
    "n_f = \n",
    "print(n_f)"
   ]
  },
  {
   "cell_type": "markdown",
   "id": "11200c05",
   "metadata": {},
   "source": [
    " 11. What is your calculated series constant? What does this number represent?"
   ]
  },
  {
   "cell_type": "markdown",
   "id": "4379efe0",
   "metadata": {},
   "source": []
  },
  {
   "cell_type": "markdown",
   "id": "98e1666d",
   "metadata": {},
   "source": [
    "  12. Looking at the plot of the Hydrogen emission spectra, does the intensity of the signal tend to increase or decrease with the wavelength? What do you think is the explanation for this trend?"
   ]
  },
  {
   "cell_type": "markdown",
   "id": "11d399ca",
   "metadata": {},
   "source": []
  },
  {
   "cell_type": "markdown",
   "id": "7f133438-7554-4069-b836-23e3cbb302cc",
   "metadata": {},
   "source": [
    "13. As the frequency of the lines increase, how does the spacing bewteen lines change? What does this suggest about the energy levels in hydrogen?"
   ]
  },
  {
   "cell_type": "markdown",
   "id": "c3af905d-87ea-49d9-8b29-f76667e4456b",
   "metadata": {},
   "source": []
  },
  {
   "cell_type": "markdown",
   "id": "b264ee88-a301-4106-a7d4-39564616cb37",
   "metadata": {},
   "source": [
    "14. A different series of lines in the hydrogen spectrum is called the *Brackett* series, whose first line is at 4050 nm. Identify $n_i$ and $n_f$ for this line."
   ]
  },
  {
   "cell_type": "markdown",
   "id": "20e99d1e-8ef5-416f-a3c6-083a5c6eeab3",
   "metadata": {},
   "source": []
  },
  {
   "cell_type": "markdown",
   "id": "12617308-a29e-4057-8386-7ab401aa6d77",
   "metadata": {},
   "source": [
    "15. Discuss the definitions and differences between the following terms as they relate to our experiment: energy, energy level, transition, and spectroscopic line."
   ]
  },
  {
   "cell_type": "markdown",
   "id": "0e46110a-6e51-4998-a243-75652fa24c24",
   "metadata": {},
   "source": []
  },
  {
   "cell_type": "markdown",
   "id": "277d5f0b-27f4-4c0c-820b-a12e617272e7",
   "metadata": {},
   "source": [
    "16. The figure below shows a spectrum of the sun taken from earth. Notice that the emission spectrum shows several sharp dips (or, \"dark gaps\") at a few wavelengths, where less light of that wavelength is detected. These dips correspond to Fraunhofer lines, and they can be used to determine the chemical content of the solar atmosphere. Using the figure and your data, determine if hydrogen is present in the sun's atmosphere. In some detail, describe how you came to this conclusion, including a description of why Fraunhofer lines exist.\n",
    "\n",
    "![Alt text](Spectrum_of_blue_sky.png \"Solar Spectrum\")\n",
    "\n"
   ]
  },
  {
   "cell_type": "markdown",
   "id": "81dc950f-e3e2-4e71-83ff-61355a691d5f",
   "metadata": {},
   "source": []
  }
 ],
 "metadata": {
  "kernelspec": {
   "display_name": "Python 3 (ipykernel)",
   "language": "python",
   "name": "python3"
  },
  "language_info": {
   "codemirror_mode": {
    "name": "ipython",
    "version": 3
   },
   "file_extension": ".py",
   "mimetype": "text/x-python",
   "name": "python",
   "nbconvert_exporter": "python",
   "pygments_lexer": "ipython3",
   "version": "3.13.3"
  }
 },
 "nbformat": 4,
 "nbformat_minor": 5
}
