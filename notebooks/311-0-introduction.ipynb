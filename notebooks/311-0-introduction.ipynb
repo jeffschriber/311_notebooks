{
 "cells": [
  {
   "cell_type": "markdown",
   "id": "382befeb",
   "metadata": {},
   "source": [
    "# Chemistry 311: Physical Chemistry I Lab\n",
    "## Fall 2024\n",
    "Dr. Jeff Schriber, Iona University\n",
    "\n",
    "\n",
    "Before we start, go to File->Make a Copy. Then add your name to the notebook filename (just preferred name at the end is fine). You will want to periodically save this copy as we go through the exercise."
   ]
  },
  {
   "cell_type": "markdown",
   "id": "6cb5ccc9",
   "metadata": {},
   "source": [
    "## Introduction\n",
    "Welcome to Physical Chemistry lab! Throughout the semester, we will be doing a variety of experimental and theoretical labs convering concepts in quantum mechanics, spectroscopy, thermodynamics, and kinetics. All of these will involve (potentially large) sets of data. One of the main goals of this course is to introduce you to a new way to manage your scientific data. Rather than using something like Excel, in 311 we will be using python! I like python because:\n",
    "- It is exstensible. What I mean is, we don't really need to do a whole lot of additional work ourselves if we work with a few values or 100 TB of data.\n",
    "- It is flexible. We can do so many things with python in a very customizable way, including statistics and data visualization.\n",
    "- It is fairly easy to work with. In my opinion, using python is as easy as doing anything in excel. One reason is that there are so many online resources, the most important being stackoverflow.com.\n",
    "- It is transferable. Data is in every field, and tools involving python are becoming more commonplace in a variety of industries.\n",
    "- Oh, and its completely free!\n",
    "\n",
    "Don't worry, you do not need any experience in python, though there is a (hopefully small) learning curve to get started. I find that using tools in python/jupyter notebook allows the computer to do more work, and the user (me) to focus more on the chemistry. The purpose of this notebook activity is to provide an introduction to using python and jupyter notebooks to do the kinds of tasks we will perform throughout the semester."
   ]
  },
  {
   "cell_type": "markdown",
   "id": "14a7f66e",
   "metadata": {},
   "source": [
    "## Imports\n",
    "\n",
    "Before we start, its important to cover a few things about python tools. The python language itself includes already a lot of functions, but external modules exist that have more compliated functions that we may use. These include things like plotting/visualization software and even some complicated mathematical routines. To access these, we need to **import** to corresponding module. In the notebooks in this course, I will provide all of the imports we need.\n",
    "\n",
    "For this assignment, we only need a few:"
   ]
  },
  {
   "cell_type": "code",
   "execution_count": null,
   "id": "9d6602f4",
   "metadata": {},
   "outputs": [],
   "source": [
    "import math # for some additional math functionality\n",
    "import numpy as np # math/data functions, we'll rename it np since that's more convenient"
   ]
  },
  {
   "cell_type": "markdown",
   "id": "bdc13c2d",
   "metadata": {},
   "source": [
    "## Assigment\n",
    "\n",
    "This notebook will guide you through several activities to introduce and practice some essential python/jupyter skills. In the assignment, you will need to write and execute code as indicated, and there are some brief written components. If you have questions, ask me, ask a friend, ask the internet, but please, try to work things out on your own first. To turn in this assignment, you will need to save the jupyter notebook (file type is .ipynb) and email it to me at jschriber@iona.edu by the start of lab next week. It is very possible you finish during lab time, so send it today if you want!"
   ]
  },
  {
   "cell_type": "markdown",
   "id": "a030d6f7",
   "metadata": {},
   "source": [
    "### 1) Making Written Responses\n",
    "\n",
    "In typical labs, I will have a few questions for you to answer about the results of the experiment. You will answer them in the box that follows, and then hit SHIFT+ENTER to \"run\" that box, making it look like nice text. Lets try some.\n",
    "\n",
    "#### Question 1: What is your preferred name?"
   ]
  },
  {
   "cell_type": "markdown",
   "id": "20731e76",
   "metadata": {},
   "source": []
  },
  {
   "cell_type": "markdown",
   "id": "05c78af7",
   "metadata": {},
   "source": [
    "#### Question 2: Have you ever used Python before? If so, when?"
   ]
  },
  {
   "cell_type": "markdown",
   "id": "4183cf32",
   "metadata": {},
   "source": []
  },
  {
   "cell_type": "markdown",
   "id": "02daef42",
   "metadata": {},
   "source": [
    "#### Question 3: If yes, did you like it?"
   ]
  },
  {
   "cell_type": "markdown",
   "id": "cbff0c19",
   "metadata": {},
   "source": []
  },
  {
   "cell_type": "markdown",
   "id": "3026a32b",
   "metadata": {},
   "source": [
    "#### Question 4: What is your declared major? What career goals do you have after Iona?"
   ]
  },
  {
   "cell_type": "markdown",
   "id": "43ab4d1b",
   "metadata": {},
   "source": []
  },
  {
   "cell_type": "markdown",
   "id": "39f8c66e",
   "metadata": {},
   "source": [
    "### 2) Python Printing, Variables, and Some Simple Math\n",
    "Now, we'll execute the boxes as snippets of python code, again with SHIFT+ENTER."
   ]
  },
  {
   "cell_type": "code",
   "execution_count": null,
   "id": "2d4ddb36",
   "metadata": {
    "scrolled": true
   },
   "outputs": [],
   "source": [
    "# To print in python, simply pass what you want printed to the print() function\n",
    "# the classic example\n",
    "print(\"Hello World!\")\n",
    "\n",
    "# We can also print numbers\n",
    "print(7)\n",
    "print(2+2*8)\n",
    "print(3**2)\n",
    "print(math.pi)"
   ]
  },
  {
   "cell_type": "code",
   "execution_count": null,
   "id": "4dd96e98",
   "metadata": {},
   "outputs": [],
   "source": [
    "#Sometimes its helpful to do math with variables:\n",
    "a = 20\n",
    "b = 4\n",
    "print(a*b)\n",
    "\n",
    "### BEGIN ASSIGNMENT \n",
    "\n",
    "## Sometimes assigned pieces will be done as comments like this.\n",
    "## I'll always mark places where you need to add any code\n",
    "## For example, finish the following code\n",
    "## by computing and printing the volume of a box\n",
    "\n",
    "# box width, unit is meters\n",
    "w = 2.28\n",
    "# and the length\n",
    "l = 3.33\n",
    "# and height\n",
    "h = 1.159\n",
    "\n",
    "volume = \n",
    "\n",
    "\n",
    "### END ASSIGNMENT"
   ]
  },
  {
   "cell_type": "markdown",
   "id": "2c714ede",
   "metadata": {},
   "source": [
    "### 3) Functions\n",
    "Functions are useful if you need to do anything more than once. For example, we could define a function to compute the area of any box, given a length, height, and width:"
   ]
  },
  {
   "cell_type": "code",
   "execution_count": null,
   "id": "c1bda073",
   "metadata": {},
   "outputs": [],
   "source": [
    "def box_volume(length, height, width):\n",
    "    volume = length * height * width\n",
    "    return volume # this is the value the function gives us\n",
    "    \n",
    "## lets test it out\n",
    "print(\"Box 1 volume:\")\n",
    "print(box_volume(12.3,3.3,4.8))\n",
    "\n",
    "print(\"Volume of some cube:\")\n",
    "print(box_volume(13.3,13.3,13.3))"
   ]
  },
  {
   "cell_type": "markdown",
   "id": "fcbd4f6d",
   "metadata": {},
   "source": [
    "In the next cell, write a function that computes the distance between two points, given the xyx coordinates of each point. I'll provide an extremely basic template"
   ]
  },
  {
   "cell_type": "code",
   "execution_count": null,
   "id": "f5e9c85b",
   "metadata": {},
   "outputs": [],
   "source": [
    "def compute_distance ():\n",
    "    \n",
    "    \n",
    "    distance = \n",
    "    \n",
    "    return distance"
   ]
  },
  {
   "cell_type": "markdown",
   "id": "4344e88b",
   "metadata": {},
   "source": [
    "### 4) Objects\n",
    "Python has several very useful objects, like arrays and dictionaries."
   ]
  },
  {
   "cell_type": "code",
   "execution_count": null,
   "id": "8c39f6c6",
   "metadata": {},
   "outputs": [],
   "source": [
    "# an array is simple to make, and it can contain values of any type:\n",
    "my_array = [2,3,4,5]\n",
    "\n",
    "# a dictionary is like an array, but each value has a key\n",
    "my_dictionary = {\"Name\":\"Jeff\", \"Job\":\"Professor\", \"Height\":\"Tall\"}\n",
    "\n",
    "# Can have numbers as well, but not the keys\n",
    "box_dimensions = {\"length\":3.22, \"width\":4.309, \"height\":11.6}"
   ]
  },
  {
   "cell_type": "markdown",
   "id": "e4341e41",
   "metadata": {},
   "source": [
    "We access arrays by the index, and the counting starts at zero. So, we can print a few of the values of our array by using:"
   ]
  },
  {
   "cell_type": "code",
   "execution_count": null,
   "id": "723e42fe",
   "metadata": {},
   "outputs": [],
   "source": [
    "print(my_array[0], my_array[1])"
   ]
  },
  {
   "cell_type": "markdown",
   "id": "fa4d4c3d",
   "metadata": {},
   "source": [
    "or the whole array:"
   ]
  },
  {
   "cell_type": "code",
   "execution_count": null,
   "id": "5a1ad3a5",
   "metadata": {},
   "outputs": [],
   "source": [
    "print(my_array)"
   ]
  },
  {
   "cell_type": "markdown",
   "id": "90a86736",
   "metadata": {},
   "source": [
    "In the next cell, lets rewrite our distance function using arrays. I'll provide a little more guidance: "
   ]
  },
  {
   "cell_type": "code",
   "execution_count": null,
   "id": "434faf08",
   "metadata": {},
   "outputs": [],
   "source": [
    "def compute_distance_array(coords1, coords2):\n",
    "        #'Computes the distance between points'\n",
    "        # coords1 is an array in the format [x,y,z] for point 1\n",
    "        # coords2 is an array in the format [x,y,z] for point 2\n",
    "        \n",
    "        x1 = coords1[]\n",
    "        y1 = coords1[]\n",
    "        z1 = coords1[]\n",
    "    \n",
    "    \n",
    "        x2 = \n",
    "        y2 = \n",
    "        z2 =\n",
    "        \n",
    "        distance =\n",
    "\n",
    "        return distance"
   ]
  },
  {
   "cell_type": "markdown",
   "id": "623dd495",
   "metadata": {},
   "source": [
    "Next, test your function on the points below:"
   ]
  },
  {
   "cell_type": "code",
   "execution_count": null,
   "id": "1a23377a",
   "metadata": {},
   "outputs": [],
   "source": [
    "c1 = [2.2, 3.4, 50]\n",
    "c2 = [40.1,22.0,100.9]"
   ]
  },
  {
   "cell_type": "markdown",
   "id": "056f4344",
   "metadata": {},
   "source": [
    "### 5) Plotting and a Little Chemistry\n",
    "For nearly every lab, we will want to plot data. In this example, we will compute a potential energy surface for molecular hydrogen ($\\rm{H}_2$). "
   ]
  },
  {
   "cell_type": "markdown",
   "id": "75919e9a",
   "metadata": {},
   "source": [
    "#### Step 1: Initialize some more programs\n",
    "We will use Psi4 to run the chemistry computations"
   ]
  },
  {
   "cell_type": "code",
   "execution_count": null,
   "id": "9675e446",
   "metadata": {},
   "outputs": [],
   "source": [
    "import psi4"
   ]
  },
  {
   "cell_type": "markdown",
   "id": "a1a87944",
   "metadata": {},
   "source": [
    "#### Step 2: Select a range of intermolecular distances\n",
    "We can do this in a few ways. First, is by hand, and I don't recommend it:"
   ]
  },
  {
   "cell_type": "code",
   "execution_count": null,
   "id": "da04ea51",
   "metadata": {},
   "outputs": [],
   "source": [
    "r_vals = [0.1,0.2,0.3,0.4]"
   ]
  },
  {
   "cell_type": "markdown",
   "id": "2c14538e",
   "metadata": {},
   "source": [
    "The better way is to use a program called numpy, which we can make give us a range of values very easily"
   ]
  },
  {
   "cell_type": "code",
   "execution_count": null,
   "id": "3d199508",
   "metadata": {},
   "outputs": [],
   "source": [
    "# This gives us points between 0.2 and 6.0, at intervals of 0.25\n",
    "r_vals = np.arange(0.2,6.0,0.25)"
   ]
  },
  {
   "cell_type": "markdown",
   "id": "e99ec4f2",
   "metadata": {},
   "source": [
    "#### Step 3: Compute the energies at each interatomic distance\n",
    "Below, I provide a procedure to loop through all of the r values, and compute an energy. What we want in our plot is a list of the r values, and a list of the energies."
   ]
  },
  {
   "cell_type": "code",
   "execution_count": null,
   "id": "5df72c71",
   "metadata": {},
   "outputs": [],
   "source": [
    "#Start with an empty list\n",
    "energies = []\n",
    "\n",
    "# loop over the r values\n",
    "for r in r_vals:\n",
    "    \n",
    "    #define a geometry, this is specific to Psi4\n",
    "    geometry = f\"\"\"\n",
    "    H 0 0 0\n",
    "    H 0 0 {r}\n",
    "    units angstrom\"\"\"\n",
    "    \n",
    "    # initialize our molecule\n",
    "    h2 = psi4.geometry(geometry)\n",
    "\n",
    "    # call psi4 for the energy\n",
    "    E = psi4.energy(\"hf/sto-3g\",molecule=h2)\n",
    "    \n",
    "    # add E to our list\n",
    "    energies.append(E)\n",
    "    "
   ]
  },
  {
   "cell_type": "markdown",
   "id": "616abb03",
   "metadata": {},
   "source": [
    "To plot, we will use software called matplotlib, which we need to import. You may need to run this next cell twice to get the plot to show, that's fine."
   ]
  },
  {
   "cell_type": "code",
   "execution_count": null,
   "id": "76029af3",
   "metadata": {},
   "outputs": [],
   "source": [
    "import matplotlib\n",
    "from matplotlib import pyplot as plt\n",
    "%matplotlib notebook\n",
    "\n",
    "# now to plot\n",
    "plt.scatter(r_vals, energies)"
   ]
  },
  {
   "cell_type": "markdown",
   "id": "b24eda7d",
   "metadata": {},
   "source": [
    "### 6) Final Assignment\n",
    "\n",
    "Use the code from above to remake the plot of $\\rm{H}_2$. This time, we want more points around the minimum, and we want out plot more zoomed in there as well. Be sure to store the r_vals and energies, and have all of your code in a single cell."
   ]
  },
  {
   "cell_type": "code",
   "execution_count": null,
   "id": "88e056b9",
   "metadata": {},
   "outputs": [],
   "source": [
    "### Your code here\n",
    "r_vals =\n",
    "energies = []\n",
    "\n",
    "for r in r_vals:\n",
    "    \n",
    "    #define a geometry, this is specific to Psi4\n",
    "    geometry = f\"\"\"\n",
    "    H 0 0 0\n",
    "    H 0 0 {r}\n",
    "    units angstrom\"\"\"\n",
    "    \n",
    "    # initialize our molecule\n",
    "    h2 = psi4.geometry(geometry)\n",
    "\n",
    "    # call psi4 for the energy\n",
    "    E = psi4.energy(\"hf/sto-3g\",molecule=h2)\n",
    "    \n",
    "    # add E to our list\n",
    "    energies.append(E)\n",
    "\n"
   ]
  },
  {
   "cell_type": "code",
   "execution_count": null,
   "id": "a1aa8f35",
   "metadata": {},
   "outputs": [],
   "source": [
    "# now to plot\n",
    "plt.scatter(r_vals, energies)"
   ]
  },
  {
   "cell_type": "markdown",
   "id": "6c77c3e7",
   "metadata": {},
   "source": [
    "#### Question 1: What, roughly, is the equilibrium bond length based on your plot? Type your answer in the cell below, and be sure to give units."
   ]
  },
  {
   "cell_type": "markdown",
   "id": "7c82427a",
   "metadata": {},
   "source": []
  },
  {
   "cell_type": "markdown",
   "id": "6580911b",
   "metadata": {},
   "source": [
    "#### Question 2: Look up a literature reference for this bond length, how does your estimate compare? What might account for some differences?"
   ]
  },
  {
   "cell_type": "markdown",
   "id": "953a45c9",
   "metadata": {},
   "source": []
  },
  {
   "cell_type": "markdown",
   "id": "e2aabdf8",
   "metadata": {},
   "source": [
    "#### Question 3: The dissociation energy for $\\rm{H}_2$ is defined as the energy required to pull apart two H atoms. Compute this value using your data in the cells below"
   ]
  },
  {
   "cell_type": "code",
   "execution_count": null,
   "id": "de04ac81",
   "metadata": {},
   "outputs": [],
   "source": [
    "# Here's a hint\n",
    "# The function, np.min, returns the minimum value of an array\n",
    "# execute this cell and see what happens,\n",
    "some_data = np.array([6,-0.4,-4.3,1.7,29])\n",
    "smallest = np.min(some_data) \n",
    "\n",
    "print(\"The smallest element is \" + str(smallest))"
   ]
  },
  {
   "cell_type": "code",
   "execution_count": null,
   "id": "2f34e40f",
   "metadata": {},
   "outputs": [],
   "source": [
    "### Your code here\n",
    "\n",
    "# the dissociation energy\n",
    "d0 = \n",
    "\n",
    "\n",
    "# Print the dissociation energy\n",
    "print(d0)"
   ]
  },
  {
   "cell_type": "markdown",
   "id": "b8158924",
   "metadata": {},
   "source": [
    "#### Question 4: In what units are your energies?"
   ]
  },
  {
   "cell_type": "markdown",
   "id": "7e5427c7",
   "metadata": {},
   "source": []
  },
  {
   "cell_type": "markdown",
   "id": "7fd4a4c7",
   "metadata": {},
   "source": [
    "#### Question 5: Find an experimental literature value (be careful with units) for the dissociation energy. Is your computed value close?"
   ]
  },
  {
   "cell_type": "code",
   "execution_count": null,
   "id": "4a459d6a",
   "metadata": {},
   "outputs": [],
   "source": []
  },
  {
   "cell_type": "markdown",
   "id": "c05d05f9",
   "metadata": {},
   "source": [
    "#### To turn this notebook in:\n",
    "   - Be sure your notebook is save as described at the beginning of this document.\n",
    "   - Go to File->Download as->Notebook (ipynb)\n",
    "   - Generate a pdf of this page. The easiest way to do this is with File->Print Preview and saving that.\n",
    "   - Upload the pdf and ipynb to Blackboard"
   ]
  },
  {
   "cell_type": "code",
   "execution_count": null,
   "id": "82194eeb",
   "metadata": {},
   "outputs": [],
   "source": []
  }
 ],
 "metadata": {
  "kernelspec": {
   "display_name": "Python 3 (ipykernel)",
   "language": "python",
   "name": "python3"
  },
  "language_info": {
   "codemirror_mode": {
    "name": "ipython",
    "version": 3
   },
   "file_extension": ".py",
   "mimetype": "text/x-python",
   "name": "python",
   "nbconvert_exporter": "python",
   "pygments_lexer": "ipython3",
   "version": "3.9.18"
  }
 },
 "nbformat": 4,
 "nbformat_minor": 5
}
