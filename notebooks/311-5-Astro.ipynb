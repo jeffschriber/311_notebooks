{
 "cells": [
  {
   "cell_type": "code",
   "execution_count": null,
   "id": "8c42d2b8",
   "metadata": {},
   "outputs": [],
   "source": [
    "import psi4"
   ]
  },
  {
   "cell_type": "markdown",
   "id": "72bf8868",
   "metadata": {},
   "source": [
    "# Is there $C_{3}H^{+}$ in the Horsehead Nebula?\n",
    "\n",
    "### Information\n",
    "\n",
    "Rotational spectroscopy is the most conclusive way in which molecules can be detected in the interstellar medium, circumstellar envelopes, and, even the atmospheres of various extrasolar planets. The reason for this comes from the clear progressions of transitions resulting from the\n",
    "\\begin{equation}\n",
    "\\Delta J = \\pm 1 \\tag{1}\n",
    "\\end{equation}\n",
    "selection rules. Additionally, the pure rotational spectra of most molecules are fairly straightforward to understand. From the second-order fitting of the rotational energy function,\n",
    "\\begin{equation}\n",
    "E_J = 2B(J+1) \\tag{2}\n",
    "\\end{equation}\n",
    "given in Pety and coworkers, the primary rotational constant, B, for a linear molecule can be straightforwardly derived with only one energy level. Remember that the rotational constant is a geometric parameter inversely proportional to the moment of intertia, $I$. This value is simply defined as:\n",
    "\\begin{equation}\n",
    "I = \\sum_i m_ix_i^2. \\tag{3}\n",
    "\\end{equation}\n",
    "\n",
    "However, the value of $E_J$ derived as such from Eq. 2 is not as accurate as it could be. Since the molecule is spinning, the energy is affected by cetrifugal distortions. To account for this, a quadratic term can be derived to give an equation a more correct form given as:\n",
    "\\begin{equation}\n",
    "E_J=2B(J+1) - 4D(J+1)^3 \\tag{4},\n",
    "\\end{equation}\n",
    "again from Pety and coworkers. Additional terms can be added continually for sextic, octic, etc. However, most molecules are well-described with Eq. 4.\n",
    "\n",
    "\n",
    "The opposite side of the algebra can also be employed, which is actually the most common case. The energy levels are observed and fit to the model equation like Eq 4. Two energy levels are necessary to solve for $B$ and $D$ in Eq 4 since there are two unknowns. By plugging in the energy levels and rearranging the two equations, one may solve for the unique rotational constants of a given molecule. Often this is done with linear regression software, but this simple algorithm is robust enough to make the point.\n",
    "\n",
    "![alt text](fig1-micro.png \"Title\")"
   ]
  },
  {
   "cell_type": "markdown",
   "id": "207a4003",
   "metadata": {},
   "source": [
    "The bottom portion of the above figure reports rotational lines observed in Horsehead nebula photodissociation region/photon-dominated region (PDR). A fitting from Eq 4 and another sextic formula give the derived rotational constants and are given in the below table,"
   ]
  },
  {
   "cell_type": "markdown",
   "id": "90251533",
   "metadata": {},
   "source": [
    "![alt text](tab1-astro.png \"Title\")"
   ]
  },
  {
   "cell_type": "markdown",
   "id": "3ab6ccb7",
   "metadata": {},
   "source": [
    "You can tell that $B$ and $D$ do not vary greatly between the quartic and sextic distortion levels. From some computational reference data, these interstellar lines are attributed to the linear $C_3H^+$ cation. \n",
    "\n",
    "However, the mathematical model in Eq 4 assumes the molecule to be linear. Can this equation be used to fit nonlinear molecules? Of course, but $B$ and $D$ (and even $H$) will not be exact. These create what are called effective rotational constants: $B_{eff}$ and $D_{eff}$. These are a ''map'' of the actual rotational constants onto the linear framework. This will be discussed more in Procedure Part 3 and the relationship of $B$ and $C$ to $B_{eff}$ is left as an exercise. \n",
    "\n",
    "Computational chemistry can help to resolve rotational spectra fairly easily. All one really needs is the geometry, and computation produces this routuinely and accurately as long as you use a decent basis set and level of theory. Hence, you will employ computational tools to explore the rotational spectra of molecules flying around and between stars. Remember to use complete and correct sentences when answering any free-response questions.\n",
    "\n",
    "***NOTE: What follows is a guide to running these computations here in the notebook. You are more than welcome to also run your jobs on the ChemCompute job submission portal, so long as you run the same computations.***"
   ]
  },
  {
   "cell_type": "code",
   "execution_count": null,
   "id": "1e4a7df0",
   "metadata": {
    "scrolled": true
   },
   "outputs": [],
   "source": [
    "mol = psi4.geometry(\"\"\"\n",
    "\n",
    "\"\"\")\n",
    "\n",
    "psi4.optimize('SCF/STO-3G')"
   ]
  },
  {
   "cell_type": "markdown",
   "id": "1552ca9c",
   "metadata": {},
   "source": [
    " 4. Seach in the output for the *last* instance of \"Rotational constants:\". Record the $B$ constants in the table in the handout.\n",
    " \n",
    " 5. Repeat this procedure for all of the methods listed in the Part 1 table. You can run these calculation in the above cell by replacing the method each time (no need to make entirely new inputs here). \n",
    " \n",
    " 6. With the table complete, answer questions 1-4. "
   ]
  },
  {
   "cell_type": "markdown",
   "id": "b950b152",
   "metadata": {},
   "source": [
    "### Part 2 $B$-type rotational constants of other linear molecules\n",
    "\n",
    "Is $\\rm{C_3H^+}$ the carrier of these rotational lines? Is another molecule a better carrier? Now, you will eamine the $B$-type rotational constants of some other closed-shell linear molecules."
   ]
  },
  {
   "cell_type": "markdown",
   "id": "38c04fe1",
   "metadata": {},
   "source": [
    " 7. In avogadro, Create a new linear molecule: HCN and paste your initial coordinates in the cell below."
   ]
  },
  {
   "cell_type": "markdown",
   "id": "c5e1b43c",
   "metadata": {},
   "source": []
  },
  {
   "cell_type": "markdown",
   "id": "810b2482",
   "metadata": {},
   "source": [
    " 8. Perform a geometry optimization with B3LYP/cc-pVDZ in the cell below. What is this molecule's charge and spin multiplicity? Can this molecule be a carrier of these lines?\n"
   ]
  },
  {
   "cell_type": "code",
   "execution_count": null,
   "id": "fcec1208",
   "metadata": {},
   "outputs": [],
   "source": [
    "mol = psi4.geometry(\"\"\"\n",
    "\n",
    "\"\"\")\n",
    "\n",
    "psi4.optimize()"
   ]
  },
  {
   "cell_type": "markdown",
   "id": "c7aacf20",
   "metadata": {},
   "source": [
    " 9. We will now repeat this for a series of different linear molecules. For each molecule, paste the input geometries below, then use the cell at the bottom to run the optimizations needed. For each optimization, record the $B$-type rotational constant (in GHz)."
   ]
  },
  {
   "cell_type": "markdown",
   "id": "8f88ca88",
   "metadata": {},
   "source": [
    "   a) HCCF "
   ]
  },
  {
   "cell_type": "markdown",
   "id": "c92fbc84",
   "metadata": {},
   "source": []
  },
  {
   "cell_type": "markdown",
   "id": "5d0b8255",
   "metadata": {},
   "source": [
    "   b) $\\rm{HC_3N}$"
   ]
  },
  {
   "cell_type": "markdown",
   "id": "fe68016a",
   "metadata": {},
   "source": []
  },
  {
   "cell_type": "markdown",
   "id": "160964cf",
   "metadata": {},
   "source": [
    "c) $\\rm{C_4H^-}$"
   ]
  },
  {
   "cell_type": "markdown",
   "id": "163deaee",
   "metadata": {},
   "source": []
  },
  {
   "cell_type": "markdown",
   "id": "42d6224f",
   "metadata": {},
   "source": [
    "d) $\\rm{C_2O}$"
   ]
  },
  {
   "cell_type": "markdown",
   "id": "5987f48f",
   "metadata": {},
   "source": []
  },
  {
   "cell_type": "code",
   "execution_count": null,
   "id": "a3150a04",
   "metadata": {},
   "outputs": [],
   "source": [
    "mol = psi4.geometry(\"\"\"\n",
    "\n",
    "\"\"\")\n",
    "\n",
    "psi4.optimize()"
   ]
  },
  {
   "cell_type": "markdown",
   "id": "78d716d9",
   "metadata": {},
   "source": [
    "### Part 3 Rotational Constants for non-linear molecules\n",
    "\n",
    "Now, you will compute the rotational constants of a few non-linear molecules and fit their rotational constants to the linear model in Eq 2. $\\rm{HCCO^-}$ will be the example."
   ]
  },
  {
   "cell_type": "markdown",
   "id": "de248b8d",
   "metadata": {},
   "source": [
    " 10. Create non-linear $\\rm{HCCO^-}$ in Avogadro. Paste the geometry below."
   ]
  },
  {
   "cell_type": "markdown",
   "id": "76b12f94",
   "metadata": {},
   "source": []
  },
  {
   "cell_type": "markdown",
   "id": "bc899bc5",
   "metadata": {},
   "source": [
    " 11. Use the cell below to perform a geometry optimization with B3LYP/cc-pVDZ as the method. "
   ]
  },
  {
   "cell_type": "code",
   "execution_count": null,
   "id": "fbea816a",
   "metadata": {},
   "outputs": [],
   "source": []
  },
  {
   "cell_type": "markdown",
   "id": "f08b0e51",
   "metadata": {},
   "source": [
    " 12. Now, you will need to compute the first few energy levels for $\\rm{HCCO^-}$ from the $A$, $B$, and $C$ type constants from this computation. The equilibrium (non-distortion constant including) pseudo-linear form of Eq 2 is simply:\n",
    "\n",
    "\\begin{equation}\n",
    "E_J = (B+C)(J+1) \\tag{5}\n",
    "\\end{equation}"
   ]
  },
  {
   "cell_type": "markdown",
   "id": "f2ff5123",
   "metadata": {},
   "source": [
    "  The $A$-type constant is necessary for describing the distortion factor, but this model in Eq 5 does not include it for the $E_J$ computation due to the pseudo-linear nature of the applicable molecules."
   ]
  },
  {
   "cell_type": "markdown",
   "id": "f0139f5f",
   "metadata": {},
   "source": [
    "13. Find $B_{eff}$ for $\\rm{HCCO^-}$. Hint: There are two equivalent algebraic approaches involving Eqs 2 and 5, where one $B$ can be thought of as $B_{eff}$."
   ]
  },
  {
   "cell_type": "markdown",
   "id": "f220fc36",
   "metadata": {},
   "source": [
    "  14. Repeat this process for similar non-linear molecules, with all bond angles less than 180 degrees. Record the initial geometries as before, then use the final cell to run the optimizations and collect your data."
   ]
  },
  {
   "cell_type": "markdown",
   "id": "ce035ea3",
   "metadata": {},
   "source": [
    "a) $\\rm{NNOH^+}$"
   ]
  },
  {
   "cell_type": "markdown",
   "id": "a2a519ba",
   "metadata": {},
   "source": []
  },
  {
   "cell_type": "markdown",
   "id": "b692c33a",
   "metadata": {},
   "source": [
    "b) $\\rm{HOCO^+}$"
   ]
  },
  {
   "cell_type": "markdown",
   "id": "215febc6",
   "metadata": {},
   "source": []
  },
  {
   "cell_type": "markdown",
   "id": "f795290b",
   "metadata": {},
   "source": [
    "c) $\\rm{C_3H^-}$"
   ]
  },
  {
   "cell_type": "markdown",
   "id": "9b3cd56b",
   "metadata": {},
   "source": []
  },
  {
   "cell_type": "markdown",
   "id": "e8aa8f2c",
   "metadata": {},
   "source": [
    "d) $\\rm{HCCN}$"
   ]
  },
  {
   "cell_type": "markdown",
   "id": "4fe685d5",
   "metadata": {},
   "source": []
  },
  {
   "cell_type": "markdown",
   "id": "743a090e",
   "metadata": {},
   "source": [
    "e) $\\rm{HOCN}$"
   ]
  },
  {
   "cell_type": "markdown",
   "id": "97093caf",
   "metadata": {},
   "source": []
  },
  {
   "cell_type": "code",
   "execution_count": null,
   "id": "5c0f5935",
   "metadata": {},
   "outputs": [],
   "source": []
  },
  {
   "cell_type": "code",
   "execution_count": null,
   "id": "2c3e023c",
   "metadata": {},
   "outputs": [],
   "source": []
  }
 ],
 "metadata": {
  "kernelspec": {
   "display_name": "Python 3 (ipykernel)",
   "language": "python",
   "name": "python3"
  },
  "language_info": {
   "codemirror_mode": {
    "name": "ipython",
    "version": 3
   },
   "file_extension": ".py",
   "mimetype": "text/x-python",
   "name": "python",
   "nbconvert_exporter": "python",
   "pygments_lexer": "ipython3",
   "version": "3.13.3"
  }
 },
 "nbformat": 4,
 "nbformat_minor": 5
}
