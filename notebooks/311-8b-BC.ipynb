{
 "cells": [
  {
   "cell_type": "code",
   "execution_count": 1,
   "id": "eb5a37fc",
   "metadata": {},
   "outputs": [],
   "source": [
    "import psi4\n",
    "import matplotlib\n",
    "import matplotlib.pyplot as plt\n",
    "import numpy as np\n",
    "from numpy.polynomial import polynomial as P"
   ]
  },
  {
   "cell_type": "markdown",
   "id": "180c366a",
   "metadata": {},
   "source": [
    "# Bomb Calorimetry Data Analysis: Part 2"
   ]
  },
  {
   "cell_type": "markdown",
   "id": "88e46513",
   "metadata": {},
   "source": [
    "## 1. Constants\n",
    "Here, we need some constants to compute our enthalpies of combustion"
   ]
  },
  {
   "cell_type": "code",
   "execution_count": null,
   "id": "ea915d4c",
   "metadata": {},
   "outputs": [],
   "source": [
    "# the mass of naphthalene\n",
    "mass_N1 = \n",
    "\n",
    "# The molar mass of naphthalene\n",
    "MM_N = \n",
    "\n",
    "# the mass of the wire combusted\n",
    "mass_wire = \n",
    "\n",
    "#The specific heat of the wire\n",
    "q_wire = \n",
    "\n",
    "# The heat capacity of the calorimeter\n",
    "C = \n",
    "\n",
    "# The gas constant (J/mol K)\n",
    "R = "
   ]
  },
  {
   "cell_type": "markdown",
   "id": "ab15b726",
   "metadata": {},
   "source": [
    "## 2. Naphthalene Run 1\n",
    "### A. Calculating $\\Delta T$"
   ]
  },
  {
   "cell_type": "markdown",
   "id": "faab1d67",
   "metadata": {},
   "source": [
    "The first part of computing the enthalpy of combustion is to compute the change in temperature measured during the combustion reaction. The method to compute this $\\Delta T$ is the same as for the benzoic acid runs. In these runs, we do not know beforehand how much heat will evolve in the combustion reaction of the sample, so we need to determine that from the total heat of the surroundings, which we can determine from the temperature rise and the heat capacity of the system (and not forgetting that the wire is combusted as well).\n",
    "\n",
    "First, as usual, we need to load the data into our usual lists. These will be labeled with N1 for the first naphthalene run."
   ]
  },
  {
   "cell_type": "code",
   "execution_count": null,
   "id": "635a8761",
   "metadata": {},
   "outputs": [],
   "source": [
    "# This code loads the file and stores the times and temperatures in two lists,\n",
    "\n",
    "t_N1 = []\n",
    "temp_N1 = []\n",
    "\n",
    "# Enter your filename in the quotes\n",
    "with open(\"\",'r') as inf:\n",
    "    for n, line in enumerate(inf):\n",
    "        line = line.strip().split(',')\n",
    "        if line[0] == '\\ufeff\"Latest: Time (s)\"':\n",
    "            continue\n",
    "        \n",
    "        if (n % 2) == 1:\n",
    "            t_N1.append(float(line[0]))\n",
    "            temp_N1.append(float(line[1]))\n",
    "                     \n",
    "t_N1 = np.asarray(t_N1)\n",
    "temp_N1 = np.asarray(temp_N1)"
   ]
  },
  {
   "cell_type": "markdown",
   "id": "aff537b1",
   "metadata": {},
   "source": [
    "Plot the entire run the cell below, putting time on the $x$-axis and temperature on the $y$-axis. We will run this plot as interactive, so you can run you cursor over specific points."
   ]
  },
  {
   "cell_type": "code",
   "execution_count": null,
   "id": "1039d213",
   "metadata": {},
   "outputs": [],
   "source": []
  },
  {
   "cell_type": "markdown",
   "id": "42071dbb",
   "metadata": {},
   "source": [
    "Use your plot to find values of $T_A$, $T_B$, $T_C$, and $T_D$, as well as the associated times for each point. "
   ]
  },
  {
   "cell_type": "code",
   "execution_count": null,
   "id": "274ce706",
   "metadata": {},
   "outputs": [],
   "source": [
    "t_A_1 = \n",
    "t_B_1 = \n",
    "t_C_1 = \n",
    "t_D_1 = \n",
    "\n",
    "temp_A_1 = temp_N1[t_A_1]\n",
    "temp_B_1 = temp_N1[t_B_1]\n",
    "temp_C_1 = temp_N1[t_C_1]\n",
    "temp_D_1 = temp_N1[t_D_1]"
   ]
  },
  {
   "cell_type": "markdown",
   "id": "fad2fb10",
   "metadata": {},
   "source": [
    "Now build the AB and CD sublists"
   ]
  },
  {
   "cell_type": "code",
   "execution_count": null,
   "id": "57b94480",
   "metadata": {},
   "outputs": [],
   "source": []
  },
  {
   "cell_type": "markdown",
   "id": "8a491ad5",
   "metadata": {},
   "source": [
    "Compute $T_X$,"
   ]
  },
  {
   "cell_type": "code",
   "execution_count": null,
   "id": "421365a9",
   "metadata": {},
   "outputs": [],
   "source": []
  },
  {
   "cell_type": "markdown",
   "id": "9ed53750",
   "metadata": {},
   "source": [
    "Now we need to find the time, $t_x$, associated with this temperature. To do this, let's grab a few points around this temperature and to a linear fit by consulting our plot above. Let store these x and y values."
   ]
  },
  {
   "cell_type": "code",
   "execution_count": null,
   "id": "de1476d8",
   "metadata": {},
   "outputs": [],
   "source": []
  },
  {
   "cell_type": "markdown",
   "id": "03042e10",
   "metadata": {},
   "source": [
    "Use this line to get a value of $t_x$, where $t_x$ is the x-variable and $T_x$ is the y variable"
   ]
  },
  {
   "cell_type": "code",
   "execution_count": null,
   "id": "3d8a0eda",
   "metadata": {},
   "outputs": [],
   "source": []
  },
  {
   "cell_type": "markdown",
   "id": "ca88437b",
   "metadata": {},
   "source": [
    "Now, subtract $t_x$ from the x values of your AB and CD lists. Then, when you do the fits on these lists, your y-intercetps will be $T_H$ and $T_L$."
   ]
  },
  {
   "cell_type": "code",
   "execution_count": null,
   "id": "0971cbc1",
   "metadata": {},
   "outputs": [],
   "source": []
  },
  {
   "cell_type": "markdown",
   "id": "5c8a766b",
   "metadata": {},
   "source": [
    "Perform the two needed fits, first on the AB segment, then on the CD segment. Be sure to store the appropriate $x$- and $y$-intercepts as $T_H$ and $T_L$. Use these to compute $\\Delta T$, and use however many cells you need."
   ]
  },
  {
   "cell_type": "code",
   "execution_count": null,
   "id": "86905bb8",
   "metadata": {},
   "outputs": [],
   "source": []
  },
  {
   "cell_type": "code",
   "execution_count": null,
   "id": "d2c223cc",
   "metadata": {},
   "outputs": [],
   "source": []
  },
  {
   "cell_type": "markdown",
   "id": "c05f21b8",
   "metadata": {},
   "source": [
    "### B. Heat evolved from the sample\n",
    "\n",
    "Use the fact that,\n",
    "$$q_{\\rm{surr}} = C\\Delta T$$\n",
    "and $$q_{\\rm{surr}} = q_{\\rm{surr,wire}} + q_{\\rm{surr,N}}$$\n",
    "to determine $q_{\\rm{surr,N}}$. This is the heat gained by the surroundings due to the combustion of naphthalene."
   ]
  },
  {
   "cell_type": "code",
   "execution_count": null,
   "id": "7410d7f1",
   "metadata": {},
   "outputs": [],
   "source": []
  },
  {
   "cell_type": "markdown",
   "id": "21a8dfaf",
   "metadata": {},
   "source": [
    "Using $q_{\\rm{surr,N}}$, compute $q_{\\rm{c,N}}$, the heat evolved from the combustion of naphthalene."
   ]
  },
  {
   "cell_type": "code",
   "execution_count": null,
   "id": "0773fe72",
   "metadata": {},
   "outputs": [],
   "source": []
  },
  {
   "cell_type": "markdown",
   "id": "8e2bffed",
   "metadata": {},
   "source": [
    "### C. Internal energy of combustion $\\Delta U$\n",
    "\n",
    "Divide the heat evolved, $q_{\\rm{c,N}}$ by the number of moles and convert the result to kJ/mol to calculate $\\Delta U$."
   ]
  },
  {
   "cell_type": "code",
   "execution_count": null,
   "id": "27ec4f92",
   "metadata": {},
   "outputs": [],
   "source": []
  },
  {
   "cell_type": "markdown",
   "id": "f1a6030c",
   "metadata": {},
   "source": [
    "### D.  The enthalpy of combustion, $\\Delta H_{\\rm{c,N}}$\n",
    "\n",
    "To determine the molar $\\Delta H_{\\rm{c,N}}$ from $\\Delta U$, we use the relation,\n",
    "$$\\Delta H = \\Delta U + \\Delta pV$$\n",
    "since pressure-volume work is applied. In this case, we will use the ideal gas law to approximate $\\Delta pV$ with $\\Delta (nRT)$ since we do not know the pressure. Since the temperature rise is relatively small (in K), we can approximate $T$ using $T_X$ and get $\\Delta pV = RT_X\\Delta n$, where $\\Delta n$ is the number of moles of gas in the combustion reaction minus the number of moles of oxygen needed.  \n",
    "\n",
    "In the cell below, compute $\\Delta pV$ using $RT_X\\Delta n$. Be sure to have $T_X$ in K. "
   ]
  },
  {
   "cell_type": "code",
   "execution_count": null,
   "id": "b5ad4db7",
   "metadata": {},
   "outputs": [],
   "source": []
  },
  {
   "cell_type": "markdown",
   "id": "75d05f12",
   "metadata": {},
   "source": [
    "Use your value of $\\Delta pV$ to compute $\\Delta H_{\\rm{c,N}}$."
   ]
  },
  {
   "cell_type": "code",
   "execution_count": null,
   "id": "555d3d2e",
   "metadata": {},
   "outputs": [],
   "source": []
  },
  {
   "cell_type": "markdown",
   "id": "2dc8e9b9",
   "metadata": {},
   "source": [
    "## 3. Naphthalene Run 2\n",
    "Use the cells below to compute $\\Delta H_{\\rm{c,N}}$ using the data from your second naphthalene trial. \n",
    "\n",
    "We first need to update some variables:"
   ]
  },
  {
   "cell_type": "code",
   "execution_count": null,
   "id": "bdb81227",
   "metadata": {},
   "outputs": [],
   "source": [
    "# the mass of naphthalene\n",
    "mass_N2 = \n",
    "\n",
    "# the mass of the wire combusted\n",
    "mass_wire = "
   ]
  },
  {
   "cell_type": "markdown",
   "id": "58f7ad82",
   "metadata": {},
   "source": [
    "Load the data:"
   ]
  },
  {
   "cell_type": "code",
   "execution_count": null,
   "id": "80c83c80",
   "metadata": {},
   "outputs": [],
   "source": [
    "# This code loads the file and stores the times and temperatures in two lists,\n",
    "\n",
    "t_N2 = []\n",
    "temp_N2 = []\n",
    "\n",
    "# Enter your filename in the quotes\n",
    "with open(\"\",'r') as inf:\n",
    "    for n, line in enumerate(inf):\n",
    "        line = line.strip().split(',')\n",
    "        if line[0] == '\\ufeff\"Latest: Time (s)\"':\n",
    "            continue\n",
    "        \n",
    "        if (n % 2) == 1:\n",
    "            t_N2.append(float(line[0]))\n",
    "            temp_N2.append(float(line[1]))\n",
    "                     \n",
    "t_N2 = np.asarray(t_N2)\n",
    "temp_N2 = np.asarray(temp_N2)"
   ]
  },
  {
   "cell_type": "markdown",
   "id": "b51c7746",
   "metadata": {},
   "source": [
    "Plot the entire run the cell below, putting time on the $x$-axis and temperature on the $y$-axis. We will run this plot as interactive, so you can run you cursor over specific points."
   ]
  },
  {
   "cell_type": "code",
   "execution_count": null,
   "id": "afef7d04",
   "metadata": {},
   "outputs": [],
   "source": []
  },
  {
   "cell_type": "markdown",
   "id": "73223b7d",
   "metadata": {},
   "source": [
    "Use your plot to find values of $T_A$, $T_B$, $T_C$, and $T_D$, as well as the associated times for each point. "
   ]
  },
  {
   "cell_type": "code",
   "execution_count": null,
   "id": "b6ff36cb",
   "metadata": {},
   "outputs": [],
   "source": [
    "t_A_2 = \n",
    "t_B_2 = \n",
    "t_C_2 = \n",
    "t_D_2 = \n",
    "\n",
    "temp_A_2 = temp_N2[t_A_2]\n",
    "temp_B_2 = temp_N2[t_B_2]\n",
    "temp_C_2 = temp_N2[t_C_2]\n",
    "temp_D_2 = temp_N2[t_D_2]"
   ]
  },
  {
   "cell_type": "markdown",
   "id": "9eff7f8e",
   "metadata": {},
   "source": [
    "Now build the AB and CD sublists"
   ]
  },
  {
   "cell_type": "code",
   "execution_count": null,
   "id": "762b1b24",
   "metadata": {},
   "outputs": [],
   "source": []
  },
  {
   "cell_type": "markdown",
   "id": "5448d12b",
   "metadata": {},
   "source": [
    "Compute $T_X$,"
   ]
  },
  {
   "cell_type": "code",
   "execution_count": null,
   "id": "73021c9c",
   "metadata": {},
   "outputs": [],
   "source": []
  },
  {
   "cell_type": "markdown",
   "id": "bdd0c587",
   "metadata": {},
   "source": [
    "Now we need to find the time, $t_x$, associated with this temperature. To do this, let's grab a few points around this temperature and to a linear fit by consulting our plot above. Let store these x and y values."
   ]
  },
  {
   "cell_type": "code",
   "execution_count": null,
   "id": "56291bb0",
   "metadata": {},
   "outputs": [],
   "source": []
  },
  {
   "cell_type": "markdown",
   "id": "6ff838f2",
   "metadata": {},
   "source": [
    "Use this line to get a value of $t_x$, where $t_x$ is the x-variable and $T_x$ is the y variable"
   ]
  },
  {
   "cell_type": "code",
   "execution_count": null,
   "id": "856d6acb",
   "metadata": {},
   "outputs": [],
   "source": []
  },
  {
   "cell_type": "markdown",
   "id": "ca098965",
   "metadata": {},
   "source": [
    "Now, subtract $t_x$ from the x values of your AB and CD lists. Then, when you do the fits on these lists, your y-intercetps will be $T_H$ and $T_L$."
   ]
  },
  {
   "cell_type": "code",
   "execution_count": null,
   "id": "45af98cb",
   "metadata": {},
   "outputs": [],
   "source": []
  },
  {
   "cell_type": "markdown",
   "id": "9d73c6c3",
   "metadata": {},
   "source": [
    "Perform the two needed fits, first on the AB segment, then on the CD segment. Be sure to store the appropriate $x$- and $y$-intercepts as $T_H$ and $T_L$. Use these to compute $\\Delta T$, and use however many cells you need."
   ]
  },
  {
   "cell_type": "code",
   "execution_count": null,
   "id": "e6c42f24",
   "metadata": {},
   "outputs": [],
   "source": []
  },
  {
   "cell_type": "code",
   "execution_count": null,
   "id": "ba5a3f41",
   "metadata": {},
   "outputs": [],
   "source": []
  },
  {
   "cell_type": "markdown",
   "id": "f2e375b7",
   "metadata": {},
   "source": [
    "### B. Heat evolved from the sample\n",
    "\n",
    "Use the fact that,\n",
    "$$q_{\\rm{surr}} = C\\Delta T$$\n",
    "and $$q_{\\rm{surr}} = q_{\\rm{surr,wire}} + q_{\\rm{surr,N}}$$\n",
    "to determine $q_{\\rm{surr,N}}$. This is the heat gained by the surroundings due to the combustion of naphthalene."
   ]
  },
  {
   "cell_type": "code",
   "execution_count": null,
   "id": "723ce138",
   "metadata": {},
   "outputs": [],
   "source": []
  },
  {
   "cell_type": "markdown",
   "id": "3cafbae4",
   "metadata": {},
   "source": [
    "Using $q_{\\rm{surr,N}}$, compute $q_{\\rm{c,N}}$, the heat evolved from the combustion of naphthalene."
   ]
  },
  {
   "cell_type": "code",
   "execution_count": null,
   "id": "b252f9d2",
   "metadata": {},
   "outputs": [],
   "source": []
  },
  {
   "cell_type": "markdown",
   "id": "65f9e6c5",
   "metadata": {},
   "source": [
    "### C. Internal energy of combustion $\\Delta U$\n",
    "\n",
    "Divide the heat evolved, $q_{\\rm{c,N}}$ by the number of moles and convert the result to kJ/mol to calculate $\\Delta U$."
   ]
  },
  {
   "cell_type": "code",
   "execution_count": null,
   "id": "1aeaa433",
   "metadata": {},
   "outputs": [],
   "source": []
  },
  {
   "cell_type": "markdown",
   "id": "cd7707be",
   "metadata": {},
   "source": [
    "### D.  The enthalpy of combustion, $\\Delta H_{\\rm{c,N}}$\n",
    "\n",
    "To determine the molar $\\Delta H_{\\rm{c,N}}$ from $\\Delta U$, we use the relation,\n",
    "$$\\Delta H = \\Delta U + \\Delta pV$$\n",
    "since pressure-volume work is applied. In this case, we will use the ideal gas law to approximate $\\Delta pV$ with $\\Delta (nRT)$ since we do not know the pressure. Since the temperature rise is relatively small (in K), we can approximate $T$ using $T_X$ and get $\\Delta pV = RT_X\\Delta n$, where $\\Delta n$ is the number of moles of gas in the combustion reaction minus the number of moles of oxygen needed.  \n",
    "\n",
    "In the cell below, compute $\\Delta pV$ using $RT_X\\Delta n$. Be sure to have $T_X$ in K. "
   ]
  },
  {
   "cell_type": "code",
   "execution_count": null,
   "id": "dd8d900a",
   "metadata": {},
   "outputs": [],
   "source": []
  },
  {
   "cell_type": "markdown",
   "id": "0221a9dd",
   "metadata": {},
   "source": [
    "Use your value of $\\Delta pV$ to compute $\\Delta H_{\\rm{c,N}}$."
   ]
  },
  {
   "cell_type": "code",
   "execution_count": null,
   "id": "5ea64303",
   "metadata": {},
   "outputs": [],
   "source": []
  },
  {
   "cell_type": "markdown",
   "id": "06ca3183",
   "metadata": {},
   "source": [
    "### C. Internal energy of combustion $\\Delta U$\n",
    "\n",
    "Divide the heat evolved, $q_{\\rm{c,N}}$ by the number of moles and convert the result to kJ/mol to calculate $\\Delta U$."
   ]
  },
  {
   "cell_type": "code",
   "execution_count": null,
   "id": "c91c9484",
   "metadata": {},
   "outputs": [],
   "source": []
  },
  {
   "cell_type": "markdown",
   "id": "e17d39c4",
   "metadata": {},
   "source": [
    "### D.  The enthalpy of combustion, $\\Delta H_{\\rm{c,N}}$\n",
    "\n",
    "To determine the molar $\\Delta H_{\\rm{c,N}}$ from $\\Delta U$, we use the relation,\n",
    "$$\\Delta H = \\Delta U + \\Delta pV$$\n",
    "since pressure-volume work is applied. In this case, we will use the ideal gas law to approximate $\\Delta pV$ with $\\Delta (nRT)$ since we do not know the pressure. Since the temperature rise is relatively small (in K), we can approximate $T$ using $T_X$ and get $\\Delta pV = RT_X\\Delta n$, where $\\Delta n$ is the number of moles of gas in the combustion reaction minus the number of moles of oxygen needed.  \n",
    "\n",
    "In the cell below, compute $\\Delta pV$ using $RT_X\\Delta n$. Be sure to have $T_X$ in K. "
   ]
  },
  {
   "cell_type": "code",
   "execution_count": null,
   "id": "23cc652e",
   "metadata": {},
   "outputs": [],
   "source": []
  },
  {
   "cell_type": "markdown",
   "id": "4671192f",
   "metadata": {},
   "source": [
    "Use your value of $\\Delta pV$ to compute $\\Delta H_{\\rm{c,N}}$."
   ]
  },
  {
   "cell_type": "code",
   "execution_count": null,
   "id": "763f7acb",
   "metadata": {},
   "outputs": [],
   "source": []
  },
  {
   "cell_type": "markdown",
   "id": "17623696",
   "metadata": {},
   "source": [
    "## 4. Azulene Run"
   ]
  },
  {
   "cell_type": "code",
   "execution_count": null,
   "id": "cc388d03",
   "metadata": {},
   "outputs": [],
   "source": [
    "# the mass of azulene\n",
    "mass_A2 = \n",
    "\n",
    "# the mass of the wire combusted\n",
    "mass_wire = "
   ]
  },
  {
   "cell_type": "markdown",
   "id": "c81e95ab",
   "metadata": {},
   "source": [
    "Load the data:"
   ]
  },
  {
   "cell_type": "code",
   "execution_count": null,
   "id": "ee28279a",
   "metadata": {},
   "outputs": [],
   "source": [
    "# This code loads the file and stores the times and temperatures in two lists,\n",
    "\n",
    "t_A = []\n",
    "temp_A = []\n",
    "\n",
    "# Enter your filename in the quotes\n",
    "with open(\"\",'r') as inf:\n",
    "    for n, line in enumerate(inf):\n",
    "        line = line.strip().split(',')\n",
    "        if line[0] == '\\ufeff\"Latest: Time (s)\"':\n",
    "            continue\n",
    "        \n",
    "        if (n % 2) == 1:\n",
    "            t_N2.append(float(line[0]))\n",
    "            temp_N2.append(float(line[1]))\n",
    "                     \n",
    "t_A = np.asarray(t_A)\n",
    "temp_A = np.asarray(temp_A)"
   ]
  },
  {
   "cell_type": "markdown",
   "id": "3558dd5a",
   "metadata": {},
   "source": [
    "Plot the entire run the cell below, putting time on the $x$-axis and temperature on the $y$-axis. We will run this plot as interactive, so you can run you cursor over specific points."
   ]
  },
  {
   "cell_type": "code",
   "execution_count": null,
   "id": "134eb496",
   "metadata": {},
   "outputs": [],
   "source": []
  },
  {
   "cell_type": "markdown",
   "id": "542b638a",
   "metadata": {},
   "source": [
    "Use your plot to find values of $T_A$, $T_B$, $T_C$, and $T_D$, as well as the associated times for each point. "
   ]
  },
  {
   "cell_type": "code",
   "execution_count": null,
   "id": "2933d8ba",
   "metadata": {},
   "outputs": [],
   "source": [
    "t_A = \n",
    "t_B = \n",
    "t_C = \n",
    "t_D = \n",
    "\n",
    "temp_A = temp_A[t_A]\n",
    "temp_B = temp_A[t_B]\n",
    "temp_C = temp_A[t_C]\n",
    "temp_D = temp_A[t_D]"
   ]
  },
  {
   "cell_type": "markdown",
   "id": "3f3740cc",
   "metadata": {},
   "source": [
    "Now build the AB and CD sublists"
   ]
  },
  {
   "cell_type": "code",
   "execution_count": null,
   "id": "dd00cd4e",
   "metadata": {},
   "outputs": [],
   "source": []
  },
  {
   "cell_type": "markdown",
   "id": "09f0b3ab",
   "metadata": {},
   "source": [
    "Compute $T_X$,"
   ]
  },
  {
   "cell_type": "code",
   "execution_count": null,
   "id": "ec07a452",
   "metadata": {},
   "outputs": [],
   "source": []
  },
  {
   "cell_type": "markdown",
   "id": "df6e5e51",
   "metadata": {},
   "source": [
    "Now we need to find the time, $t_x$, associated with this temperature. To do this, let's grab a few points around this temperature and to a linear fit by consulting our plot above. Let store these x and y values."
   ]
  },
  {
   "cell_type": "code",
   "execution_count": null,
   "id": "7550b0e0",
   "metadata": {},
   "outputs": [],
   "source": []
  },
  {
   "cell_type": "markdown",
   "id": "1fcff148",
   "metadata": {},
   "source": [
    "Use this line to get a value of $t_x$, where $t_x$ is the x-variable and $T_x$ is the y variable"
   ]
  },
  {
   "cell_type": "code",
   "execution_count": null,
   "id": "b8e4cbb9",
   "metadata": {},
   "outputs": [],
   "source": []
  },
  {
   "cell_type": "markdown",
   "id": "bd61d152",
   "metadata": {},
   "source": [
    "Now, subtract $t_x$ from the x values of your AB and CD lists. Then, when you do the fits on these lists, your y-intercetps will be $T_H$ and $T_L$."
   ]
  },
  {
   "cell_type": "code",
   "execution_count": null,
   "id": "d4564a9b",
   "metadata": {},
   "outputs": [],
   "source": []
  },
  {
   "cell_type": "markdown",
   "id": "db2c479f",
   "metadata": {},
   "source": [
    "Perform the two needed fits, first on the AB segment, then on the CD segment. Be sure to store the appropriate $x$- and $y$-intercepts as $T_H$ and $T_L$. Use these to compute $\\Delta T$, and use however many cells you need."
   ]
  },
  {
   "cell_type": "code",
   "execution_count": null,
   "id": "15cb0f2b",
   "metadata": {},
   "outputs": [],
   "source": []
  },
  {
   "cell_type": "code",
   "execution_count": null,
   "id": "982e8821",
   "metadata": {},
   "outputs": [],
   "source": []
  },
  {
   "cell_type": "markdown",
   "id": "c2c83f43",
   "metadata": {},
   "source": [
    "### B. Heat evolved from the sample\n",
    "\n",
    "Use the fact that,\n",
    "$$q_{\\rm{surr}} = C\\Delta T$$\n",
    "and $$q_{\\rm{surr}} = q_{\\rm{surr,wire}} + q_{\\rm{surr,N}}$$\n",
    "to determine $q_{\\rm{surr,N}}$. This is the heat gained by the surroundings due to the combustion of azulene."
   ]
  },
  {
   "cell_type": "code",
   "execution_count": null,
   "id": "34ec632c",
   "metadata": {},
   "outputs": [],
   "source": []
  },
  {
   "cell_type": "markdown",
   "id": "30f6459f",
   "metadata": {},
   "source": [
    "Using $q_{\\rm{surr,N}}$, compute $q_{\\rm{c,N}}$, the heat evolved from the combustion of azulene."
   ]
  },
  {
   "cell_type": "code",
   "execution_count": null,
   "id": "5a093377",
   "metadata": {},
   "outputs": [],
   "source": []
  },
  {
   "cell_type": "markdown",
   "id": "1a7e54fd",
   "metadata": {},
   "source": [
    "### C. Internal energy of combustion $\\Delta U$\n",
    "\n",
    "Divide the heat evolved, $q_{\\rm{c,N}}$ by the number of moles and convert the result to kJ/mol to calculate $\\Delta U$."
   ]
  },
  {
   "cell_type": "code",
   "execution_count": null,
   "id": "7fdffd8b",
   "metadata": {},
   "outputs": [],
   "source": []
  },
  {
   "cell_type": "markdown",
   "id": "1e52f1bd",
   "metadata": {},
   "source": [
    "### D.  The enthalpy of combustion, $\\Delta H_{\\rm{c,N}}$\n",
    "\n",
    "To determine the molar $\\Delta H_{\\rm{c,N}}$ from $\\Delta U$, we use the relation,\n",
    "$$\\Delta H = \\Delta U + \\Delta pV$$\n",
    "since pressure-volume work is applied. In this case, we will use the ideal gas law to approximate $\\Delta pV$ with $\\Delta (nRT)$ since we do not know the pressure. Since the temperature rise is relatively small (in K), we can approximate $T$ using $T_X$ and get $\\Delta pV = RT_X\\Delta n$, where $\\Delta n$ is the number of moles of gas in the combustion reaction minus the number of moles of oxygen needed.  \n",
    "\n",
    "In the cell below, compute $\\Delta pV$ using $RT_X\\Delta n$. Be sure to have $T_X$ in K. "
   ]
  },
  {
   "cell_type": "code",
   "execution_count": null,
   "id": "0acb0bc6",
   "metadata": {},
   "outputs": [],
   "source": []
  },
  {
   "cell_type": "markdown",
   "id": "c9e8e1bb",
   "metadata": {},
   "source": [
    "Use your value of $\\Delta pV$ to compute $\\Delta H_{\\rm{c,N}}$."
   ]
  },
  {
   "cell_type": "code",
   "execution_count": null,
   "id": "c00d1cd4",
   "metadata": {},
   "outputs": [],
   "source": []
  },
  {
   "cell_type": "markdown",
   "id": "608b295c",
   "metadata": {},
   "source": [
    "### C. Internal energy of combustion $\\Delta U$\n",
    "\n",
    "Divide the heat evolved, $q_{\\rm{c,N}}$ by the number of moles and convert the result to kJ/mol to calculate $\\Delta U$."
   ]
  },
  {
   "cell_type": "code",
   "execution_count": null,
   "id": "78e538d3",
   "metadata": {},
   "outputs": [],
   "source": []
  },
  {
   "cell_type": "markdown",
   "id": "ff20c71d",
   "metadata": {},
   "source": [
    "### D.  The enthalpy of combustion, $\\Delta H_{\\rm{c,A}}$\n",
    "\n",
    "To determine the molar $\\Delta H_{\\rm{c,A}}$ from $\\Delta U$, we use the relation,\n",
    "$$\\Delta H = \\Delta U + \\Delta pV$$\n",
    "since pressure-volume work is applied. In this case, we will use the ideal gas law to approximate $\\Delta pV$ with $\\Delta (nRT)$ since we do not know the pressure. Since the temperature rise is relatively small (in K), we can approximate $T$ using $T_X$ and get $\\Delta pV = RT_X\\Delta n$, where $\\Delta n$ is the number of moles of gas in the combustion reaction minus the number of moles of oxygen needed.  \n",
    "\n",
    "In the cell below, compute $\\Delta pV$ using $RT_X\\Delta n$. Be sure to have $T_X$ in K. "
   ]
  },
  {
   "cell_type": "code",
   "execution_count": null,
   "id": "7b54cd48",
   "metadata": {},
   "outputs": [],
   "source": []
  },
  {
   "cell_type": "markdown",
   "id": "851654c1",
   "metadata": {},
   "source": [
    "Use your value of $\\Delta pV$ to compute $\\Delta H_{\\rm{c,A}}$."
   ]
  },
  {
   "cell_type": "code",
   "execution_count": null,
   "id": "cd65a30f",
   "metadata": {},
   "outputs": [],
   "source": []
  },
  {
   "cell_type": "markdown",
   "id": "e42e20e0",
   "metadata": {},
   "source": [
    "## Enthalpy of Isomerization\n",
    "\n",
    "In the cell below, compute the average and standard deviation of the mean of your two $H_{\\rm{c,N}}$ values."
   ]
  },
  {
   "cell_type": "code",
   "execution_count": null,
   "id": "ab80bf9e",
   "metadata": {},
   "outputs": [],
   "source": []
  },
  {
   "cell_type": "markdown",
   "id": "23f45ccb",
   "metadata": {},
   "source": [
    "Compute the enthalpy of isomerization, $\\Delta H_{\\rm{iso,A\\rightarrow N}} = \\Delta H_{\\rm{c,A}} - \\Delta H_{\\rm{c,N}}$"
   ]
  },
  {
   "cell_type": "code",
   "execution_count": null,
   "id": "d01f2396",
   "metadata": {},
   "outputs": [],
   "source": []
  },
  {
   "cell_type": "markdown",
   "id": "73adc56a",
   "metadata": {},
   "source": [
    "Fill out the following table, using NIST to obtain reference values"
   ]
  },
  {
   "cell_type": "markdown",
   "id": "05e496fc",
   "metadata": {},
   "source": [
    "| | Experimental (kJ/mol) | Lit. (kJ/mol) |\n",
    "|-|-|-|\n",
    "|$\\Delta H_{\\rm{c,N}}$ | | |\n",
    "|$\\Delta H_{\\rm{c,A}}$ | | |\n",
    "|$\\Delta H_{\\rm{iso,A\\rightarrow N}}$ | | |"
   ]
  },
  {
   "cell_type": "code",
   "execution_count": null,
   "id": "0201f2e3",
   "metadata": {},
   "outputs": [],
   "source": []
  }
 ],
 "metadata": {
  "kernelspec": {
   "display_name": "Python 3 (ipykernel)",
   "language": "python",
   "name": "python3"
  },
  "language_info": {
   "codemirror_mode": {
    "name": "ipython",
    "version": 3
   },
   "file_extension": ".py",
   "mimetype": "text/x-python",
   "name": "python",
   "nbconvert_exporter": "python",
   "pygments_lexer": "ipython3",
   "version": "3.9.18"
  }
 },
 "nbformat": 4,
 "nbformat_minor": 5
}
